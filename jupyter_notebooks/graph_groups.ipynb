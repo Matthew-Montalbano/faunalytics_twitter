{
 "cells": [
  {
   "cell_type": "code",
   "execution_count": 1,
   "metadata": {},
   "outputs": [],
   "source": [
    "import pandas as pd\n",
    "import re\n",
    "import datetime\n",
    "import plotly.graph_objs as go\n",
    "import plotly.express as px\n",
    "import os"
   ]
  },
  {
   "cell_type": "code",
   "execution_count": 2,
   "metadata": {},
   "outputs": [],
   "source": [
    "SOURCE = \"F:/Users/mmatt_000/Faunalytics/all_data/all_csv/cleaned_csv\""
   ]
  },
  {
   "cell_type": "code",
   "execution_count": 3,
   "metadata": {},
   "outputs": [],
   "source": [
    "file_data = []\n",
    "for file in os.listdir(SOURCE):\n",
    "    data = pd.read_csv(SOURCE + \"/\" + file)\n",
    "    file_data.append(data)"
   ]
  },
  {
   "cell_type": "code",
   "execution_count": 4,
   "metadata": {},
   "outputs": [],
   "source": [
    "all_data = pd.concat(file_data, ignore_index=True)"
   ]
  },
  {
   "cell_type": "code",
   "execution_count": 5,
   "metadata": {},
   "outputs": [
    {
     "data": {
      "text/html": [
       "<div>\n",
       "<style scoped>\n",
       "    .dataframe tbody tr th:only-of-type {\n",
       "        vertical-align: middle;\n",
       "    }\n",
       "\n",
       "    .dataframe tbody tr th {\n",
       "        vertical-align: top;\n",
       "    }\n",
       "\n",
       "    .dataframe thead th {\n",
       "        text-align: right;\n",
       "    }\n",
       "</style>\n",
       "<table border=\"1\" class=\"dataframe\">\n",
       "  <thead>\n",
       "    <tr style=\"text-align: right;\">\n",
       "      <th></th>\n",
       "      <th>screen_name</th>\n",
       "      <th>text</th>\n",
       "      <th>favorite_count</th>\n",
       "      <th>retweet_count</th>\n",
       "      <th>date_time</th>\n",
       "      <th>category</th>\n",
       "    </tr>\n",
       "  </thead>\n",
       "  <tbody>\n",
       "    <tr>\n",
       "      <td>0</td>\n",
       "      <td>SammyTherese</td>\n",
       "      <td>@AnimalLeague And 85 likes and 1 comment. No o...</td>\n",
       "      <td>2</td>\n",
       "      <td>0</td>\n",
       "      <td>Sun Feb 03 23:59 2019</td>\n",
       "      <td>cage-free</td>\n",
       "    </tr>\n",
       "    <tr>\n",
       "      <td>1</td>\n",
       "      <td>zGCSKd8udxyCO9V</td>\n",
       "      <td>RT @ciwf See the world through their eyes… \\n\\...</td>\n",
       "      <td>0</td>\n",
       "      <td>178</td>\n",
       "      <td>Sun Feb 03 23:59 2019</td>\n",
       "      <td>cage-free</td>\n",
       "    </tr>\n",
       "    <tr>\n",
       "      <td>2</td>\n",
       "      <td>WhistlingWhist</td>\n",
       "      <td>RT @Jennsworld1 An invite to a party by Emanue...</td>\n",
       "      <td>0</td>\n",
       "      <td>5</td>\n",
       "      <td>Sun Feb 03 23:59 2019</td>\n",
       "      <td>cage-free</td>\n",
       "    </tr>\n",
       "    <tr>\n",
       "      <td>3</td>\n",
       "      <td>genya4444</td>\n",
       "      <td>RT @altusda Extremely disturbing story about B...</td>\n",
       "      <td>0</td>\n",
       "      <td>62</td>\n",
       "      <td>Sun Feb 03 23:58 2019</td>\n",
       "      <td>cage-free</td>\n",
       "    </tr>\n",
       "    <tr>\n",
       "      <td>4</td>\n",
       "      <td>MeZausted</td>\n",
       "      <td>RT @finnforchange #FinnHour\\n\\nThe @scotgov ha...</td>\n",
       "      <td>0</td>\n",
       "      <td>41</td>\n",
       "      <td>Sun Feb 03 23:58 2019</td>\n",
       "      <td>cage-free</td>\n",
       "    </tr>\n",
       "    <tr>\n",
       "      <td>...</td>\n",
       "      <td>...</td>\n",
       "      <td>...</td>\n",
       "      <td>...</td>\n",
       "      <td>...</td>\n",
       "      <td>...</td>\n",
       "      <td>...</td>\n",
       "    </tr>\n",
       "    <tr>\n",
       "      <td>10993286</td>\n",
       "      <td>CashewsOlives</td>\n",
       "      <td>Get ready for Taco Tuesday with these #Plantba...</td>\n",
       "      <td>1</td>\n",
       "      <td>0</td>\n",
       "      <td>Tue Mar 03 00:00 2020</td>\n",
       "      <td>vegan</td>\n",
       "    </tr>\n",
       "    <tr>\n",
       "      <td>10993287</td>\n",
       "      <td>FocoSmart</td>\n",
       "      <td>Plant-based diets and burgers have grown in po...</td>\n",
       "      <td>0</td>\n",
       "      <td>0</td>\n",
       "      <td>Tue Mar 03 00:00 2020</td>\n",
       "      <td>vegan</td>\n",
       "    </tr>\n",
       "    <tr>\n",
       "      <td>10993288</td>\n",
       "      <td>AmericanSoWoke</td>\n",
       "      <td>Try being Vegan while surviving in the jungle....</td>\n",
       "      <td>2</td>\n",
       "      <td>0</td>\n",
       "      <td>Tue Mar 03 00:00 2020</td>\n",
       "      <td>vegan</td>\n",
       "    </tr>\n",
       "    <tr>\n",
       "      <td>10993289</td>\n",
       "      <td>anayesenia80</td>\n",
       "      <td>I think I need to go vegan 🥴 my stomach just d...</td>\n",
       "      <td>0</td>\n",
       "      <td>0</td>\n",
       "      <td>Tue Mar 03 00:00 2020</td>\n",
       "      <td>vegan</td>\n",
       "    </tr>\n",
       "    <tr>\n",
       "      <td>10993290</td>\n",
       "      <td>MistralKDawn</td>\n",
       "      <td>Sweet And Spicy Rice And Vegetable #Recipe!\\n\\...</td>\n",
       "      <td>0</td>\n",
       "      <td>1</td>\n",
       "      <td>Tue Mar 03 00:00 2020</td>\n",
       "      <td>vegan</td>\n",
       "    </tr>\n",
       "  </tbody>\n",
       "</table>\n",
       "<p>10993291 rows × 6 columns</p>\n",
       "</div>"
      ],
      "text/plain": [
       "              screen_name                                               text  \\\n",
       "0            SammyTherese  @AnimalLeague And 85 likes and 1 comment. No o...   \n",
       "1         zGCSKd8udxyCO9V  RT @ciwf See the world through their eyes… \\n\\...   \n",
       "2          WhistlingWhist  RT @Jennsworld1 An invite to a party by Emanue...   \n",
       "3               genya4444  RT @altusda Extremely disturbing story about B...   \n",
       "4               MeZausted  RT @finnforchange #FinnHour\\n\\nThe @scotgov ha...   \n",
       "...                   ...                                                ...   \n",
       "10993286    CashewsOlives  Get ready for Taco Tuesday with these #Plantba...   \n",
       "10993287        FocoSmart  Plant-based diets and burgers have grown in po...   \n",
       "10993288   AmericanSoWoke  Try being Vegan while surviving in the jungle....   \n",
       "10993289     anayesenia80  I think I need to go vegan 🥴 my stomach just d...   \n",
       "10993290     MistralKDawn  Sweet And Spicy Rice And Vegetable #Recipe!\\n\\...   \n",
       "\n",
       "          favorite_count  retweet_count              date_time   category  \n",
       "0                      2              0  Sun Feb 03 23:59 2019  cage-free  \n",
       "1                      0            178  Sun Feb 03 23:59 2019  cage-free  \n",
       "2                      0              5  Sun Feb 03 23:59 2019  cage-free  \n",
       "3                      0             62  Sun Feb 03 23:58 2019  cage-free  \n",
       "4                      0             41  Sun Feb 03 23:58 2019  cage-free  \n",
       "...                  ...            ...                    ...        ...  \n",
       "10993286               1              0  Tue Mar 03 00:00 2020      vegan  \n",
       "10993287               0              0  Tue Mar 03 00:00 2020      vegan  \n",
       "10993288               2              0  Tue Mar 03 00:00 2020      vegan  \n",
       "10993289               0              0  Tue Mar 03 00:00 2020      vegan  \n",
       "10993290               0              1  Tue Mar 03 00:00 2020      vegan  \n",
       "\n",
       "[10993291 rows x 6 columns]"
      ]
     },
     "execution_count": 5,
     "metadata": {},
     "output_type": "execute_result"
    }
   ],
   "source": [
    "all_data"
   ]
  },
  {
   "cell_type": "code",
   "execution_count": 6,
   "metadata": {},
   "outputs": [],
   "source": [
    "months = {\"Jan\": 1, \"Feb\": 2, \"Mar\": 3, \"Apr\": 4, \"May\": 5, \"Jun\": 6, \"Jul\": 7, \"Aug\": 8, \"Sep\": 9, \"Oct\": 10, \"Nov\": 11, \"Dec\": 12}\n",
    "def convert_to_dateObject(string):\n",
    "    regex = '\\w+\\s(\\w+)\\s(\\d+)\\s\\d+:\\d+\\s(\\d+)'\n",
    "    match = re.match(regex, string)\n",
    "    month = months[match[1]]\n",
    "    day = int(match[2])\n",
    "    year = int(match[3])\n",
    "    return datetime.date(year, month, day)\n",
    "\n",
    "all_data['date_time'] = list(map(convert_to_dateObject, all_data['date_time']))"
   ]
  },
  {
   "cell_type": "code",
   "execution_count": 7,
   "metadata": {},
   "outputs": [],
   "source": [
    "dti = pd.to_datetime(all_data['date_time'])\n",
    "all_data['date_time'] = dti"
   ]
  },
  {
   "cell_type": "code",
   "execution_count": 8,
   "metadata": {},
   "outputs": [
    {
     "data": {
      "text/html": [
       "<div>\n",
       "<style scoped>\n",
       "    .dataframe tbody tr th:only-of-type {\n",
       "        vertical-align: middle;\n",
       "    }\n",
       "\n",
       "    .dataframe tbody tr th {\n",
       "        vertical-align: top;\n",
       "    }\n",
       "\n",
       "    .dataframe thead th {\n",
       "        text-align: right;\n",
       "    }\n",
       "</style>\n",
       "<table border=\"1\" class=\"dataframe\">\n",
       "  <thead>\n",
       "    <tr style=\"text-align: right;\">\n",
       "      <th></th>\n",
       "      <th>screen_name</th>\n",
       "      <th>text</th>\n",
       "      <th>favorite_count</th>\n",
       "      <th>retweet_count</th>\n",
       "      <th>date_time</th>\n",
       "      <th>category</th>\n",
       "    </tr>\n",
       "  </thead>\n",
       "  <tbody>\n",
       "    <tr>\n",
       "      <td>1620</td>\n",
       "      <td>BJanice4</td>\n",
       "      <td>@JuliaHB1 @positive4uk Yes, if Billns, Bill Ga...</td>\n",
       "      <td>1</td>\n",
       "      <td>0</td>\n",
       "      <td>2019-02-03</td>\n",
       "      <td>clean_meat</td>\n",
       "    </tr>\n",
       "    <tr>\n",
       "      <td>1621</td>\n",
       "      <td>HMRothmandc</td>\n",
       "      <td>USDA, FDA to Advance Plan to Regulate Lab-Grow...</td>\n",
       "      <td>1</td>\n",
       "      <td>0</td>\n",
       "      <td>2019-02-03</td>\n",
       "      <td>clean_meat</td>\n",
       "    </tr>\n",
       "    <tr>\n",
       "      <td>1622</td>\n",
       "      <td>palpina_</td>\n",
       "      <td>RT @WIRED Lab-grown meat is coming, whether yo...</td>\n",
       "      <td>0</td>\n",
       "      <td>200</td>\n",
       "      <td>2019-02-03</td>\n",
       "      <td>clean_meat</td>\n",
       "    </tr>\n",
       "    <tr>\n",
       "      <td>1623</td>\n",
       "      <td>Michael49954987</td>\n",
       "      <td>@99freemind Soon we'll all be eating lab grown...</td>\n",
       "      <td>0</td>\n",
       "      <td>0</td>\n",
       "      <td>2019-02-03</td>\n",
       "      <td>clean_meat</td>\n",
       "    </tr>\n",
       "    <tr>\n",
       "      <td>1624</td>\n",
       "      <td>figureoutfood</td>\n",
       "      <td>RT @SustainableDish We don’t need lab meat. We...</td>\n",
       "      <td>0</td>\n",
       "      <td>89</td>\n",
       "      <td>2019-02-03</td>\n",
       "      <td>clean_meat</td>\n",
       "    </tr>\n",
       "    <tr>\n",
       "      <td>...</td>\n",
       "      <td>...</td>\n",
       "      <td>...</td>\n",
       "      <td>...</td>\n",
       "      <td>...</td>\n",
       "      <td>...</td>\n",
       "      <td>...</td>\n",
       "    </tr>\n",
       "    <tr>\n",
       "      <td>10965336</td>\n",
       "      <td>SeafoodHeadline</td>\n",
       "      <td>Lab-grown fish company to launch cell-based se...</td>\n",
       "      <td>0</td>\n",
       "      <td>0</td>\n",
       "      <td>2020-03-03</td>\n",
       "      <td>clean_meat</td>\n",
       "    </tr>\n",
       "    <tr>\n",
       "      <td>10965337</td>\n",
       "      <td>joan_rollins</td>\n",
       "      <td>@FriendEden100 Oh Woopdy-doo for the super-Cle...</td>\n",
       "      <td>4</td>\n",
       "      <td>0</td>\n",
       "      <td>2020-03-03</td>\n",
       "      <td>clean_meat</td>\n",
       "    </tr>\n",
       "    <tr>\n",
       "      <td>10965338</td>\n",
       "      <td>gjk100</td>\n",
       "      <td>@TheCriteri0n @AtheismMyths @SecularDon @Babor...</td>\n",
       "      <td>0</td>\n",
       "      <td>0</td>\n",
       "      <td>2020-03-03</td>\n",
       "      <td>clean_meat</td>\n",
       "    </tr>\n",
       "    <tr>\n",
       "      <td>10965339</td>\n",
       "      <td>informingchoice</td>\n",
       "      <td>How might technological innovations impact the...</td>\n",
       "      <td>0</td>\n",
       "      <td>0</td>\n",
       "      <td>2020-03-03</td>\n",
       "      <td>clean_meat</td>\n",
       "    </tr>\n",
       "    <tr>\n",
       "      <td>10965340</td>\n",
       "      <td>gosuperhuman</td>\n",
       "      <td>“The foods that we eat have a tremendous impac...</td>\n",
       "      <td>2</td>\n",
       "      <td>0</td>\n",
       "      <td>2020-03-03</td>\n",
       "      <td>clean_meat</td>\n",
       "    </tr>\n",
       "  </tbody>\n",
       "</table>\n",
       "<p>34600 rows × 6 columns</p>\n",
       "</div>"
      ],
      "text/plain": [
       "              screen_name                                               text  \\\n",
       "1620             BJanice4  @JuliaHB1 @positive4uk Yes, if Billns, Bill Ga...   \n",
       "1621          HMRothmandc  USDA, FDA to Advance Plan to Regulate Lab-Grow...   \n",
       "1622             palpina_  RT @WIRED Lab-grown meat is coming, whether yo...   \n",
       "1623      Michael49954987  @99freemind Soon we'll all be eating lab grown...   \n",
       "1624        figureoutfood  RT @SustainableDish We don’t need lab meat. We...   \n",
       "...                   ...                                                ...   \n",
       "10965336  SeafoodHeadline  Lab-grown fish company to launch cell-based se...   \n",
       "10965337     joan_rollins  @FriendEden100 Oh Woopdy-doo for the super-Cle...   \n",
       "10965338           gjk100  @TheCriteri0n @AtheismMyths @SecularDon @Babor...   \n",
       "10965339  informingchoice  How might technological innovations impact the...   \n",
       "10965340     gosuperhuman  “The foods that we eat have a tremendous impac...   \n",
       "\n",
       "          favorite_count  retweet_count  date_time    category  \n",
       "1620                   1              0 2019-02-03  clean_meat  \n",
       "1621                   1              0 2019-02-03  clean_meat  \n",
       "1622                   0            200 2019-02-03  clean_meat  \n",
       "1623                   0              0 2019-02-03  clean_meat  \n",
       "1624                   0             89 2019-02-03  clean_meat  \n",
       "...                  ...            ...        ...         ...  \n",
       "10965336               0              0 2020-03-03  clean_meat  \n",
       "10965337               4              0 2020-03-03  clean_meat  \n",
       "10965338               0              0 2020-03-03  clean_meat  \n",
       "10965339               0              0 2020-03-03  clean_meat  \n",
       "10965340               2              0 2020-03-03  clean_meat  \n",
       "\n",
       "[34600 rows x 6 columns]"
      ]
     },
     "execution_count": 8,
     "metadata": {},
     "output_type": "execute_result"
    }
   ],
   "source": [
    "clean_meat_data = all_data[all_data['category'] == 'clean_meat']\n",
    "clean_meat_data"
   ]
  },
  {
   "cell_type": "code",
   "execution_count": 9,
   "metadata": {},
   "outputs": [
    {
     "data": {
      "text/html": [
       "<div>\n",
       "<style scoped>\n",
       "    .dataframe tbody tr th:only-of-type {\n",
       "        vertical-align: middle;\n",
       "    }\n",
       "\n",
       "    .dataframe tbody tr th {\n",
       "        vertical-align: top;\n",
       "    }\n",
       "\n",
       "    .dataframe thead th {\n",
       "        text-align: right;\n",
       "    }\n",
       "</style>\n",
       "<table border=\"1\" class=\"dataframe\">\n",
       "  <thead>\n",
       "    <tr style=\"text-align: right;\">\n",
       "      <th></th>\n",
       "      <th>screen_name</th>\n",
       "      <th>text</th>\n",
       "      <th>favorite_count</th>\n",
       "      <th>retweet_count</th>\n",
       "      <th>date_time</th>\n",
       "      <th>category</th>\n",
       "    </tr>\n",
       "  </thead>\n",
       "  <tbody>\n",
       "    <tr>\n",
       "      <td>0</td>\n",
       "      <td>SammyTherese</td>\n",
       "      <td>@AnimalLeague And 85 likes and 1 comment. No o...</td>\n",
       "      <td>2</td>\n",
       "      <td>0</td>\n",
       "      <td>2019-02-03</td>\n",
       "      <td>cage-free</td>\n",
       "    </tr>\n",
       "    <tr>\n",
       "      <td>1</td>\n",
       "      <td>zGCSKd8udxyCO9V</td>\n",
       "      <td>RT @ciwf See the world through their eyes… \\n\\...</td>\n",
       "      <td>0</td>\n",
       "      <td>178</td>\n",
       "      <td>2019-02-03</td>\n",
       "      <td>cage-free</td>\n",
       "    </tr>\n",
       "    <tr>\n",
       "      <td>2</td>\n",
       "      <td>WhistlingWhist</td>\n",
       "      <td>RT @Jennsworld1 An invite to a party by Emanue...</td>\n",
       "      <td>0</td>\n",
       "      <td>5</td>\n",
       "      <td>2019-02-03</td>\n",
       "      <td>cage-free</td>\n",
       "    </tr>\n",
       "    <tr>\n",
       "      <td>3</td>\n",
       "      <td>genya4444</td>\n",
       "      <td>RT @altusda Extremely disturbing story about B...</td>\n",
       "      <td>0</td>\n",
       "      <td>62</td>\n",
       "      <td>2019-02-03</td>\n",
       "      <td>cage-free</td>\n",
       "    </tr>\n",
       "    <tr>\n",
       "      <td>4</td>\n",
       "      <td>MeZausted</td>\n",
       "      <td>RT @finnforchange #FinnHour\\n\\nThe @scotgov ha...</td>\n",
       "      <td>0</td>\n",
       "      <td>41</td>\n",
       "      <td>2019-02-03</td>\n",
       "      <td>cage-free</td>\n",
       "    </tr>\n",
       "    <tr>\n",
       "      <td>...</td>\n",
       "      <td>...</td>\n",
       "      <td>...</td>\n",
       "      <td>...</td>\n",
       "      <td>...</td>\n",
       "      <td>...</td>\n",
       "      <td>...</td>\n",
       "    </tr>\n",
       "    <tr>\n",
       "      <td>10965294</td>\n",
       "      <td>choklit_froggie</td>\n",
       "      <td>The Prisoner of Azkaban highlights animal welf...</td>\n",
       "      <td>1</td>\n",
       "      <td>1</td>\n",
       "      <td>2020-03-03</td>\n",
       "      <td>cage-free</td>\n",
       "    </tr>\n",
       "    <tr>\n",
       "      <td>10965295</td>\n",
       "      <td>dwalshmedia</td>\n",
       "      <td>RT @dwalshmedia #art #animalart #animalwelfare...</td>\n",
       "      <td>0</td>\n",
       "      <td>1</td>\n",
       "      <td>2020-03-03</td>\n",
       "      <td>cage-free</td>\n",
       "    </tr>\n",
       "    <tr>\n",
       "      <td>10965296</td>\n",
       "      <td>thetomslatter</td>\n",
       "      <td>RT @Rob_Berry81 I'm glad the gov't has committ...</td>\n",
       "      <td>0</td>\n",
       "      <td>1</td>\n",
       "      <td>2020-03-03</td>\n",
       "      <td>cage-free</td>\n",
       "    </tr>\n",
       "    <tr>\n",
       "      <td>10965297</td>\n",
       "      <td>MancMal</td>\n",
       "      <td>RT @camelot0601 My understanding is that BJ/Cu...</td>\n",
       "      <td>0</td>\n",
       "      <td>3</td>\n",
       "      <td>2020-03-03</td>\n",
       "      <td>cage-free</td>\n",
       "    </tr>\n",
       "    <tr>\n",
       "      <td>10965298</td>\n",
       "      <td>MBurch22</td>\n",
       "      <td>@killemducks @mookjuice @ejmoore90 @Cernovich ...</td>\n",
       "      <td>0</td>\n",
       "      <td>0</td>\n",
       "      <td>2020-03-03</td>\n",
       "      <td>cage-free</td>\n",
       "    </tr>\n",
       "  </tbody>\n",
       "</table>\n",
       "<p>586409 rows × 6 columns</p>\n",
       "</div>"
      ],
      "text/plain": [
       "              screen_name                                               text  \\\n",
       "0            SammyTherese  @AnimalLeague And 85 likes and 1 comment. No o...   \n",
       "1         zGCSKd8udxyCO9V  RT @ciwf See the world through their eyes… \\n\\...   \n",
       "2          WhistlingWhist  RT @Jennsworld1 An invite to a party by Emanue...   \n",
       "3               genya4444  RT @altusda Extremely disturbing story about B...   \n",
       "4               MeZausted  RT @finnforchange #FinnHour\\n\\nThe @scotgov ha...   \n",
       "...                   ...                                                ...   \n",
       "10965294  choklit_froggie  The Prisoner of Azkaban highlights animal welf...   \n",
       "10965295      dwalshmedia  RT @dwalshmedia #art #animalart #animalwelfare...   \n",
       "10965296    thetomslatter  RT @Rob_Berry81 I'm glad the gov't has committ...   \n",
       "10965297          MancMal  RT @camelot0601 My understanding is that BJ/Cu...   \n",
       "10965298         MBurch22  @killemducks @mookjuice @ejmoore90 @Cernovich ...   \n",
       "\n",
       "          favorite_count  retweet_count  date_time   category  \n",
       "0                      2              0 2019-02-03  cage-free  \n",
       "1                      0            178 2019-02-03  cage-free  \n",
       "2                      0              5 2019-02-03  cage-free  \n",
       "3                      0             62 2019-02-03  cage-free  \n",
       "4                      0             41 2019-02-03  cage-free  \n",
       "...                  ...            ...        ...        ...  \n",
       "10965294               1              1 2020-03-03  cage-free  \n",
       "10965295               0              1 2020-03-03  cage-free  \n",
       "10965296               0              1 2020-03-03  cage-free  \n",
       "10965297               0              3 2020-03-03  cage-free  \n",
       "10965298               0              0 2020-03-03  cage-free  \n",
       "\n",
       "[586409 rows x 6 columns]"
      ]
     },
     "execution_count": 9,
     "metadata": {},
     "output_type": "execute_result"
    }
   ],
   "source": [
    "cage_free_data = all_data[all_data['category'] == 'cage-free']\n",
    "cage_free_data"
   ]
  },
  {
   "cell_type": "code",
   "execution_count": 10,
   "metadata": {},
   "outputs": [
    {
     "data": {
      "text/html": [
       "<div>\n",
       "<style scoped>\n",
       "    .dataframe tbody tr th:only-of-type {\n",
       "        vertical-align: middle;\n",
       "    }\n",
       "\n",
       "    .dataframe tbody tr th {\n",
       "        vertical-align: top;\n",
       "    }\n",
       "\n",
       "    .dataframe thead th {\n",
       "        text-align: right;\n",
       "    }\n",
       "</style>\n",
       "<table border=\"1\" class=\"dataframe\">\n",
       "  <thead>\n",
       "    <tr style=\"text-align: right;\">\n",
       "      <th></th>\n",
       "      <th>screen_name</th>\n",
       "      <th>text</th>\n",
       "      <th>favorite_count</th>\n",
       "      <th>retweet_count</th>\n",
       "      <th>date_time</th>\n",
       "      <th>category</th>\n",
       "    </tr>\n",
       "  </thead>\n",
       "  <tbody>\n",
       "    <tr>\n",
       "      <td>1657</td>\n",
       "      <td>dhardcastle2</td>\n",
       "      <td>RT @TomFitton I hope one day there is as much ...</td>\n",
       "      <td>0</td>\n",
       "      <td>3301</td>\n",
       "      <td>2019-02-03</td>\n",
       "      <td>eaa</td>\n",
       "    </tr>\n",
       "    <tr>\n",
       "      <td>1658</td>\n",
       "      <td>charlie_adler</td>\n",
       "      <td>RT @Protect_Wldlife Mussa's Story.\\n\\nWhenever...</td>\n",
       "      <td>0</td>\n",
       "      <td>4724</td>\n",
       "      <td>2019-02-03</td>\n",
       "      <td>eaa</td>\n",
       "    </tr>\n",
       "    <tr>\n",
       "      <td>1659</td>\n",
       "      <td>SchutteBeate</td>\n",
       "      <td>RT @animalprojectau Bobby calves, calves under...</td>\n",
       "      <td>0</td>\n",
       "      <td>4</td>\n",
       "      <td>2019-02-03</td>\n",
       "      <td>eaa</td>\n",
       "    </tr>\n",
       "    <tr>\n",
       "      <td>1660</td>\n",
       "      <td>SchutteBeate</td>\n",
       "      <td>RT @animalprojectau When we acknowledge all op...</td>\n",
       "      <td>0</td>\n",
       "      <td>2</td>\n",
       "      <td>2019-02-03</td>\n",
       "      <td>eaa</td>\n",
       "    </tr>\n",
       "    <tr>\n",
       "      <td>1661</td>\n",
       "      <td>DouglasJo456</td>\n",
       "      <td>RT @Zucchinisaurus Male chicks don’t produce e...</td>\n",
       "      <td>0</td>\n",
       "      <td>30</td>\n",
       "      <td>2019-02-03</td>\n",
       "      <td>eaa</td>\n",
       "    </tr>\n",
       "    <tr>\n",
       "      <td>...</td>\n",
       "      <td>...</td>\n",
       "      <td>...</td>\n",
       "      <td>...</td>\n",
       "      <td>...</td>\n",
       "      <td>...</td>\n",
       "      <td>...</td>\n",
       "    </tr>\n",
       "    <tr>\n",
       "      <td>10966225</td>\n",
       "      <td>SultryRobin</td>\n",
       "      <td>Chicago Resident Tells City Council What It’s ...</td>\n",
       "      <td>0</td>\n",
       "      <td>0</td>\n",
       "      <td>2020-03-03</td>\n",
       "      <td>eaa</td>\n",
       "    </tr>\n",
       "    <tr>\n",
       "      <td>10966226</td>\n",
       "      <td>Alaska213</td>\n",
       "      <td>@sararasmussenak @serkmann @WellsFargo By the ...</td>\n",
       "      <td>0</td>\n",
       "      <td>0</td>\n",
       "      <td>2020-03-03</td>\n",
       "      <td>eaa</td>\n",
       "    </tr>\n",
       "    <tr>\n",
       "      <td>10966227</td>\n",
       "      <td>Batmanwinskedo1</td>\n",
       "      <td>@debbie_prest @DennisMenace54 @RSN927 @Mattunc...</td>\n",
       "      <td>1</td>\n",
       "      <td>0</td>\n",
       "      <td>2020-03-03</td>\n",
       "      <td>eaa</td>\n",
       "    </tr>\n",
       "    <tr>\n",
       "      <td>10966228</td>\n",
       "      <td>4DropsOfJupiter</td>\n",
       "      <td>Hey @GeneralHospital that trophy animal being ...</td>\n",
       "      <td>4</td>\n",
       "      <td>0</td>\n",
       "      <td>2020-03-03</td>\n",
       "      <td>eaa</td>\n",
       "    </tr>\n",
       "    <tr>\n",
       "      <td>10966229</td>\n",
       "      <td>KeiranJHarris</td>\n",
       "      <td>\"I learn a lot more from reading opinions on a...</td>\n",
       "      <td>0</td>\n",
       "      <td>0</td>\n",
       "      <td>2020-03-03</td>\n",
       "      <td>eaa</td>\n",
       "    </tr>\n",
       "  </tbody>\n",
       "</table>\n",
       "<p>392276 rows × 6 columns</p>\n",
       "</div>"
      ],
      "text/plain": [
       "              screen_name                                               text  \\\n",
       "1657         dhardcastle2  RT @TomFitton I hope one day there is as much ...   \n",
       "1658        charlie_adler  RT @Protect_Wldlife Mussa's Story.\\n\\nWhenever...   \n",
       "1659         SchutteBeate  RT @animalprojectau Bobby calves, calves under...   \n",
       "1660         SchutteBeate  RT @animalprojectau When we acknowledge all op...   \n",
       "1661         DouglasJo456  RT @Zucchinisaurus Male chicks don’t produce e...   \n",
       "...                   ...                                                ...   \n",
       "10966225      SultryRobin  Chicago Resident Tells City Council What It’s ...   \n",
       "10966226        Alaska213  @sararasmussenak @serkmann @WellsFargo By the ...   \n",
       "10966227  Batmanwinskedo1  @debbie_prest @DennisMenace54 @RSN927 @Mattunc...   \n",
       "10966228  4DropsOfJupiter  Hey @GeneralHospital that trophy animal being ...   \n",
       "10966229    KeiranJHarris  \"I learn a lot more from reading opinions on a...   \n",
       "\n",
       "          favorite_count  retweet_count  date_time category  \n",
       "1657                   0           3301 2019-02-03      eaa  \n",
       "1658                   0           4724 2019-02-03      eaa  \n",
       "1659                   0              4 2019-02-03      eaa  \n",
       "1660                   0              2 2019-02-03      eaa  \n",
       "1661                   0             30 2019-02-03      eaa  \n",
       "...                  ...            ...        ...      ...  \n",
       "10966225               0              0 2020-03-03      eaa  \n",
       "10966226               0              0 2020-03-03      eaa  \n",
       "10966227               1              0 2020-03-03      eaa  \n",
       "10966228               4              0 2020-03-03      eaa  \n",
       "10966229               0              0 2020-03-03      eaa  \n",
       "\n",
       "[392276 rows x 6 columns]"
      ]
     },
     "execution_count": 10,
     "metadata": {},
     "output_type": "execute_result"
    }
   ],
   "source": [
    "eaa_data = all_data[all_data['category'] == 'eaa']\n",
    "eaa_data"
   ]
  },
  {
   "cell_type": "code",
   "execution_count": 26,
   "metadata": {},
   "outputs": [],
   "source": [
    "def break_data_into_categories(data, categories):\n",
    "    new_data = []\n",
    "    for category in categories:\n",
    "        temp_data = data[data['text'].str.contains(category, case=False, regex=True)]\n",
    "        new_data.append(temp_data)\n",
    "    return new_data"
   ]
  },
  {
   "cell_type": "code",
   "execution_count": 27,
   "metadata": {},
   "outputs": [],
   "source": [
    "clean_meat_categories = ['cultured meat', 'cell[ -]based meat', 'in vitro meat', 'slaughter[ -]free meat', 'artificial meat', 'lab meat', 'lab grown meat']\n",
    "cage_free_categories = ['cage[ -]free', 'free range', 'gestation crate', 'animal welfare', 'factory farm', 'intensive agriculture', 'live export']\n",
    "eaa_categories = ['effective animal advocacy', 'animal advocacy', 'animal rights', 'animal welfare', 'animal activism', 'animal liberation', 'effective altruism', 'effective advocacy', 'animal protection']"
   ]
  },
  {
   "cell_type": "code",
   "execution_count": 32,
   "metadata": {},
   "outputs": [],
   "source": [
    "clean_meat_category_data = break_data_into_categories(clean_meat_data, clean_meat_categories)\n",
    "cage_free_category_data = break_data_into_categories(cage_free_data, cage_free_categories)\n",
    "eaa_category_data = break_data_into_categories(eaa_data, eaa_categories)"
   ]
  },
  {
   "cell_type": "code",
   "execution_count": 59,
   "metadata": {},
   "outputs": [],
   "source": [
    "def make_lines_data(data):\n",
    "    lines_data = []\n",
    "    for category_data in data:\n",
    "        buckets = category_data.groupby(pd.Grouper(key='date_time', freq='W')).size()\n",
    "        lines_data.append(buckets[1:-1])\n",
    "    return lines_data"
   ]
  },
  {
   "cell_type": "code",
   "execution_count": 60,
   "metadata": {},
   "outputs": [],
   "source": [
    "def create_lines(lines_data, categories):\n",
    "    hover_template = '<b>Date</b>: %{x}<br>' + '<b>Tweets</b>: %{y}'\n",
    "    graph_data = []\n",
    "    for i in range(len(lines_data)):\n",
    "        twitter_data = go.Scatter(x=lines_data[i].index, y=lines_data[i].values, name=categories[i], hovertemplate=hover_template)\n",
    "        graph_data.append(twitter_data)\n",
    "    return graph_data"
   ]
  },
  {
   "cell_type": "code",
   "execution_count": 61,
   "metadata": {},
   "outputs": [],
   "source": [
    "def graph_data(data, categories):\n",
    "    layout = go.Layout(title=\"Twitter Keywords Searched Weekly\", xaxis=dict(title='Date'), yaxis=dict(title='Number of Tweets Containing Keyword (Per Week)'))\n",
    "    lines_data = make_lines_data(data)\n",
    "    graph_data = create_lines(lines_data, categories)\n",
    "    return go.Figure(graph_data, layout=layout)"
   ]
  },
  {
   "cell_type": "code",
   "execution_count": 62,
   "metadata": {},
   "outputs": [],
   "source": [
    "clean_meat_categories = ['cultured meat', 'cell-based meat', 'in vitro meat', 'slaughter-free meat', 'artificial meat', 'lab meat', 'lab grown meat']\n",
    "cage_free_categories = ['cage-free', 'free range', 'gestation crate', 'animal welfare', 'factory farm', 'intensive agriculture', 'live export']"
   ]
  },
  {
   "cell_type": "code",
   "execution_count": 64,
   "metadata": {},
   "outputs": [
    {
     "data": {
      "application/vnd.plotly.v1+json": {
       "config": {
        "plotlyServerURL": "https://plot.ly"
       },
       "data": [
        {
         "hovertemplate": "<b>Date</b>: %{x}<br><b>Tweets</b>: %{y}",
         "name": "cultured meat",
         "type": "scatter",
         "x": [
          "2019-02-10T00:00:00",
          "2019-02-17T00:00:00",
          "2019-02-24T00:00:00",
          "2019-03-03T00:00:00",
          "2019-03-10T00:00:00",
          "2019-03-17T00:00:00",
          "2019-03-24T00:00:00",
          "2019-03-31T00:00:00",
          "2019-04-07T00:00:00",
          "2019-04-14T00:00:00",
          "2019-04-21T00:00:00",
          "2019-04-28T00:00:00",
          "2019-05-05T00:00:00",
          "2019-05-12T00:00:00",
          "2019-05-19T00:00:00",
          "2019-05-26T00:00:00",
          "2019-06-02T00:00:00",
          "2019-06-09T00:00:00",
          "2019-06-16T00:00:00",
          "2019-06-23T00:00:00",
          "2019-06-30T00:00:00",
          "2019-07-07T00:00:00",
          "2019-07-14T00:00:00",
          "2019-07-21T00:00:00",
          "2019-07-28T00:00:00",
          "2019-08-04T00:00:00",
          "2019-08-11T00:00:00",
          "2019-08-18T00:00:00",
          "2019-08-25T00:00:00",
          "2019-09-01T00:00:00",
          "2019-09-08T00:00:00",
          "2019-09-15T00:00:00",
          "2019-09-22T00:00:00",
          "2019-09-29T00:00:00",
          "2019-10-06T00:00:00",
          "2019-10-13T00:00:00",
          "2019-10-20T00:00:00",
          "2019-10-27T00:00:00",
          "2019-11-03T00:00:00",
          "2019-11-10T00:00:00",
          "2019-11-17T00:00:00",
          "2019-11-24T00:00:00",
          "2019-12-01T00:00:00",
          "2019-12-08T00:00:00",
          "2019-12-15T00:00:00",
          "2019-12-22T00:00:00",
          "2019-12-29T00:00:00",
          "2020-01-05T00:00:00",
          "2020-01-12T00:00:00",
          "2020-01-19T00:00:00",
          "2020-01-26T00:00:00",
          "2020-02-02T00:00:00",
          "2020-02-09T00:00:00",
          "2020-02-16T00:00:00",
          "2020-02-23T00:00:00",
          "2020-03-01T00:00:00"
         ],
         "y": [
          63,
          81,
          334,
          244,
          175,
          307,
          168,
          97,
          76,
          58,
          174,
          111,
          147,
          85,
          147,
          57,
          61,
          66,
          165,
          85,
          85,
          111,
          247,
          118,
          47,
          87,
          65,
          71,
          109,
          115,
          165,
          94,
          116,
          73,
          91,
          174,
          110,
          143,
          133,
          100,
          144,
          96,
          93,
          82,
          81,
          106,
          57,
          66,
          178,
          199,
          227,
          119,
          88,
          83,
          282,
          92
         ]
        },
        {
         "hovertemplate": "<b>Date</b>: %{x}<br><b>Tweets</b>: %{y}",
         "name": "cell-based meat",
         "type": "scatter",
         "x": [
          "2019-02-10T00:00:00",
          "2019-02-17T00:00:00",
          "2019-02-24T00:00:00",
          "2019-03-03T00:00:00",
          "2019-03-10T00:00:00",
          "2019-03-17T00:00:00",
          "2019-03-24T00:00:00",
          "2019-03-31T00:00:00",
          "2019-04-07T00:00:00",
          "2019-04-14T00:00:00",
          "2019-04-21T00:00:00",
          "2019-04-28T00:00:00",
          "2019-05-05T00:00:00",
          "2019-05-12T00:00:00",
          "2019-05-19T00:00:00",
          "2019-05-26T00:00:00",
          "2019-06-02T00:00:00",
          "2019-06-09T00:00:00",
          "2019-06-16T00:00:00",
          "2019-06-23T00:00:00",
          "2019-06-30T00:00:00",
          "2019-07-07T00:00:00",
          "2019-07-14T00:00:00",
          "2019-07-21T00:00:00",
          "2019-07-28T00:00:00",
          "2019-08-04T00:00:00",
          "2019-08-11T00:00:00",
          "2019-08-18T00:00:00",
          "2019-08-25T00:00:00",
          "2019-09-01T00:00:00",
          "2019-09-08T00:00:00",
          "2019-09-15T00:00:00",
          "2019-09-22T00:00:00",
          "2019-09-29T00:00:00",
          "2019-10-06T00:00:00",
          "2019-10-13T00:00:00",
          "2019-10-20T00:00:00",
          "2019-10-27T00:00:00",
          "2019-11-03T00:00:00",
          "2019-11-10T00:00:00",
          "2019-11-17T00:00:00",
          "2019-11-24T00:00:00",
          "2019-12-01T00:00:00",
          "2019-12-08T00:00:00",
          "2019-12-15T00:00:00",
          "2019-12-22T00:00:00",
          "2019-12-29T00:00:00",
          "2020-01-05T00:00:00",
          "2020-01-12T00:00:00",
          "2020-01-19T00:00:00",
          "2020-01-26T00:00:00",
          "2020-02-02T00:00:00",
          "2020-02-09T00:00:00",
          "2020-02-16T00:00:00",
          "2020-02-23T00:00:00",
          "2020-03-01T00:00:00"
         ],
         "y": [
          47,
          46,
          92,
          65,
          100,
          77,
          75,
          40,
          48,
          51,
          33,
          46,
          64,
          64,
          71,
          91,
          29,
          30,
          40,
          42,
          22,
          34,
          65,
          71,
          24,
          30,
          35,
          41,
          44,
          92,
          114,
          41,
          49,
          24,
          31,
          42,
          25,
          32,
          22,
          21,
          73,
          32,
          23,
          32,
          16,
          25,
          29,
          29,
          25,
          34,
          172,
          74,
          20,
          41,
          34,
          45
         ]
        },
        {
         "hovertemplate": "<b>Date</b>: %{x}<br><b>Tweets</b>: %{y}",
         "name": "in vitro meat",
         "type": "scatter",
         "x": [
          "2019-02-17T00:00:00",
          "2019-02-24T00:00:00",
          "2019-03-03T00:00:00",
          "2019-03-10T00:00:00",
          "2019-03-17T00:00:00",
          "2019-03-24T00:00:00",
          "2019-03-31T00:00:00",
          "2019-04-07T00:00:00",
          "2019-04-14T00:00:00",
          "2019-04-21T00:00:00",
          "2019-04-28T00:00:00",
          "2019-05-05T00:00:00",
          "2019-05-12T00:00:00",
          "2019-05-19T00:00:00",
          "2019-05-26T00:00:00",
          "2019-06-02T00:00:00",
          "2019-06-09T00:00:00",
          "2019-06-16T00:00:00",
          "2019-06-23T00:00:00",
          "2019-06-30T00:00:00",
          "2019-07-07T00:00:00",
          "2019-07-14T00:00:00",
          "2019-07-21T00:00:00",
          "2019-07-28T00:00:00",
          "2019-08-04T00:00:00",
          "2019-08-11T00:00:00",
          "2019-08-18T00:00:00",
          "2019-08-25T00:00:00",
          "2019-09-01T00:00:00",
          "2019-09-08T00:00:00",
          "2019-09-15T00:00:00",
          "2019-09-22T00:00:00",
          "2019-09-29T00:00:00",
          "2019-10-06T00:00:00",
          "2019-10-13T00:00:00",
          "2019-10-20T00:00:00",
          "2019-10-27T00:00:00",
          "2019-11-03T00:00:00",
          "2019-11-10T00:00:00",
          "2019-11-17T00:00:00",
          "2019-11-24T00:00:00",
          "2019-12-01T00:00:00",
          "2019-12-08T00:00:00",
          "2019-12-15T00:00:00",
          "2019-12-22T00:00:00",
          "2019-12-29T00:00:00",
          "2020-01-05T00:00:00",
          "2020-01-12T00:00:00",
          "2020-01-19T00:00:00",
          "2020-01-26T00:00:00"
         ],
         "y": [
          4,
          6,
          0,
          1,
          0,
          1,
          0,
          0,
          1,
          0,
          0,
          0,
          0,
          4,
          0,
          0,
          0,
          0,
          1,
          0,
          0,
          1,
          0,
          1,
          0,
          0,
          0,
          1,
          1,
          0,
          1,
          0,
          0,
          1,
          0,
          0,
          0,
          0,
          0,
          0,
          1,
          0,
          0,
          0,
          0,
          0,
          0,
          0,
          0,
          1
         ]
        },
        {
         "hovertemplate": "<b>Date</b>: %{x}<br><b>Tweets</b>: %{y}",
         "name": "slaughter-free meat",
         "type": "scatter",
         "x": [
          "2019-02-17T00:00:00",
          "2019-02-24T00:00:00",
          "2019-03-03T00:00:00",
          "2019-03-10T00:00:00",
          "2019-03-17T00:00:00",
          "2019-03-24T00:00:00",
          "2019-03-31T00:00:00",
          "2019-04-07T00:00:00",
          "2019-04-14T00:00:00",
          "2019-04-21T00:00:00",
          "2019-04-28T00:00:00",
          "2019-05-05T00:00:00",
          "2019-05-12T00:00:00",
          "2019-05-19T00:00:00",
          "2019-05-26T00:00:00",
          "2019-06-02T00:00:00",
          "2019-06-09T00:00:00",
          "2019-06-16T00:00:00",
          "2019-06-23T00:00:00",
          "2019-06-30T00:00:00",
          "2019-07-07T00:00:00",
          "2019-07-14T00:00:00",
          "2019-07-21T00:00:00",
          "2019-07-28T00:00:00",
          "2019-08-04T00:00:00",
          "2019-08-11T00:00:00",
          "2019-08-18T00:00:00",
          "2019-08-25T00:00:00",
          "2019-09-01T00:00:00",
          "2019-09-08T00:00:00",
          "2019-09-15T00:00:00",
          "2019-09-22T00:00:00",
          "2019-09-29T00:00:00",
          "2019-10-06T00:00:00",
          "2019-10-13T00:00:00",
          "2019-10-20T00:00:00",
          "2019-10-27T00:00:00",
          "2019-11-03T00:00:00",
          "2019-11-10T00:00:00",
          "2019-11-17T00:00:00",
          "2019-11-24T00:00:00",
          "2019-12-01T00:00:00",
          "2019-12-08T00:00:00",
          "2019-12-15T00:00:00",
          "2019-12-22T00:00:00",
          "2019-12-29T00:00:00",
          "2020-01-05T00:00:00",
          "2020-01-12T00:00:00",
          "2020-01-19T00:00:00",
          "2020-01-26T00:00:00",
          "2020-02-02T00:00:00",
          "2020-02-09T00:00:00",
          "2020-02-16T00:00:00"
         ],
         "y": [
          7,
          11,
          18,
          7,
          5,
          2,
          2,
          3,
          2,
          3,
          1,
          20,
          5,
          5,
          1,
          1,
          1,
          8,
          9,
          3,
          3,
          8,
          1,
          0,
          2,
          1,
          0,
          0,
          12,
          2,
          2,
          1,
          0,
          1,
          32,
          8,
          4,
          4,
          3,
          1,
          8,
          0,
          0,
          1,
          12,
          1,
          2,
          3,
          4,
          4,
          0,
          17,
          0
         ]
        },
        {
         "hovertemplate": "<b>Date</b>: %{x}<br><b>Tweets</b>: %{y}",
         "name": "artificial meat",
         "type": "scatter",
         "x": [
          "2019-02-17T00:00:00",
          "2019-02-24T00:00:00",
          "2019-03-03T00:00:00",
          "2019-03-10T00:00:00",
          "2019-03-17T00:00:00",
          "2019-03-24T00:00:00",
          "2019-03-31T00:00:00",
          "2019-04-07T00:00:00",
          "2019-04-14T00:00:00",
          "2019-04-21T00:00:00",
          "2019-04-28T00:00:00",
          "2019-05-05T00:00:00",
          "2019-05-12T00:00:00",
          "2019-05-19T00:00:00",
          "2019-05-26T00:00:00",
          "2019-06-02T00:00:00",
          "2019-06-09T00:00:00",
          "2019-06-16T00:00:00",
          "2019-06-23T00:00:00",
          "2019-06-30T00:00:00",
          "2019-07-07T00:00:00",
          "2019-07-14T00:00:00",
          "2019-07-21T00:00:00",
          "2019-07-28T00:00:00",
          "2019-08-04T00:00:00",
          "2019-08-11T00:00:00",
          "2019-08-18T00:00:00",
          "2019-08-25T00:00:00",
          "2019-09-01T00:00:00",
          "2019-09-08T00:00:00",
          "2019-09-15T00:00:00",
          "2019-09-22T00:00:00",
          "2019-09-29T00:00:00",
          "2019-10-06T00:00:00",
          "2019-10-13T00:00:00",
          "2019-10-20T00:00:00",
          "2019-10-27T00:00:00",
          "2019-11-03T00:00:00",
          "2019-11-10T00:00:00",
          "2019-11-17T00:00:00",
          "2019-11-24T00:00:00",
          "2019-12-01T00:00:00",
          "2019-12-08T00:00:00",
          "2019-12-15T00:00:00",
          "2019-12-22T00:00:00",
          "2019-12-29T00:00:00",
          "2020-01-05T00:00:00",
          "2020-01-12T00:00:00",
          "2020-01-19T00:00:00",
          "2020-01-26T00:00:00",
          "2020-02-02T00:00:00",
          "2020-02-09T00:00:00",
          "2020-02-16T00:00:00",
          "2020-02-23T00:00:00"
         ],
         "y": [
          2,
          6,
          0,
          0,
          1,
          6,
          1,
          3,
          0,
          0,
          7,
          0,
          0,
          1,
          2,
          2,
          2,
          4,
          0,
          0,
          0,
          0,
          0,
          0,
          0,
          0,
          0,
          2,
          0,
          0,
          1,
          0,
          2,
          0,
          0,
          1,
          4,
          2,
          2,
          1,
          0,
          1,
          0,
          0,
          0,
          0,
          1,
          0,
          0,
          0,
          0,
          0,
          0,
          1
         ]
        },
        {
         "hovertemplate": "<b>Date</b>: %{x}<br><b>Tweets</b>: %{y}",
         "name": "lab meat",
         "type": "scatter",
         "x": [
          "2019-02-10T00:00:00",
          "2019-02-17T00:00:00",
          "2019-02-24T00:00:00",
          "2019-03-03T00:00:00",
          "2019-03-10T00:00:00",
          "2019-03-17T00:00:00",
          "2019-03-24T00:00:00",
          "2019-03-31T00:00:00",
          "2019-04-07T00:00:00",
          "2019-04-14T00:00:00",
          "2019-04-21T00:00:00",
          "2019-04-28T00:00:00",
          "2019-05-05T00:00:00",
          "2019-05-12T00:00:00",
          "2019-05-19T00:00:00",
          "2019-05-26T00:00:00",
          "2019-06-02T00:00:00",
          "2019-06-09T00:00:00",
          "2019-06-16T00:00:00",
          "2019-06-23T00:00:00",
          "2019-06-30T00:00:00",
          "2019-07-07T00:00:00",
          "2019-07-14T00:00:00",
          "2019-07-21T00:00:00",
          "2019-07-28T00:00:00",
          "2019-08-04T00:00:00",
          "2019-08-11T00:00:00",
          "2019-08-18T00:00:00",
          "2019-08-25T00:00:00",
          "2019-09-01T00:00:00",
          "2019-09-08T00:00:00",
          "2019-09-15T00:00:00",
          "2019-09-22T00:00:00",
          "2019-09-29T00:00:00",
          "2019-10-06T00:00:00",
          "2019-10-13T00:00:00",
          "2019-10-20T00:00:00",
          "2019-10-27T00:00:00",
          "2019-11-03T00:00:00",
          "2019-11-10T00:00:00",
          "2019-11-17T00:00:00",
          "2019-11-24T00:00:00",
          "2019-12-01T00:00:00",
          "2019-12-08T00:00:00",
          "2019-12-15T00:00:00",
          "2019-12-22T00:00:00",
          "2019-12-29T00:00:00",
          "2020-01-05T00:00:00",
          "2020-01-12T00:00:00",
          "2020-01-19T00:00:00",
          "2020-01-26T00:00:00",
          "2020-02-02T00:00:00",
          "2020-02-09T00:00:00",
          "2020-02-16T00:00:00",
          "2020-02-23T00:00:00",
          "2020-03-01T00:00:00"
         ],
         "y": [
          82,
          66,
          411,
          115,
          140,
          77,
          70,
          44,
          72,
          37,
          56,
          47,
          100,
          73,
          40,
          34,
          49,
          55,
          75,
          51,
          46,
          77,
          68,
          60,
          32,
          41,
          96,
          88,
          73,
          50,
          89,
          36,
          59,
          63,
          57,
          88,
          43,
          53,
          27,
          32,
          31,
          63,
          60,
          31,
          57,
          31,
          99,
          49,
          113,
          58,
          69,
          72,
          33,
          36,
          50,
          40
         ]
        },
        {
         "hovertemplate": "<b>Date</b>: %{x}<br><b>Tweets</b>: %{y}",
         "name": "lab grown meat",
         "type": "scatter",
         "x": [
          "2019-02-10T00:00:00",
          "2019-02-17T00:00:00",
          "2019-02-24T00:00:00",
          "2019-03-03T00:00:00",
          "2019-03-10T00:00:00",
          "2019-03-17T00:00:00",
          "2019-03-24T00:00:00",
          "2019-03-31T00:00:00",
          "2019-04-07T00:00:00",
          "2019-04-14T00:00:00",
          "2019-04-21T00:00:00",
          "2019-04-28T00:00:00",
          "2019-05-05T00:00:00",
          "2019-05-12T00:00:00",
          "2019-05-19T00:00:00",
          "2019-05-26T00:00:00",
          "2019-06-02T00:00:00",
          "2019-06-09T00:00:00",
          "2019-06-16T00:00:00",
          "2019-06-23T00:00:00",
          "2019-06-30T00:00:00",
          "2019-07-07T00:00:00",
          "2019-07-14T00:00:00",
          "2019-07-21T00:00:00",
          "2019-07-28T00:00:00",
          "2019-08-04T00:00:00",
          "2019-08-11T00:00:00",
          "2019-08-18T00:00:00",
          "2019-08-25T00:00:00",
          "2019-09-01T00:00:00",
          "2019-09-08T00:00:00",
          "2019-09-15T00:00:00",
          "2019-09-22T00:00:00",
          "2019-09-29T00:00:00",
          "2019-10-06T00:00:00",
          "2019-10-13T00:00:00",
          "2019-10-20T00:00:00",
          "2019-10-27T00:00:00",
          "2019-11-03T00:00:00",
          "2019-11-10T00:00:00",
          "2019-11-17T00:00:00",
          "2019-11-24T00:00:00",
          "2019-12-01T00:00:00",
          "2019-12-08T00:00:00",
          "2019-12-15T00:00:00",
          "2019-12-22T00:00:00",
          "2019-12-29T00:00:00",
          "2020-01-05T00:00:00",
          "2020-01-12T00:00:00",
          "2020-01-19T00:00:00",
          "2020-01-26T00:00:00",
          "2020-02-02T00:00:00",
          "2020-02-09T00:00:00",
          "2020-02-16T00:00:00",
          "2020-02-23T00:00:00",
          "2020-03-01T00:00:00"
         ],
         "y": [
          165,
          136,
          304,
          210,
          145,
          82,
          133,
          103,
          171,
          116,
          143,
          129,
          179,
          149,
          97,
          75,
          98,
          150,
          149,
          112,
          78,
          112,
          144,
          123,
          96,
          105,
          127,
          136,
          183,
          175,
          132,
          110,
          117,
          97,
          131,
          137,
          126,
          193,
          120,
          102,
          85,
          132,
          159,
          111,
          73,
          57,
          50,
          93,
          270,
          119,
          114,
          115,
          61,
          61,
          146,
          78
         ]
        }
       ],
       "layout": {
        "template": {
         "data": {
          "bar": [
           {
            "error_x": {
             "color": "#2a3f5f"
            },
            "error_y": {
             "color": "#2a3f5f"
            },
            "marker": {
             "line": {
              "color": "#E5ECF6",
              "width": 0.5
             }
            },
            "type": "bar"
           }
          ],
          "barpolar": [
           {
            "marker": {
             "line": {
              "color": "#E5ECF6",
              "width": 0.5
             }
            },
            "type": "barpolar"
           }
          ],
          "carpet": [
           {
            "aaxis": {
             "endlinecolor": "#2a3f5f",
             "gridcolor": "white",
             "linecolor": "white",
             "minorgridcolor": "white",
             "startlinecolor": "#2a3f5f"
            },
            "baxis": {
             "endlinecolor": "#2a3f5f",
             "gridcolor": "white",
             "linecolor": "white",
             "minorgridcolor": "white",
             "startlinecolor": "#2a3f5f"
            },
            "type": "carpet"
           }
          ],
          "choropleth": [
           {
            "colorbar": {
             "outlinewidth": 0,
             "ticks": ""
            },
            "type": "choropleth"
           }
          ],
          "contour": [
           {
            "colorbar": {
             "outlinewidth": 0,
             "ticks": ""
            },
            "colorscale": [
             [
              0,
              "#0d0887"
             ],
             [
              0.1111111111111111,
              "#46039f"
             ],
             [
              0.2222222222222222,
              "#7201a8"
             ],
             [
              0.3333333333333333,
              "#9c179e"
             ],
             [
              0.4444444444444444,
              "#bd3786"
             ],
             [
              0.5555555555555556,
              "#d8576b"
             ],
             [
              0.6666666666666666,
              "#ed7953"
             ],
             [
              0.7777777777777778,
              "#fb9f3a"
             ],
             [
              0.8888888888888888,
              "#fdca26"
             ],
             [
              1,
              "#f0f921"
             ]
            ],
            "type": "contour"
           }
          ],
          "contourcarpet": [
           {
            "colorbar": {
             "outlinewidth": 0,
             "ticks": ""
            },
            "type": "contourcarpet"
           }
          ],
          "heatmap": [
           {
            "colorbar": {
             "outlinewidth": 0,
             "ticks": ""
            },
            "colorscale": [
             [
              0,
              "#0d0887"
             ],
             [
              0.1111111111111111,
              "#46039f"
             ],
             [
              0.2222222222222222,
              "#7201a8"
             ],
             [
              0.3333333333333333,
              "#9c179e"
             ],
             [
              0.4444444444444444,
              "#bd3786"
             ],
             [
              0.5555555555555556,
              "#d8576b"
             ],
             [
              0.6666666666666666,
              "#ed7953"
             ],
             [
              0.7777777777777778,
              "#fb9f3a"
             ],
             [
              0.8888888888888888,
              "#fdca26"
             ],
             [
              1,
              "#f0f921"
             ]
            ],
            "type": "heatmap"
           }
          ],
          "heatmapgl": [
           {
            "colorbar": {
             "outlinewidth": 0,
             "ticks": ""
            },
            "colorscale": [
             [
              0,
              "#0d0887"
             ],
             [
              0.1111111111111111,
              "#46039f"
             ],
             [
              0.2222222222222222,
              "#7201a8"
             ],
             [
              0.3333333333333333,
              "#9c179e"
             ],
             [
              0.4444444444444444,
              "#bd3786"
             ],
             [
              0.5555555555555556,
              "#d8576b"
             ],
             [
              0.6666666666666666,
              "#ed7953"
             ],
             [
              0.7777777777777778,
              "#fb9f3a"
             ],
             [
              0.8888888888888888,
              "#fdca26"
             ],
             [
              1,
              "#f0f921"
             ]
            ],
            "type": "heatmapgl"
           }
          ],
          "histogram": [
           {
            "marker": {
             "colorbar": {
              "outlinewidth": 0,
              "ticks": ""
             }
            },
            "type": "histogram"
           }
          ],
          "histogram2d": [
           {
            "colorbar": {
             "outlinewidth": 0,
             "ticks": ""
            },
            "colorscale": [
             [
              0,
              "#0d0887"
             ],
             [
              0.1111111111111111,
              "#46039f"
             ],
             [
              0.2222222222222222,
              "#7201a8"
             ],
             [
              0.3333333333333333,
              "#9c179e"
             ],
             [
              0.4444444444444444,
              "#bd3786"
             ],
             [
              0.5555555555555556,
              "#d8576b"
             ],
             [
              0.6666666666666666,
              "#ed7953"
             ],
             [
              0.7777777777777778,
              "#fb9f3a"
             ],
             [
              0.8888888888888888,
              "#fdca26"
             ],
             [
              1,
              "#f0f921"
             ]
            ],
            "type": "histogram2d"
           }
          ],
          "histogram2dcontour": [
           {
            "colorbar": {
             "outlinewidth": 0,
             "ticks": ""
            },
            "colorscale": [
             [
              0,
              "#0d0887"
             ],
             [
              0.1111111111111111,
              "#46039f"
             ],
             [
              0.2222222222222222,
              "#7201a8"
             ],
             [
              0.3333333333333333,
              "#9c179e"
             ],
             [
              0.4444444444444444,
              "#bd3786"
             ],
             [
              0.5555555555555556,
              "#d8576b"
             ],
             [
              0.6666666666666666,
              "#ed7953"
             ],
             [
              0.7777777777777778,
              "#fb9f3a"
             ],
             [
              0.8888888888888888,
              "#fdca26"
             ],
             [
              1,
              "#f0f921"
             ]
            ],
            "type": "histogram2dcontour"
           }
          ],
          "mesh3d": [
           {
            "colorbar": {
             "outlinewidth": 0,
             "ticks": ""
            },
            "type": "mesh3d"
           }
          ],
          "parcoords": [
           {
            "line": {
             "colorbar": {
              "outlinewidth": 0,
              "ticks": ""
             }
            },
            "type": "parcoords"
           }
          ],
          "pie": [
           {
            "automargin": true,
            "type": "pie"
           }
          ],
          "scatter": [
           {
            "marker": {
             "colorbar": {
              "outlinewidth": 0,
              "ticks": ""
             }
            },
            "type": "scatter"
           }
          ],
          "scatter3d": [
           {
            "line": {
             "colorbar": {
              "outlinewidth": 0,
              "ticks": ""
             }
            },
            "marker": {
             "colorbar": {
              "outlinewidth": 0,
              "ticks": ""
             }
            },
            "type": "scatter3d"
           }
          ],
          "scattercarpet": [
           {
            "marker": {
             "colorbar": {
              "outlinewidth": 0,
              "ticks": ""
             }
            },
            "type": "scattercarpet"
           }
          ],
          "scattergeo": [
           {
            "marker": {
             "colorbar": {
              "outlinewidth": 0,
              "ticks": ""
             }
            },
            "type": "scattergeo"
           }
          ],
          "scattergl": [
           {
            "marker": {
             "colorbar": {
              "outlinewidth": 0,
              "ticks": ""
             }
            },
            "type": "scattergl"
           }
          ],
          "scattermapbox": [
           {
            "marker": {
             "colorbar": {
              "outlinewidth": 0,
              "ticks": ""
             }
            },
            "type": "scattermapbox"
           }
          ],
          "scatterpolar": [
           {
            "marker": {
             "colorbar": {
              "outlinewidth": 0,
              "ticks": ""
             }
            },
            "type": "scatterpolar"
           }
          ],
          "scatterpolargl": [
           {
            "marker": {
             "colorbar": {
              "outlinewidth": 0,
              "ticks": ""
             }
            },
            "type": "scatterpolargl"
           }
          ],
          "scatterternary": [
           {
            "marker": {
             "colorbar": {
              "outlinewidth": 0,
              "ticks": ""
             }
            },
            "type": "scatterternary"
           }
          ],
          "surface": [
           {
            "colorbar": {
             "outlinewidth": 0,
             "ticks": ""
            },
            "colorscale": [
             [
              0,
              "#0d0887"
             ],
             [
              0.1111111111111111,
              "#46039f"
             ],
             [
              0.2222222222222222,
              "#7201a8"
             ],
             [
              0.3333333333333333,
              "#9c179e"
             ],
             [
              0.4444444444444444,
              "#bd3786"
             ],
             [
              0.5555555555555556,
              "#d8576b"
             ],
             [
              0.6666666666666666,
              "#ed7953"
             ],
             [
              0.7777777777777778,
              "#fb9f3a"
             ],
             [
              0.8888888888888888,
              "#fdca26"
             ],
             [
              1,
              "#f0f921"
             ]
            ],
            "type": "surface"
           }
          ],
          "table": [
           {
            "cells": {
             "fill": {
              "color": "#EBF0F8"
             },
             "line": {
              "color": "white"
             }
            },
            "header": {
             "fill": {
              "color": "#C8D4E3"
             },
             "line": {
              "color": "white"
             }
            },
            "type": "table"
           }
          ]
         },
         "layout": {
          "annotationdefaults": {
           "arrowcolor": "#2a3f5f",
           "arrowhead": 0,
           "arrowwidth": 1
          },
          "coloraxis": {
           "colorbar": {
            "outlinewidth": 0,
            "ticks": ""
           }
          },
          "colorscale": {
           "diverging": [
            [
             0,
             "#8e0152"
            ],
            [
             0.1,
             "#c51b7d"
            ],
            [
             0.2,
             "#de77ae"
            ],
            [
             0.3,
             "#f1b6da"
            ],
            [
             0.4,
             "#fde0ef"
            ],
            [
             0.5,
             "#f7f7f7"
            ],
            [
             0.6,
             "#e6f5d0"
            ],
            [
             0.7,
             "#b8e186"
            ],
            [
             0.8,
             "#7fbc41"
            ],
            [
             0.9,
             "#4d9221"
            ],
            [
             1,
             "#276419"
            ]
           ],
           "sequential": [
            [
             0,
             "#0d0887"
            ],
            [
             0.1111111111111111,
             "#46039f"
            ],
            [
             0.2222222222222222,
             "#7201a8"
            ],
            [
             0.3333333333333333,
             "#9c179e"
            ],
            [
             0.4444444444444444,
             "#bd3786"
            ],
            [
             0.5555555555555556,
             "#d8576b"
            ],
            [
             0.6666666666666666,
             "#ed7953"
            ],
            [
             0.7777777777777778,
             "#fb9f3a"
            ],
            [
             0.8888888888888888,
             "#fdca26"
            ],
            [
             1,
             "#f0f921"
            ]
           ],
           "sequentialminus": [
            [
             0,
             "#0d0887"
            ],
            [
             0.1111111111111111,
             "#46039f"
            ],
            [
             0.2222222222222222,
             "#7201a8"
            ],
            [
             0.3333333333333333,
             "#9c179e"
            ],
            [
             0.4444444444444444,
             "#bd3786"
            ],
            [
             0.5555555555555556,
             "#d8576b"
            ],
            [
             0.6666666666666666,
             "#ed7953"
            ],
            [
             0.7777777777777778,
             "#fb9f3a"
            ],
            [
             0.8888888888888888,
             "#fdca26"
            ],
            [
             1,
             "#f0f921"
            ]
           ]
          },
          "colorway": [
           "#636efa",
           "#EF553B",
           "#00cc96",
           "#ab63fa",
           "#FFA15A",
           "#19d3f3",
           "#FF6692",
           "#B6E880",
           "#FF97FF",
           "#FECB52"
          ],
          "font": {
           "color": "#2a3f5f"
          },
          "geo": {
           "bgcolor": "white",
           "lakecolor": "white",
           "landcolor": "#E5ECF6",
           "showlakes": true,
           "showland": true,
           "subunitcolor": "white"
          },
          "hoverlabel": {
           "align": "left"
          },
          "hovermode": "closest",
          "mapbox": {
           "style": "light"
          },
          "paper_bgcolor": "white",
          "plot_bgcolor": "#E5ECF6",
          "polar": {
           "angularaxis": {
            "gridcolor": "white",
            "linecolor": "white",
            "ticks": ""
           },
           "bgcolor": "#E5ECF6",
           "radialaxis": {
            "gridcolor": "white",
            "linecolor": "white",
            "ticks": ""
           }
          },
          "scene": {
           "xaxis": {
            "backgroundcolor": "#E5ECF6",
            "gridcolor": "white",
            "gridwidth": 2,
            "linecolor": "white",
            "showbackground": true,
            "ticks": "",
            "zerolinecolor": "white"
           },
           "yaxis": {
            "backgroundcolor": "#E5ECF6",
            "gridcolor": "white",
            "gridwidth": 2,
            "linecolor": "white",
            "showbackground": true,
            "ticks": "",
            "zerolinecolor": "white"
           },
           "zaxis": {
            "backgroundcolor": "#E5ECF6",
            "gridcolor": "white",
            "gridwidth": 2,
            "linecolor": "white",
            "showbackground": true,
            "ticks": "",
            "zerolinecolor": "white"
           }
          },
          "shapedefaults": {
           "line": {
            "color": "#2a3f5f"
           }
          },
          "ternary": {
           "aaxis": {
            "gridcolor": "white",
            "linecolor": "white",
            "ticks": ""
           },
           "baxis": {
            "gridcolor": "white",
            "linecolor": "white",
            "ticks": ""
           },
           "bgcolor": "#E5ECF6",
           "caxis": {
            "gridcolor": "white",
            "linecolor": "white",
            "ticks": ""
           }
          },
          "title": {
           "x": 0.05
          },
          "xaxis": {
           "automargin": true,
           "gridcolor": "white",
           "linecolor": "white",
           "ticks": "",
           "title": {
            "standoff": 15
           },
           "zerolinecolor": "white",
           "zerolinewidth": 2
          },
          "yaxis": {
           "automargin": true,
           "gridcolor": "white",
           "linecolor": "white",
           "ticks": "",
           "title": {
            "standoff": 15
           },
           "zerolinecolor": "white",
           "zerolinewidth": 2
          }
         }
        },
        "title": {
         "text": "Twitter Keywords Searched Weekly"
        },
        "xaxis": {
         "title": {
          "text": "Date"
         }
        },
        "yaxis": {
         "title": {
          "text": "Number of Tweets Containing Keyword (Per Week)"
         }
        }
       }
      },
      "text/html": [
       "<div>\n",
       "        \n",
       "        \n",
       "            <div id=\"be47abfe-5898-41d9-a1e7-84526abcb0c1\" class=\"plotly-graph-div\" style=\"height:525px; width:100%;\"></div>\n",
       "            <script type=\"text/javascript\">\n",
       "                require([\"plotly\"], function(Plotly) {\n",
       "                    window.PLOTLYENV=window.PLOTLYENV || {};\n",
       "                    \n",
       "                if (document.getElementById(\"be47abfe-5898-41d9-a1e7-84526abcb0c1\")) {\n",
       "                    Plotly.newPlot(\n",
       "                        'be47abfe-5898-41d9-a1e7-84526abcb0c1',\n",
       "                        [{\"hovertemplate\": \"<b>Date</b>: %{x}<br><b>Tweets</b>: %{y}\", \"name\": \"cultured meat\", \"type\": \"scatter\", \"x\": [\"2019-02-10T00:00:00\", \"2019-02-17T00:00:00\", \"2019-02-24T00:00:00\", \"2019-03-03T00:00:00\", \"2019-03-10T00:00:00\", \"2019-03-17T00:00:00\", \"2019-03-24T00:00:00\", \"2019-03-31T00:00:00\", \"2019-04-07T00:00:00\", \"2019-04-14T00:00:00\", \"2019-04-21T00:00:00\", \"2019-04-28T00:00:00\", \"2019-05-05T00:00:00\", \"2019-05-12T00:00:00\", \"2019-05-19T00:00:00\", \"2019-05-26T00:00:00\", \"2019-06-02T00:00:00\", \"2019-06-09T00:00:00\", \"2019-06-16T00:00:00\", \"2019-06-23T00:00:00\", \"2019-06-30T00:00:00\", \"2019-07-07T00:00:00\", \"2019-07-14T00:00:00\", \"2019-07-21T00:00:00\", \"2019-07-28T00:00:00\", \"2019-08-04T00:00:00\", \"2019-08-11T00:00:00\", \"2019-08-18T00:00:00\", \"2019-08-25T00:00:00\", \"2019-09-01T00:00:00\", \"2019-09-08T00:00:00\", \"2019-09-15T00:00:00\", \"2019-09-22T00:00:00\", \"2019-09-29T00:00:00\", \"2019-10-06T00:00:00\", \"2019-10-13T00:00:00\", \"2019-10-20T00:00:00\", \"2019-10-27T00:00:00\", \"2019-11-03T00:00:00\", \"2019-11-10T00:00:00\", \"2019-11-17T00:00:00\", \"2019-11-24T00:00:00\", \"2019-12-01T00:00:00\", \"2019-12-08T00:00:00\", \"2019-12-15T00:00:00\", \"2019-12-22T00:00:00\", \"2019-12-29T00:00:00\", \"2020-01-05T00:00:00\", \"2020-01-12T00:00:00\", \"2020-01-19T00:00:00\", \"2020-01-26T00:00:00\", \"2020-02-02T00:00:00\", \"2020-02-09T00:00:00\", \"2020-02-16T00:00:00\", \"2020-02-23T00:00:00\", \"2020-03-01T00:00:00\"], \"y\": [63, 81, 334, 244, 175, 307, 168, 97, 76, 58, 174, 111, 147, 85, 147, 57, 61, 66, 165, 85, 85, 111, 247, 118, 47, 87, 65, 71, 109, 115, 165, 94, 116, 73, 91, 174, 110, 143, 133, 100, 144, 96, 93, 82, 81, 106, 57, 66, 178, 199, 227, 119, 88, 83, 282, 92]}, {\"hovertemplate\": \"<b>Date</b>: %{x}<br><b>Tweets</b>: %{y}\", \"name\": \"cell-based meat\", \"type\": \"scatter\", \"x\": [\"2019-02-10T00:00:00\", \"2019-02-17T00:00:00\", \"2019-02-24T00:00:00\", \"2019-03-03T00:00:00\", \"2019-03-10T00:00:00\", \"2019-03-17T00:00:00\", \"2019-03-24T00:00:00\", \"2019-03-31T00:00:00\", \"2019-04-07T00:00:00\", \"2019-04-14T00:00:00\", \"2019-04-21T00:00:00\", \"2019-04-28T00:00:00\", \"2019-05-05T00:00:00\", \"2019-05-12T00:00:00\", \"2019-05-19T00:00:00\", \"2019-05-26T00:00:00\", \"2019-06-02T00:00:00\", \"2019-06-09T00:00:00\", \"2019-06-16T00:00:00\", \"2019-06-23T00:00:00\", \"2019-06-30T00:00:00\", \"2019-07-07T00:00:00\", \"2019-07-14T00:00:00\", \"2019-07-21T00:00:00\", \"2019-07-28T00:00:00\", \"2019-08-04T00:00:00\", \"2019-08-11T00:00:00\", \"2019-08-18T00:00:00\", \"2019-08-25T00:00:00\", \"2019-09-01T00:00:00\", \"2019-09-08T00:00:00\", \"2019-09-15T00:00:00\", \"2019-09-22T00:00:00\", \"2019-09-29T00:00:00\", \"2019-10-06T00:00:00\", \"2019-10-13T00:00:00\", \"2019-10-20T00:00:00\", \"2019-10-27T00:00:00\", \"2019-11-03T00:00:00\", \"2019-11-10T00:00:00\", \"2019-11-17T00:00:00\", \"2019-11-24T00:00:00\", \"2019-12-01T00:00:00\", \"2019-12-08T00:00:00\", \"2019-12-15T00:00:00\", \"2019-12-22T00:00:00\", \"2019-12-29T00:00:00\", \"2020-01-05T00:00:00\", \"2020-01-12T00:00:00\", \"2020-01-19T00:00:00\", \"2020-01-26T00:00:00\", \"2020-02-02T00:00:00\", \"2020-02-09T00:00:00\", \"2020-02-16T00:00:00\", \"2020-02-23T00:00:00\", \"2020-03-01T00:00:00\"], \"y\": [47, 46, 92, 65, 100, 77, 75, 40, 48, 51, 33, 46, 64, 64, 71, 91, 29, 30, 40, 42, 22, 34, 65, 71, 24, 30, 35, 41, 44, 92, 114, 41, 49, 24, 31, 42, 25, 32, 22, 21, 73, 32, 23, 32, 16, 25, 29, 29, 25, 34, 172, 74, 20, 41, 34, 45]}, {\"hovertemplate\": \"<b>Date</b>: %{x}<br><b>Tweets</b>: %{y}\", \"name\": \"in vitro meat\", \"type\": \"scatter\", \"x\": [\"2019-02-17T00:00:00\", \"2019-02-24T00:00:00\", \"2019-03-03T00:00:00\", \"2019-03-10T00:00:00\", \"2019-03-17T00:00:00\", \"2019-03-24T00:00:00\", \"2019-03-31T00:00:00\", \"2019-04-07T00:00:00\", \"2019-04-14T00:00:00\", \"2019-04-21T00:00:00\", \"2019-04-28T00:00:00\", \"2019-05-05T00:00:00\", \"2019-05-12T00:00:00\", \"2019-05-19T00:00:00\", \"2019-05-26T00:00:00\", \"2019-06-02T00:00:00\", \"2019-06-09T00:00:00\", \"2019-06-16T00:00:00\", \"2019-06-23T00:00:00\", \"2019-06-30T00:00:00\", \"2019-07-07T00:00:00\", \"2019-07-14T00:00:00\", \"2019-07-21T00:00:00\", \"2019-07-28T00:00:00\", \"2019-08-04T00:00:00\", \"2019-08-11T00:00:00\", \"2019-08-18T00:00:00\", \"2019-08-25T00:00:00\", \"2019-09-01T00:00:00\", \"2019-09-08T00:00:00\", \"2019-09-15T00:00:00\", \"2019-09-22T00:00:00\", \"2019-09-29T00:00:00\", \"2019-10-06T00:00:00\", \"2019-10-13T00:00:00\", \"2019-10-20T00:00:00\", \"2019-10-27T00:00:00\", \"2019-11-03T00:00:00\", \"2019-11-10T00:00:00\", \"2019-11-17T00:00:00\", \"2019-11-24T00:00:00\", \"2019-12-01T00:00:00\", \"2019-12-08T00:00:00\", \"2019-12-15T00:00:00\", \"2019-12-22T00:00:00\", \"2019-12-29T00:00:00\", \"2020-01-05T00:00:00\", \"2020-01-12T00:00:00\", \"2020-01-19T00:00:00\", \"2020-01-26T00:00:00\"], \"y\": [4, 6, 0, 1, 0, 1, 0, 0, 1, 0, 0, 0, 0, 4, 0, 0, 0, 0, 1, 0, 0, 1, 0, 1, 0, 0, 0, 1, 1, 0, 1, 0, 0, 1, 0, 0, 0, 0, 0, 0, 1, 0, 0, 0, 0, 0, 0, 0, 0, 1]}, {\"hovertemplate\": \"<b>Date</b>: %{x}<br><b>Tweets</b>: %{y}\", \"name\": \"slaughter-free meat\", \"type\": \"scatter\", \"x\": [\"2019-02-17T00:00:00\", \"2019-02-24T00:00:00\", \"2019-03-03T00:00:00\", \"2019-03-10T00:00:00\", \"2019-03-17T00:00:00\", \"2019-03-24T00:00:00\", \"2019-03-31T00:00:00\", \"2019-04-07T00:00:00\", \"2019-04-14T00:00:00\", \"2019-04-21T00:00:00\", \"2019-04-28T00:00:00\", \"2019-05-05T00:00:00\", \"2019-05-12T00:00:00\", \"2019-05-19T00:00:00\", \"2019-05-26T00:00:00\", \"2019-06-02T00:00:00\", \"2019-06-09T00:00:00\", \"2019-06-16T00:00:00\", \"2019-06-23T00:00:00\", \"2019-06-30T00:00:00\", \"2019-07-07T00:00:00\", \"2019-07-14T00:00:00\", \"2019-07-21T00:00:00\", \"2019-07-28T00:00:00\", \"2019-08-04T00:00:00\", \"2019-08-11T00:00:00\", \"2019-08-18T00:00:00\", \"2019-08-25T00:00:00\", \"2019-09-01T00:00:00\", \"2019-09-08T00:00:00\", \"2019-09-15T00:00:00\", \"2019-09-22T00:00:00\", \"2019-09-29T00:00:00\", \"2019-10-06T00:00:00\", \"2019-10-13T00:00:00\", \"2019-10-20T00:00:00\", \"2019-10-27T00:00:00\", \"2019-11-03T00:00:00\", \"2019-11-10T00:00:00\", \"2019-11-17T00:00:00\", \"2019-11-24T00:00:00\", \"2019-12-01T00:00:00\", \"2019-12-08T00:00:00\", \"2019-12-15T00:00:00\", \"2019-12-22T00:00:00\", \"2019-12-29T00:00:00\", \"2020-01-05T00:00:00\", \"2020-01-12T00:00:00\", \"2020-01-19T00:00:00\", \"2020-01-26T00:00:00\", \"2020-02-02T00:00:00\", \"2020-02-09T00:00:00\", \"2020-02-16T00:00:00\"], \"y\": [7, 11, 18, 7, 5, 2, 2, 3, 2, 3, 1, 20, 5, 5, 1, 1, 1, 8, 9, 3, 3, 8, 1, 0, 2, 1, 0, 0, 12, 2, 2, 1, 0, 1, 32, 8, 4, 4, 3, 1, 8, 0, 0, 1, 12, 1, 2, 3, 4, 4, 0, 17, 0]}, {\"hovertemplate\": \"<b>Date</b>: %{x}<br><b>Tweets</b>: %{y}\", \"name\": \"artificial meat\", \"type\": \"scatter\", \"x\": [\"2019-02-17T00:00:00\", \"2019-02-24T00:00:00\", \"2019-03-03T00:00:00\", \"2019-03-10T00:00:00\", \"2019-03-17T00:00:00\", \"2019-03-24T00:00:00\", \"2019-03-31T00:00:00\", \"2019-04-07T00:00:00\", \"2019-04-14T00:00:00\", \"2019-04-21T00:00:00\", \"2019-04-28T00:00:00\", \"2019-05-05T00:00:00\", \"2019-05-12T00:00:00\", \"2019-05-19T00:00:00\", \"2019-05-26T00:00:00\", \"2019-06-02T00:00:00\", \"2019-06-09T00:00:00\", \"2019-06-16T00:00:00\", \"2019-06-23T00:00:00\", \"2019-06-30T00:00:00\", \"2019-07-07T00:00:00\", \"2019-07-14T00:00:00\", \"2019-07-21T00:00:00\", \"2019-07-28T00:00:00\", \"2019-08-04T00:00:00\", \"2019-08-11T00:00:00\", \"2019-08-18T00:00:00\", \"2019-08-25T00:00:00\", \"2019-09-01T00:00:00\", \"2019-09-08T00:00:00\", \"2019-09-15T00:00:00\", \"2019-09-22T00:00:00\", \"2019-09-29T00:00:00\", \"2019-10-06T00:00:00\", \"2019-10-13T00:00:00\", \"2019-10-20T00:00:00\", \"2019-10-27T00:00:00\", \"2019-11-03T00:00:00\", \"2019-11-10T00:00:00\", \"2019-11-17T00:00:00\", \"2019-11-24T00:00:00\", \"2019-12-01T00:00:00\", \"2019-12-08T00:00:00\", \"2019-12-15T00:00:00\", \"2019-12-22T00:00:00\", \"2019-12-29T00:00:00\", \"2020-01-05T00:00:00\", \"2020-01-12T00:00:00\", \"2020-01-19T00:00:00\", \"2020-01-26T00:00:00\", \"2020-02-02T00:00:00\", \"2020-02-09T00:00:00\", \"2020-02-16T00:00:00\", \"2020-02-23T00:00:00\"], \"y\": [2, 6, 0, 0, 1, 6, 1, 3, 0, 0, 7, 0, 0, 1, 2, 2, 2, 4, 0, 0, 0, 0, 0, 0, 0, 0, 0, 2, 0, 0, 1, 0, 2, 0, 0, 1, 4, 2, 2, 1, 0, 1, 0, 0, 0, 0, 1, 0, 0, 0, 0, 0, 0, 1]}, {\"hovertemplate\": \"<b>Date</b>: %{x}<br><b>Tweets</b>: %{y}\", \"name\": \"lab meat\", \"type\": \"scatter\", \"x\": [\"2019-02-10T00:00:00\", \"2019-02-17T00:00:00\", \"2019-02-24T00:00:00\", \"2019-03-03T00:00:00\", \"2019-03-10T00:00:00\", \"2019-03-17T00:00:00\", \"2019-03-24T00:00:00\", \"2019-03-31T00:00:00\", \"2019-04-07T00:00:00\", \"2019-04-14T00:00:00\", \"2019-04-21T00:00:00\", \"2019-04-28T00:00:00\", \"2019-05-05T00:00:00\", \"2019-05-12T00:00:00\", \"2019-05-19T00:00:00\", \"2019-05-26T00:00:00\", \"2019-06-02T00:00:00\", \"2019-06-09T00:00:00\", \"2019-06-16T00:00:00\", \"2019-06-23T00:00:00\", \"2019-06-30T00:00:00\", \"2019-07-07T00:00:00\", \"2019-07-14T00:00:00\", \"2019-07-21T00:00:00\", \"2019-07-28T00:00:00\", \"2019-08-04T00:00:00\", \"2019-08-11T00:00:00\", \"2019-08-18T00:00:00\", \"2019-08-25T00:00:00\", \"2019-09-01T00:00:00\", \"2019-09-08T00:00:00\", \"2019-09-15T00:00:00\", \"2019-09-22T00:00:00\", \"2019-09-29T00:00:00\", \"2019-10-06T00:00:00\", \"2019-10-13T00:00:00\", \"2019-10-20T00:00:00\", \"2019-10-27T00:00:00\", \"2019-11-03T00:00:00\", \"2019-11-10T00:00:00\", \"2019-11-17T00:00:00\", \"2019-11-24T00:00:00\", \"2019-12-01T00:00:00\", \"2019-12-08T00:00:00\", \"2019-12-15T00:00:00\", \"2019-12-22T00:00:00\", \"2019-12-29T00:00:00\", \"2020-01-05T00:00:00\", \"2020-01-12T00:00:00\", \"2020-01-19T00:00:00\", \"2020-01-26T00:00:00\", \"2020-02-02T00:00:00\", \"2020-02-09T00:00:00\", \"2020-02-16T00:00:00\", \"2020-02-23T00:00:00\", \"2020-03-01T00:00:00\"], \"y\": [82, 66, 411, 115, 140, 77, 70, 44, 72, 37, 56, 47, 100, 73, 40, 34, 49, 55, 75, 51, 46, 77, 68, 60, 32, 41, 96, 88, 73, 50, 89, 36, 59, 63, 57, 88, 43, 53, 27, 32, 31, 63, 60, 31, 57, 31, 99, 49, 113, 58, 69, 72, 33, 36, 50, 40]}, {\"hovertemplate\": \"<b>Date</b>: %{x}<br><b>Tweets</b>: %{y}\", \"name\": \"lab grown meat\", \"type\": \"scatter\", \"x\": [\"2019-02-10T00:00:00\", \"2019-02-17T00:00:00\", \"2019-02-24T00:00:00\", \"2019-03-03T00:00:00\", \"2019-03-10T00:00:00\", \"2019-03-17T00:00:00\", \"2019-03-24T00:00:00\", \"2019-03-31T00:00:00\", \"2019-04-07T00:00:00\", \"2019-04-14T00:00:00\", \"2019-04-21T00:00:00\", \"2019-04-28T00:00:00\", \"2019-05-05T00:00:00\", \"2019-05-12T00:00:00\", \"2019-05-19T00:00:00\", \"2019-05-26T00:00:00\", \"2019-06-02T00:00:00\", \"2019-06-09T00:00:00\", \"2019-06-16T00:00:00\", \"2019-06-23T00:00:00\", \"2019-06-30T00:00:00\", \"2019-07-07T00:00:00\", \"2019-07-14T00:00:00\", \"2019-07-21T00:00:00\", \"2019-07-28T00:00:00\", \"2019-08-04T00:00:00\", \"2019-08-11T00:00:00\", \"2019-08-18T00:00:00\", \"2019-08-25T00:00:00\", \"2019-09-01T00:00:00\", \"2019-09-08T00:00:00\", \"2019-09-15T00:00:00\", \"2019-09-22T00:00:00\", \"2019-09-29T00:00:00\", \"2019-10-06T00:00:00\", \"2019-10-13T00:00:00\", \"2019-10-20T00:00:00\", \"2019-10-27T00:00:00\", \"2019-11-03T00:00:00\", \"2019-11-10T00:00:00\", \"2019-11-17T00:00:00\", \"2019-11-24T00:00:00\", \"2019-12-01T00:00:00\", \"2019-12-08T00:00:00\", \"2019-12-15T00:00:00\", \"2019-12-22T00:00:00\", \"2019-12-29T00:00:00\", \"2020-01-05T00:00:00\", \"2020-01-12T00:00:00\", \"2020-01-19T00:00:00\", \"2020-01-26T00:00:00\", \"2020-02-02T00:00:00\", \"2020-02-09T00:00:00\", \"2020-02-16T00:00:00\", \"2020-02-23T00:00:00\", \"2020-03-01T00:00:00\"], \"y\": [165, 136, 304, 210, 145, 82, 133, 103, 171, 116, 143, 129, 179, 149, 97, 75, 98, 150, 149, 112, 78, 112, 144, 123, 96, 105, 127, 136, 183, 175, 132, 110, 117, 97, 131, 137, 126, 193, 120, 102, 85, 132, 159, 111, 73, 57, 50, 93, 270, 119, 114, 115, 61, 61, 146, 78]}],\n",
       "                        {\"template\": {\"data\": {\"bar\": [{\"error_x\": {\"color\": \"#2a3f5f\"}, \"error_y\": {\"color\": \"#2a3f5f\"}, \"marker\": {\"line\": {\"color\": \"#E5ECF6\", \"width\": 0.5}}, \"type\": \"bar\"}], \"barpolar\": [{\"marker\": {\"line\": {\"color\": \"#E5ECF6\", \"width\": 0.5}}, \"type\": \"barpolar\"}], \"carpet\": [{\"aaxis\": {\"endlinecolor\": \"#2a3f5f\", \"gridcolor\": \"white\", \"linecolor\": \"white\", \"minorgridcolor\": \"white\", \"startlinecolor\": \"#2a3f5f\"}, \"baxis\": {\"endlinecolor\": \"#2a3f5f\", \"gridcolor\": \"white\", \"linecolor\": \"white\", \"minorgridcolor\": \"white\", \"startlinecolor\": \"#2a3f5f\"}, \"type\": \"carpet\"}], \"choropleth\": [{\"colorbar\": {\"outlinewidth\": 0, \"ticks\": \"\"}, \"type\": \"choropleth\"}], \"contour\": [{\"colorbar\": {\"outlinewidth\": 0, \"ticks\": \"\"}, \"colorscale\": [[0.0, \"#0d0887\"], [0.1111111111111111, \"#46039f\"], [0.2222222222222222, \"#7201a8\"], [0.3333333333333333, \"#9c179e\"], [0.4444444444444444, \"#bd3786\"], [0.5555555555555556, \"#d8576b\"], [0.6666666666666666, \"#ed7953\"], [0.7777777777777778, \"#fb9f3a\"], [0.8888888888888888, \"#fdca26\"], [1.0, \"#f0f921\"]], \"type\": \"contour\"}], \"contourcarpet\": [{\"colorbar\": {\"outlinewidth\": 0, \"ticks\": \"\"}, \"type\": \"contourcarpet\"}], \"heatmap\": [{\"colorbar\": {\"outlinewidth\": 0, \"ticks\": \"\"}, \"colorscale\": [[0.0, \"#0d0887\"], [0.1111111111111111, \"#46039f\"], [0.2222222222222222, \"#7201a8\"], [0.3333333333333333, \"#9c179e\"], [0.4444444444444444, \"#bd3786\"], [0.5555555555555556, \"#d8576b\"], [0.6666666666666666, \"#ed7953\"], [0.7777777777777778, \"#fb9f3a\"], [0.8888888888888888, \"#fdca26\"], [1.0, \"#f0f921\"]], \"type\": \"heatmap\"}], \"heatmapgl\": [{\"colorbar\": {\"outlinewidth\": 0, \"ticks\": \"\"}, \"colorscale\": [[0.0, \"#0d0887\"], [0.1111111111111111, \"#46039f\"], [0.2222222222222222, \"#7201a8\"], [0.3333333333333333, \"#9c179e\"], [0.4444444444444444, \"#bd3786\"], [0.5555555555555556, \"#d8576b\"], [0.6666666666666666, \"#ed7953\"], [0.7777777777777778, \"#fb9f3a\"], [0.8888888888888888, \"#fdca26\"], [1.0, \"#f0f921\"]], \"type\": \"heatmapgl\"}], \"histogram\": [{\"marker\": {\"colorbar\": {\"outlinewidth\": 0, \"ticks\": \"\"}}, \"type\": \"histogram\"}], \"histogram2d\": [{\"colorbar\": {\"outlinewidth\": 0, \"ticks\": \"\"}, \"colorscale\": [[0.0, \"#0d0887\"], [0.1111111111111111, \"#46039f\"], [0.2222222222222222, \"#7201a8\"], [0.3333333333333333, \"#9c179e\"], [0.4444444444444444, \"#bd3786\"], [0.5555555555555556, \"#d8576b\"], [0.6666666666666666, \"#ed7953\"], [0.7777777777777778, \"#fb9f3a\"], [0.8888888888888888, \"#fdca26\"], [1.0, \"#f0f921\"]], \"type\": \"histogram2d\"}], \"histogram2dcontour\": [{\"colorbar\": {\"outlinewidth\": 0, \"ticks\": \"\"}, \"colorscale\": [[0.0, \"#0d0887\"], [0.1111111111111111, \"#46039f\"], [0.2222222222222222, \"#7201a8\"], [0.3333333333333333, \"#9c179e\"], [0.4444444444444444, \"#bd3786\"], [0.5555555555555556, \"#d8576b\"], [0.6666666666666666, \"#ed7953\"], [0.7777777777777778, \"#fb9f3a\"], [0.8888888888888888, \"#fdca26\"], [1.0, \"#f0f921\"]], \"type\": \"histogram2dcontour\"}], \"mesh3d\": [{\"colorbar\": {\"outlinewidth\": 0, \"ticks\": \"\"}, \"type\": \"mesh3d\"}], \"parcoords\": [{\"line\": {\"colorbar\": {\"outlinewidth\": 0, \"ticks\": \"\"}}, \"type\": \"parcoords\"}], \"pie\": [{\"automargin\": true, \"type\": \"pie\"}], \"scatter\": [{\"marker\": {\"colorbar\": {\"outlinewidth\": 0, \"ticks\": \"\"}}, \"type\": \"scatter\"}], \"scatter3d\": [{\"line\": {\"colorbar\": {\"outlinewidth\": 0, \"ticks\": \"\"}}, \"marker\": {\"colorbar\": {\"outlinewidth\": 0, \"ticks\": \"\"}}, \"type\": \"scatter3d\"}], \"scattercarpet\": [{\"marker\": {\"colorbar\": {\"outlinewidth\": 0, \"ticks\": \"\"}}, \"type\": \"scattercarpet\"}], \"scattergeo\": [{\"marker\": {\"colorbar\": {\"outlinewidth\": 0, \"ticks\": \"\"}}, \"type\": \"scattergeo\"}], \"scattergl\": [{\"marker\": {\"colorbar\": {\"outlinewidth\": 0, \"ticks\": \"\"}}, \"type\": \"scattergl\"}], \"scattermapbox\": [{\"marker\": {\"colorbar\": {\"outlinewidth\": 0, \"ticks\": \"\"}}, \"type\": \"scattermapbox\"}], \"scatterpolar\": [{\"marker\": {\"colorbar\": {\"outlinewidth\": 0, \"ticks\": \"\"}}, \"type\": \"scatterpolar\"}], \"scatterpolargl\": [{\"marker\": {\"colorbar\": {\"outlinewidth\": 0, \"ticks\": \"\"}}, \"type\": \"scatterpolargl\"}], \"scatterternary\": [{\"marker\": {\"colorbar\": {\"outlinewidth\": 0, \"ticks\": \"\"}}, \"type\": \"scatterternary\"}], \"surface\": [{\"colorbar\": {\"outlinewidth\": 0, \"ticks\": \"\"}, \"colorscale\": [[0.0, \"#0d0887\"], [0.1111111111111111, \"#46039f\"], [0.2222222222222222, \"#7201a8\"], [0.3333333333333333, \"#9c179e\"], [0.4444444444444444, \"#bd3786\"], [0.5555555555555556, \"#d8576b\"], [0.6666666666666666, \"#ed7953\"], [0.7777777777777778, \"#fb9f3a\"], [0.8888888888888888, \"#fdca26\"], [1.0, \"#f0f921\"]], \"type\": \"surface\"}], \"table\": [{\"cells\": {\"fill\": {\"color\": \"#EBF0F8\"}, \"line\": {\"color\": \"white\"}}, \"header\": {\"fill\": {\"color\": \"#C8D4E3\"}, \"line\": {\"color\": \"white\"}}, \"type\": \"table\"}]}, \"layout\": {\"annotationdefaults\": {\"arrowcolor\": \"#2a3f5f\", \"arrowhead\": 0, \"arrowwidth\": 1}, \"coloraxis\": {\"colorbar\": {\"outlinewidth\": 0, \"ticks\": \"\"}}, \"colorscale\": {\"diverging\": [[0, \"#8e0152\"], [0.1, \"#c51b7d\"], [0.2, \"#de77ae\"], [0.3, \"#f1b6da\"], [0.4, \"#fde0ef\"], [0.5, \"#f7f7f7\"], [0.6, \"#e6f5d0\"], [0.7, \"#b8e186\"], [0.8, \"#7fbc41\"], [0.9, \"#4d9221\"], [1, \"#276419\"]], \"sequential\": [[0.0, \"#0d0887\"], [0.1111111111111111, \"#46039f\"], [0.2222222222222222, \"#7201a8\"], [0.3333333333333333, \"#9c179e\"], [0.4444444444444444, \"#bd3786\"], [0.5555555555555556, \"#d8576b\"], [0.6666666666666666, \"#ed7953\"], [0.7777777777777778, \"#fb9f3a\"], [0.8888888888888888, \"#fdca26\"], [1.0, \"#f0f921\"]], \"sequentialminus\": [[0.0, \"#0d0887\"], [0.1111111111111111, \"#46039f\"], [0.2222222222222222, \"#7201a8\"], [0.3333333333333333, \"#9c179e\"], [0.4444444444444444, \"#bd3786\"], [0.5555555555555556, \"#d8576b\"], [0.6666666666666666, \"#ed7953\"], [0.7777777777777778, \"#fb9f3a\"], [0.8888888888888888, \"#fdca26\"], [1.0, \"#f0f921\"]]}, \"colorway\": [\"#636efa\", \"#EF553B\", \"#00cc96\", \"#ab63fa\", \"#FFA15A\", \"#19d3f3\", \"#FF6692\", \"#B6E880\", \"#FF97FF\", \"#FECB52\"], \"font\": {\"color\": \"#2a3f5f\"}, \"geo\": {\"bgcolor\": \"white\", \"lakecolor\": \"white\", \"landcolor\": \"#E5ECF6\", \"showlakes\": true, \"showland\": true, \"subunitcolor\": \"white\"}, \"hoverlabel\": {\"align\": \"left\"}, \"hovermode\": \"closest\", \"mapbox\": {\"style\": \"light\"}, \"paper_bgcolor\": \"white\", \"plot_bgcolor\": \"#E5ECF6\", \"polar\": {\"angularaxis\": {\"gridcolor\": \"white\", \"linecolor\": \"white\", \"ticks\": \"\"}, \"bgcolor\": \"#E5ECF6\", \"radialaxis\": {\"gridcolor\": \"white\", \"linecolor\": \"white\", \"ticks\": \"\"}}, \"scene\": {\"xaxis\": {\"backgroundcolor\": \"#E5ECF6\", \"gridcolor\": \"white\", \"gridwidth\": 2, \"linecolor\": \"white\", \"showbackground\": true, \"ticks\": \"\", \"zerolinecolor\": \"white\"}, \"yaxis\": {\"backgroundcolor\": \"#E5ECF6\", \"gridcolor\": \"white\", \"gridwidth\": 2, \"linecolor\": \"white\", \"showbackground\": true, \"ticks\": \"\", \"zerolinecolor\": \"white\"}, \"zaxis\": {\"backgroundcolor\": \"#E5ECF6\", \"gridcolor\": \"white\", \"gridwidth\": 2, \"linecolor\": \"white\", \"showbackground\": true, \"ticks\": \"\", \"zerolinecolor\": \"white\"}}, \"shapedefaults\": {\"line\": {\"color\": \"#2a3f5f\"}}, \"ternary\": {\"aaxis\": {\"gridcolor\": \"white\", \"linecolor\": \"white\", \"ticks\": \"\"}, \"baxis\": {\"gridcolor\": \"white\", \"linecolor\": \"white\", \"ticks\": \"\"}, \"bgcolor\": \"#E5ECF6\", \"caxis\": {\"gridcolor\": \"white\", \"linecolor\": \"white\", \"ticks\": \"\"}}, \"title\": {\"x\": 0.05}, \"xaxis\": {\"automargin\": true, \"gridcolor\": \"white\", \"linecolor\": \"white\", \"ticks\": \"\", \"title\": {\"standoff\": 15}, \"zerolinecolor\": \"white\", \"zerolinewidth\": 2}, \"yaxis\": {\"automargin\": true, \"gridcolor\": \"white\", \"linecolor\": \"white\", \"ticks\": \"\", \"title\": {\"standoff\": 15}, \"zerolinecolor\": \"white\", \"zerolinewidth\": 2}}}, \"title\": {\"text\": \"Twitter Keywords Searched Weekly\"}, \"xaxis\": {\"title\": {\"text\": \"Date\"}}, \"yaxis\": {\"title\": {\"text\": \"Number of Tweets Containing Keyword (Per Week)\"}}},\n",
       "                        {\"responsive\": true}\n",
       "                    ).then(function(){\n",
       "                            \n",
       "var gd = document.getElementById('be47abfe-5898-41d9-a1e7-84526abcb0c1');\n",
       "var x = new MutationObserver(function (mutations, observer) {{\n",
       "        var display = window.getComputedStyle(gd).display;\n",
       "        if (!display || display === 'none') {{\n",
       "            console.log([gd, 'removed!']);\n",
       "            Plotly.purge(gd);\n",
       "            observer.disconnect();\n",
       "        }}\n",
       "}});\n",
       "\n",
       "// Listen for the removal of the full notebook cells\n",
       "var notebookContainer = gd.closest('#notebook-container');\n",
       "if (notebookContainer) {{\n",
       "    x.observe(notebookContainer, {childList: true});\n",
       "}}\n",
       "\n",
       "// Listen for the clearing of the current output cell\n",
       "var outputEl = gd.closest('.output');\n",
       "if (outputEl) {{\n",
       "    x.observe(outputEl, {childList: true});\n",
       "}}\n",
       "\n",
       "                        })\n",
       "                };\n",
       "                });\n",
       "            </script>\n",
       "        </div>"
      ]
     },
     "metadata": {},
     "output_type": "display_data"
    }
   ],
   "source": [
    "clean_meat_graph = graph_data(clean_meat_category_data, clean_meat_categories)\n",
    "clean_meat_graph.show()"
   ]
  },
  {
   "cell_type": "code",
   "execution_count": 65,
   "metadata": {},
   "outputs": [
    {
     "data": {
      "application/vnd.plotly.v1+json": {
       "config": {
        "plotlyServerURL": "https://plot.ly"
       },
       "data": [
        {
         "hovertemplate": "<b>Date</b>: %{x}<br><b>Tweets</b>: %{y}",
         "name": "cage-free",
         "type": "scatter",
         "x": [
          "2019-02-10T00:00:00",
          "2019-02-17T00:00:00",
          "2019-02-24T00:00:00",
          "2019-03-03T00:00:00",
          "2019-03-10T00:00:00",
          "2019-03-17T00:00:00",
          "2019-03-24T00:00:00",
          "2019-03-31T00:00:00",
          "2019-04-07T00:00:00",
          "2019-04-14T00:00:00",
          "2019-04-21T00:00:00",
          "2019-04-28T00:00:00",
          "2019-05-05T00:00:00",
          "2019-05-12T00:00:00",
          "2019-05-19T00:00:00",
          "2019-05-26T00:00:00",
          "2019-06-02T00:00:00",
          "2019-06-09T00:00:00",
          "2019-06-16T00:00:00",
          "2019-06-23T00:00:00",
          "2019-06-30T00:00:00",
          "2019-07-07T00:00:00",
          "2019-07-14T00:00:00",
          "2019-07-21T00:00:00",
          "2019-07-28T00:00:00",
          "2019-08-04T00:00:00",
          "2019-08-11T00:00:00",
          "2019-08-18T00:00:00",
          "2019-08-25T00:00:00",
          "2019-09-01T00:00:00",
          "2019-09-08T00:00:00",
          "2019-09-15T00:00:00",
          "2019-09-22T00:00:00",
          "2019-09-29T00:00:00",
          "2019-10-06T00:00:00",
          "2019-10-13T00:00:00",
          "2019-10-20T00:00:00",
          "2019-10-27T00:00:00",
          "2019-11-03T00:00:00",
          "2019-11-10T00:00:00",
          "2019-11-17T00:00:00",
          "2019-11-24T00:00:00",
          "2019-12-01T00:00:00",
          "2019-12-08T00:00:00",
          "2019-12-15T00:00:00",
          "2019-12-22T00:00:00",
          "2019-12-29T00:00:00",
          "2020-01-05T00:00:00",
          "2020-01-12T00:00:00",
          "2020-01-19T00:00:00",
          "2020-01-26T00:00:00",
          "2020-02-02T00:00:00",
          "2020-02-09T00:00:00",
          "2020-02-16T00:00:00",
          "2020-02-23T00:00:00",
          "2020-03-01T00:00:00"
         ],
         "y": [
          424,
          676,
          328,
          250,
          336,
          332,
          372,
          273,
          288,
          539,
          497,
          251,
          221,
          764,
          304,
          240,
          287,
          337,
          341,
          299,
          348,
          268,
          267,
          313,
          172,
          225,
          217,
          554,
          291,
          280,
          259,
          262,
          688,
          322,
          336,
          367,
          344,
          275,
          291,
          385,
          553,
          507,
          380,
          285,
          199,
          238,
          235,
          225,
          279,
          268,
          253,
          262,
          293,
          395,
          373,
          236
         ]
        },
        {
         "hovertemplate": "<b>Date</b>: %{x}<br><b>Tweets</b>: %{y}",
         "name": "free range",
         "type": "scatter",
         "x": [
          "2019-02-10T00:00:00",
          "2019-02-17T00:00:00",
          "2019-02-24T00:00:00",
          "2019-03-03T00:00:00",
          "2019-03-10T00:00:00",
          "2019-03-17T00:00:00",
          "2019-03-24T00:00:00",
          "2019-03-31T00:00:00",
          "2019-04-07T00:00:00",
          "2019-04-14T00:00:00",
          "2019-04-21T00:00:00",
          "2019-04-28T00:00:00",
          "2019-05-05T00:00:00",
          "2019-05-12T00:00:00",
          "2019-05-19T00:00:00",
          "2019-05-26T00:00:00",
          "2019-06-02T00:00:00",
          "2019-06-09T00:00:00",
          "2019-06-16T00:00:00",
          "2019-06-23T00:00:00",
          "2019-06-30T00:00:00",
          "2019-07-07T00:00:00",
          "2019-07-14T00:00:00",
          "2019-07-21T00:00:00",
          "2019-07-28T00:00:00",
          "2019-08-04T00:00:00",
          "2019-08-11T00:00:00",
          "2019-08-18T00:00:00",
          "2019-08-25T00:00:00",
          "2019-09-01T00:00:00",
          "2019-09-08T00:00:00",
          "2019-09-15T00:00:00",
          "2019-09-22T00:00:00",
          "2019-09-29T00:00:00",
          "2019-10-06T00:00:00",
          "2019-10-13T00:00:00",
          "2019-10-20T00:00:00",
          "2019-10-27T00:00:00",
          "2019-11-03T00:00:00",
          "2019-11-10T00:00:00",
          "2019-11-17T00:00:00",
          "2019-11-24T00:00:00",
          "2019-12-01T00:00:00",
          "2019-12-08T00:00:00",
          "2019-12-15T00:00:00",
          "2019-12-22T00:00:00",
          "2019-12-29T00:00:00",
          "2020-01-05T00:00:00",
          "2020-01-12T00:00:00",
          "2020-01-19T00:00:00",
          "2020-01-26T00:00:00",
          "2020-02-02T00:00:00",
          "2020-02-09T00:00:00",
          "2020-02-16T00:00:00",
          "2020-02-23T00:00:00",
          "2020-03-01T00:00:00"
         ],
         "y": [
          2057,
          2069,
          2019,
          1944,
          2227,
          2344,
          2172,
          1918,
          1835,
          1850,
          1836,
          1975,
          1906,
          1734,
          1592,
          1467,
          1587,
          1807,
          1734,
          1774,
          1852,
          1711,
          1560,
          1860,
          1241,
          2043,
          2074,
          2248,
          2291,
          1910,
          2294,
          1918,
          1864,
          2203,
          2283,
          2047,
          1978,
          1860,
          1970,
          2022,
          2028,
          2120,
          2195,
          1747,
          1462,
          1707,
          1710,
          1743,
          2112,
          1866,
          1949,
          2786,
          1873,
          1679,
          1989,
          1876
         ]
        },
        {
         "hovertemplate": "<b>Date</b>: %{x}<br><b>Tweets</b>: %{y}",
         "name": "gestation crate",
         "type": "scatter",
         "x": [
          "2019-02-10T00:00:00",
          "2019-02-17T00:00:00",
          "2019-02-24T00:00:00",
          "2019-03-03T00:00:00",
          "2019-03-10T00:00:00",
          "2019-03-17T00:00:00",
          "2019-03-24T00:00:00",
          "2019-03-31T00:00:00",
          "2019-04-07T00:00:00",
          "2019-04-14T00:00:00",
          "2019-04-21T00:00:00",
          "2019-04-28T00:00:00",
          "2019-05-05T00:00:00",
          "2019-05-12T00:00:00",
          "2019-05-19T00:00:00",
          "2019-05-26T00:00:00",
          "2019-06-02T00:00:00",
          "2019-06-09T00:00:00",
          "2019-06-16T00:00:00",
          "2019-06-23T00:00:00",
          "2019-06-30T00:00:00",
          "2019-07-07T00:00:00",
          "2019-07-14T00:00:00",
          "2019-07-21T00:00:00",
          "2019-07-28T00:00:00",
          "2019-08-04T00:00:00",
          "2019-08-11T00:00:00",
          "2019-08-18T00:00:00",
          "2019-08-25T00:00:00",
          "2019-09-01T00:00:00",
          "2019-09-08T00:00:00",
          "2019-09-15T00:00:00",
          "2019-09-22T00:00:00",
          "2019-09-29T00:00:00",
          "2019-10-06T00:00:00",
          "2019-10-13T00:00:00",
          "2019-10-20T00:00:00",
          "2019-10-27T00:00:00",
          "2019-11-03T00:00:00",
          "2019-11-10T00:00:00",
          "2019-11-17T00:00:00",
          "2019-11-24T00:00:00",
          "2019-12-01T00:00:00",
          "2019-12-08T00:00:00",
          "2019-12-15T00:00:00",
          "2019-12-22T00:00:00",
          "2019-12-29T00:00:00",
          "2020-01-05T00:00:00",
          "2020-01-12T00:00:00",
          "2020-01-19T00:00:00",
          "2020-01-26T00:00:00",
          "2020-02-02T00:00:00",
          "2020-02-09T00:00:00",
          "2020-02-16T00:00:00",
          "2020-02-23T00:00:00"
         ],
         "y": [
          10,
          5,
          3,
          15,
          5,
          3,
          3,
          2,
          8,
          1,
          1,
          0,
          2,
          3,
          1,
          2,
          7,
          4,
          0,
          2,
          21,
          32,
          1038,
          28,
          53,
          7,
          417,
          95,
          93,
          6,
          10,
          70,
          43,
          9,
          168,
          12,
          75,
          76,
          19,
          18,
          41,
          4,
          11,
          67,
          11,
          3,
          7,
          48,
          42,
          4,
          4,
          5,
          6,
          5,
          1
         ]
        },
        {
         "hovertemplate": "<b>Date</b>: %{x}<br><b>Tweets</b>: %{y}",
         "name": "animal welfare",
         "type": "scatter",
         "x": [
          "2019-02-10T00:00:00",
          "2019-02-17T00:00:00",
          "2019-02-24T00:00:00",
          "2019-03-03T00:00:00",
          "2019-03-10T00:00:00",
          "2019-03-17T00:00:00",
          "2019-03-24T00:00:00",
          "2019-03-31T00:00:00",
          "2019-04-07T00:00:00",
          "2019-04-14T00:00:00",
          "2019-04-21T00:00:00",
          "2019-04-28T00:00:00",
          "2019-05-05T00:00:00",
          "2019-05-12T00:00:00",
          "2019-05-19T00:00:00",
          "2019-05-26T00:00:00",
          "2019-06-02T00:00:00",
          "2019-06-09T00:00:00",
          "2019-06-16T00:00:00",
          "2019-06-23T00:00:00",
          "2019-06-30T00:00:00",
          "2019-07-07T00:00:00",
          "2019-07-14T00:00:00",
          "2019-07-21T00:00:00",
          "2019-07-28T00:00:00",
          "2019-08-04T00:00:00",
          "2019-08-11T00:00:00",
          "2019-08-18T00:00:00",
          "2019-08-25T00:00:00",
          "2019-09-01T00:00:00",
          "2019-09-08T00:00:00",
          "2019-09-15T00:00:00",
          "2019-09-22T00:00:00",
          "2019-09-29T00:00:00",
          "2019-10-06T00:00:00",
          "2019-10-13T00:00:00",
          "2019-10-20T00:00:00",
          "2019-10-27T00:00:00",
          "2019-11-03T00:00:00",
          "2019-11-10T00:00:00",
          "2019-11-17T00:00:00",
          "2019-11-24T00:00:00",
          "2019-12-01T00:00:00",
          "2019-12-08T00:00:00",
          "2019-12-15T00:00:00",
          "2019-12-22T00:00:00",
          "2019-12-29T00:00:00",
          "2020-01-05T00:00:00",
          "2020-01-12T00:00:00",
          "2020-01-19T00:00:00",
          "2020-01-26T00:00:00",
          "2020-02-02T00:00:00",
          "2020-02-09T00:00:00",
          "2020-02-16T00:00:00",
          "2020-02-23T00:00:00",
          "2020-03-01T00:00:00"
         ],
         "y": [
          3552,
          3638,
          3854,
          4504,
          4085,
          3818,
          3219,
          3321,
          4055,
          3810,
          2642,
          2624,
          3092,
          2748,
          3399,
          2741,
          2861,
          4382,
          2968,
          2766,
          3501,
          3559,
          2767,
          3245,
          2612,
          2998,
          3618,
          4695,
          5151,
          4804,
          4199,
          3755,
          3929,
          4165,
          5240,
          3894,
          4492,
          3901,
          4331,
          3736,
          3592,
          4671,
          5286,
          3890,
          3261,
          3756,
          2728,
          3378,
          4351,
          4067,
          4040,
          4710,
          4237,
          6539,
          3504,
          4453
         ]
        },
        {
         "hovertemplate": "<b>Date</b>: %{x}<br><b>Tweets</b>: %{y}",
         "name": "factory farm",
         "type": "scatter",
         "x": [
          "2019-02-10T00:00:00",
          "2019-02-17T00:00:00",
          "2019-02-24T00:00:00",
          "2019-03-03T00:00:00",
          "2019-03-10T00:00:00",
          "2019-03-17T00:00:00",
          "2019-03-24T00:00:00",
          "2019-03-31T00:00:00",
          "2019-04-07T00:00:00",
          "2019-04-14T00:00:00",
          "2019-04-21T00:00:00",
          "2019-04-28T00:00:00",
          "2019-05-05T00:00:00",
          "2019-05-12T00:00:00",
          "2019-05-19T00:00:00",
          "2019-05-26T00:00:00",
          "2019-06-02T00:00:00",
          "2019-06-09T00:00:00",
          "2019-06-16T00:00:00",
          "2019-06-23T00:00:00",
          "2019-06-30T00:00:00",
          "2019-07-07T00:00:00",
          "2019-07-14T00:00:00",
          "2019-07-21T00:00:00",
          "2019-07-28T00:00:00",
          "2019-08-04T00:00:00",
          "2019-08-11T00:00:00",
          "2019-08-18T00:00:00",
          "2019-08-25T00:00:00",
          "2019-09-01T00:00:00",
          "2019-09-08T00:00:00",
          "2019-09-15T00:00:00",
          "2019-09-22T00:00:00",
          "2019-09-29T00:00:00",
          "2019-10-06T00:00:00",
          "2019-10-13T00:00:00",
          "2019-10-20T00:00:00",
          "2019-10-27T00:00:00",
          "2019-11-03T00:00:00",
          "2019-11-10T00:00:00",
          "2019-11-17T00:00:00",
          "2019-11-24T00:00:00",
          "2019-12-01T00:00:00",
          "2019-12-08T00:00:00",
          "2019-12-15T00:00:00",
          "2019-12-22T00:00:00",
          "2019-12-29T00:00:00",
          "2020-01-05T00:00:00",
          "2020-01-12T00:00:00",
          "2020-01-19T00:00:00",
          "2020-01-26T00:00:00",
          "2020-02-02T00:00:00",
          "2020-02-09T00:00:00",
          "2020-02-16T00:00:00",
          "2020-02-23T00:00:00",
          "2020-03-01T00:00:00"
         ],
         "y": [
          412,
          371,
          424,
          417,
          310,
          328,
          266,
          240,
          275,
          367,
          171,
          257,
          348,
          255,
          165,
          179,
          193,
          374,
          266,
          284,
          231,
          204,
          242,
          295,
          438,
          273,
          424,
          335,
          393,
          345,
          389,
          286,
          559,
          1034,
          486,
          344,
          343,
          348,
          543,
          399,
          256,
          340,
          696,
          466,
          399,
          408,
          292,
          284,
          525,
          382,
          389,
          380,
          292,
          729,
          315,
          263
         ]
        },
        {
         "hovertemplate": "<b>Date</b>: %{x}<br><b>Tweets</b>: %{y}",
         "name": "intensive agriculture",
         "type": "scatter",
         "x": [
          "2019-02-10T00:00:00",
          "2019-02-17T00:00:00",
          "2019-02-24T00:00:00",
          "2019-03-03T00:00:00",
          "2019-03-10T00:00:00",
          "2019-03-17T00:00:00",
          "2019-03-24T00:00:00",
          "2019-03-31T00:00:00",
          "2019-04-07T00:00:00",
          "2019-04-14T00:00:00",
          "2019-04-21T00:00:00",
          "2019-04-28T00:00:00",
          "2019-05-05T00:00:00",
          "2019-05-12T00:00:00",
          "2019-05-19T00:00:00",
          "2019-05-26T00:00:00",
          "2019-06-02T00:00:00",
          "2019-06-09T00:00:00",
          "2019-06-16T00:00:00",
          "2019-06-23T00:00:00",
          "2019-06-30T00:00:00",
          "2019-07-07T00:00:00",
          "2019-07-14T00:00:00",
          "2019-07-21T00:00:00",
          "2019-07-28T00:00:00",
          "2019-08-04T00:00:00",
          "2019-08-11T00:00:00",
          "2019-08-18T00:00:00",
          "2019-08-25T00:00:00",
          "2019-09-01T00:00:00",
          "2019-09-08T00:00:00",
          "2019-09-15T00:00:00",
          "2019-09-22T00:00:00",
          "2019-09-29T00:00:00",
          "2019-10-06T00:00:00",
          "2019-10-13T00:00:00",
          "2019-10-20T00:00:00",
          "2019-10-27T00:00:00",
          "2019-11-03T00:00:00",
          "2019-11-10T00:00:00",
          "2019-11-17T00:00:00",
          "2019-11-24T00:00:00",
          "2019-12-01T00:00:00",
          "2019-12-08T00:00:00",
          "2019-12-15T00:00:00",
          "2019-12-22T00:00:00",
          "2019-12-29T00:00:00",
          "2020-01-05T00:00:00",
          "2020-01-12T00:00:00",
          "2020-01-19T00:00:00",
          "2020-01-26T00:00:00",
          "2020-02-02T00:00:00",
          "2020-02-09T00:00:00",
          "2020-02-16T00:00:00",
          "2020-02-23T00:00:00",
          "2020-03-01T00:00:00"
         ],
         "y": [
          177,
          715,
          117,
          77,
          77,
          50,
          50,
          63,
          76,
          58,
          71,
          106,
          82,
          109,
          85,
          77,
          55,
          55,
          45,
          50,
          50,
          62,
          71,
          60,
          19,
          61,
          121,
          105,
          84,
          81,
          102,
          88,
          67,
          46,
          88,
          78,
          79,
          77,
          132,
          143,
          61,
          120,
          84,
          87,
          54,
          55,
          35,
          40,
          93,
          74,
          50,
          57,
          44,
          63,
          56,
          68
         ]
        },
        {
         "hovertemplate": "<b>Date</b>: %{x}<br><b>Tweets</b>: %{y}",
         "name": "live export",
         "type": "scatter",
         "x": [
          "2019-02-10T00:00:00",
          "2019-02-17T00:00:00",
          "2019-02-24T00:00:00",
          "2019-03-03T00:00:00",
          "2019-03-10T00:00:00",
          "2019-03-17T00:00:00",
          "2019-03-24T00:00:00",
          "2019-03-31T00:00:00",
          "2019-04-07T00:00:00",
          "2019-04-14T00:00:00",
          "2019-04-21T00:00:00",
          "2019-04-28T00:00:00",
          "2019-05-05T00:00:00",
          "2019-05-12T00:00:00",
          "2019-05-19T00:00:00",
          "2019-05-26T00:00:00",
          "2019-06-02T00:00:00",
          "2019-06-09T00:00:00",
          "2019-06-16T00:00:00",
          "2019-06-23T00:00:00",
          "2019-06-30T00:00:00",
          "2019-07-07T00:00:00",
          "2019-07-14T00:00:00",
          "2019-07-21T00:00:00",
          "2019-07-28T00:00:00",
          "2019-08-04T00:00:00",
          "2019-08-11T00:00:00",
          "2019-08-18T00:00:00",
          "2019-08-25T00:00:00",
          "2019-09-01T00:00:00",
          "2019-09-08T00:00:00",
          "2019-09-15T00:00:00",
          "2019-09-22T00:00:00",
          "2019-09-29T00:00:00",
          "2019-10-06T00:00:00",
          "2019-10-13T00:00:00",
          "2019-10-20T00:00:00",
          "2019-10-27T00:00:00",
          "2019-11-03T00:00:00",
          "2019-11-10T00:00:00",
          "2019-11-17T00:00:00",
          "2019-11-24T00:00:00",
          "2019-12-01T00:00:00",
          "2019-12-08T00:00:00",
          "2019-12-15T00:00:00",
          "2019-12-22T00:00:00",
          "2019-12-29T00:00:00",
          "2020-01-05T00:00:00",
          "2020-01-12T00:00:00",
          "2020-01-19T00:00:00",
          "2020-01-26T00:00:00",
          "2020-02-02T00:00:00",
          "2020-02-09T00:00:00",
          "2020-02-16T00:00:00",
          "2020-02-23T00:00:00",
          "2020-03-01T00:00:00"
         ],
         "y": [
          719,
          791,
          983,
          580,
          526,
          240,
          656,
          353,
          789,
          489,
          263,
          393,
          490,
          682,
          503,
          287,
          359,
          309,
          546,
          510,
          428,
          402,
          274,
          342,
          330,
          632,
          368,
          211,
          350,
          380,
          528,
          1035,
          811,
          571,
          605,
          333,
          533,
          410,
          459,
          382,
          218,
          493,
          1061,
          422,
          447,
          316,
          117,
          94,
          207,
          266,
          959,
          510,
          322,
          163,
          182,
          442
         ]
        }
       ],
       "layout": {
        "template": {
         "data": {
          "bar": [
           {
            "error_x": {
             "color": "#2a3f5f"
            },
            "error_y": {
             "color": "#2a3f5f"
            },
            "marker": {
             "line": {
              "color": "#E5ECF6",
              "width": 0.5
             }
            },
            "type": "bar"
           }
          ],
          "barpolar": [
           {
            "marker": {
             "line": {
              "color": "#E5ECF6",
              "width": 0.5
             }
            },
            "type": "barpolar"
           }
          ],
          "carpet": [
           {
            "aaxis": {
             "endlinecolor": "#2a3f5f",
             "gridcolor": "white",
             "linecolor": "white",
             "minorgridcolor": "white",
             "startlinecolor": "#2a3f5f"
            },
            "baxis": {
             "endlinecolor": "#2a3f5f",
             "gridcolor": "white",
             "linecolor": "white",
             "minorgridcolor": "white",
             "startlinecolor": "#2a3f5f"
            },
            "type": "carpet"
           }
          ],
          "choropleth": [
           {
            "colorbar": {
             "outlinewidth": 0,
             "ticks": ""
            },
            "type": "choropleth"
           }
          ],
          "contour": [
           {
            "colorbar": {
             "outlinewidth": 0,
             "ticks": ""
            },
            "colorscale": [
             [
              0,
              "#0d0887"
             ],
             [
              0.1111111111111111,
              "#46039f"
             ],
             [
              0.2222222222222222,
              "#7201a8"
             ],
             [
              0.3333333333333333,
              "#9c179e"
             ],
             [
              0.4444444444444444,
              "#bd3786"
             ],
             [
              0.5555555555555556,
              "#d8576b"
             ],
             [
              0.6666666666666666,
              "#ed7953"
             ],
             [
              0.7777777777777778,
              "#fb9f3a"
             ],
             [
              0.8888888888888888,
              "#fdca26"
             ],
             [
              1,
              "#f0f921"
             ]
            ],
            "type": "contour"
           }
          ],
          "contourcarpet": [
           {
            "colorbar": {
             "outlinewidth": 0,
             "ticks": ""
            },
            "type": "contourcarpet"
           }
          ],
          "heatmap": [
           {
            "colorbar": {
             "outlinewidth": 0,
             "ticks": ""
            },
            "colorscale": [
             [
              0,
              "#0d0887"
             ],
             [
              0.1111111111111111,
              "#46039f"
             ],
             [
              0.2222222222222222,
              "#7201a8"
             ],
             [
              0.3333333333333333,
              "#9c179e"
             ],
             [
              0.4444444444444444,
              "#bd3786"
             ],
             [
              0.5555555555555556,
              "#d8576b"
             ],
             [
              0.6666666666666666,
              "#ed7953"
             ],
             [
              0.7777777777777778,
              "#fb9f3a"
             ],
             [
              0.8888888888888888,
              "#fdca26"
             ],
             [
              1,
              "#f0f921"
             ]
            ],
            "type": "heatmap"
           }
          ],
          "heatmapgl": [
           {
            "colorbar": {
             "outlinewidth": 0,
             "ticks": ""
            },
            "colorscale": [
             [
              0,
              "#0d0887"
             ],
             [
              0.1111111111111111,
              "#46039f"
             ],
             [
              0.2222222222222222,
              "#7201a8"
             ],
             [
              0.3333333333333333,
              "#9c179e"
             ],
             [
              0.4444444444444444,
              "#bd3786"
             ],
             [
              0.5555555555555556,
              "#d8576b"
             ],
             [
              0.6666666666666666,
              "#ed7953"
             ],
             [
              0.7777777777777778,
              "#fb9f3a"
             ],
             [
              0.8888888888888888,
              "#fdca26"
             ],
             [
              1,
              "#f0f921"
             ]
            ],
            "type": "heatmapgl"
           }
          ],
          "histogram": [
           {
            "marker": {
             "colorbar": {
              "outlinewidth": 0,
              "ticks": ""
             }
            },
            "type": "histogram"
           }
          ],
          "histogram2d": [
           {
            "colorbar": {
             "outlinewidth": 0,
             "ticks": ""
            },
            "colorscale": [
             [
              0,
              "#0d0887"
             ],
             [
              0.1111111111111111,
              "#46039f"
             ],
             [
              0.2222222222222222,
              "#7201a8"
             ],
             [
              0.3333333333333333,
              "#9c179e"
             ],
             [
              0.4444444444444444,
              "#bd3786"
             ],
             [
              0.5555555555555556,
              "#d8576b"
             ],
             [
              0.6666666666666666,
              "#ed7953"
             ],
             [
              0.7777777777777778,
              "#fb9f3a"
             ],
             [
              0.8888888888888888,
              "#fdca26"
             ],
             [
              1,
              "#f0f921"
             ]
            ],
            "type": "histogram2d"
           }
          ],
          "histogram2dcontour": [
           {
            "colorbar": {
             "outlinewidth": 0,
             "ticks": ""
            },
            "colorscale": [
             [
              0,
              "#0d0887"
             ],
             [
              0.1111111111111111,
              "#46039f"
             ],
             [
              0.2222222222222222,
              "#7201a8"
             ],
             [
              0.3333333333333333,
              "#9c179e"
             ],
             [
              0.4444444444444444,
              "#bd3786"
             ],
             [
              0.5555555555555556,
              "#d8576b"
             ],
             [
              0.6666666666666666,
              "#ed7953"
             ],
             [
              0.7777777777777778,
              "#fb9f3a"
             ],
             [
              0.8888888888888888,
              "#fdca26"
             ],
             [
              1,
              "#f0f921"
             ]
            ],
            "type": "histogram2dcontour"
           }
          ],
          "mesh3d": [
           {
            "colorbar": {
             "outlinewidth": 0,
             "ticks": ""
            },
            "type": "mesh3d"
           }
          ],
          "parcoords": [
           {
            "line": {
             "colorbar": {
              "outlinewidth": 0,
              "ticks": ""
             }
            },
            "type": "parcoords"
           }
          ],
          "pie": [
           {
            "automargin": true,
            "type": "pie"
           }
          ],
          "scatter": [
           {
            "marker": {
             "colorbar": {
              "outlinewidth": 0,
              "ticks": ""
             }
            },
            "type": "scatter"
           }
          ],
          "scatter3d": [
           {
            "line": {
             "colorbar": {
              "outlinewidth": 0,
              "ticks": ""
             }
            },
            "marker": {
             "colorbar": {
              "outlinewidth": 0,
              "ticks": ""
             }
            },
            "type": "scatter3d"
           }
          ],
          "scattercarpet": [
           {
            "marker": {
             "colorbar": {
              "outlinewidth": 0,
              "ticks": ""
             }
            },
            "type": "scattercarpet"
           }
          ],
          "scattergeo": [
           {
            "marker": {
             "colorbar": {
              "outlinewidth": 0,
              "ticks": ""
             }
            },
            "type": "scattergeo"
           }
          ],
          "scattergl": [
           {
            "marker": {
             "colorbar": {
              "outlinewidth": 0,
              "ticks": ""
             }
            },
            "type": "scattergl"
           }
          ],
          "scattermapbox": [
           {
            "marker": {
             "colorbar": {
              "outlinewidth": 0,
              "ticks": ""
             }
            },
            "type": "scattermapbox"
           }
          ],
          "scatterpolar": [
           {
            "marker": {
             "colorbar": {
              "outlinewidth": 0,
              "ticks": ""
             }
            },
            "type": "scatterpolar"
           }
          ],
          "scatterpolargl": [
           {
            "marker": {
             "colorbar": {
              "outlinewidth": 0,
              "ticks": ""
             }
            },
            "type": "scatterpolargl"
           }
          ],
          "scatterternary": [
           {
            "marker": {
             "colorbar": {
              "outlinewidth": 0,
              "ticks": ""
             }
            },
            "type": "scatterternary"
           }
          ],
          "surface": [
           {
            "colorbar": {
             "outlinewidth": 0,
             "ticks": ""
            },
            "colorscale": [
             [
              0,
              "#0d0887"
             ],
             [
              0.1111111111111111,
              "#46039f"
             ],
             [
              0.2222222222222222,
              "#7201a8"
             ],
             [
              0.3333333333333333,
              "#9c179e"
             ],
             [
              0.4444444444444444,
              "#bd3786"
             ],
             [
              0.5555555555555556,
              "#d8576b"
             ],
             [
              0.6666666666666666,
              "#ed7953"
             ],
             [
              0.7777777777777778,
              "#fb9f3a"
             ],
             [
              0.8888888888888888,
              "#fdca26"
             ],
             [
              1,
              "#f0f921"
             ]
            ],
            "type": "surface"
           }
          ],
          "table": [
           {
            "cells": {
             "fill": {
              "color": "#EBF0F8"
             },
             "line": {
              "color": "white"
             }
            },
            "header": {
             "fill": {
              "color": "#C8D4E3"
             },
             "line": {
              "color": "white"
             }
            },
            "type": "table"
           }
          ]
         },
         "layout": {
          "annotationdefaults": {
           "arrowcolor": "#2a3f5f",
           "arrowhead": 0,
           "arrowwidth": 1
          },
          "coloraxis": {
           "colorbar": {
            "outlinewidth": 0,
            "ticks": ""
           }
          },
          "colorscale": {
           "diverging": [
            [
             0,
             "#8e0152"
            ],
            [
             0.1,
             "#c51b7d"
            ],
            [
             0.2,
             "#de77ae"
            ],
            [
             0.3,
             "#f1b6da"
            ],
            [
             0.4,
             "#fde0ef"
            ],
            [
             0.5,
             "#f7f7f7"
            ],
            [
             0.6,
             "#e6f5d0"
            ],
            [
             0.7,
             "#b8e186"
            ],
            [
             0.8,
             "#7fbc41"
            ],
            [
             0.9,
             "#4d9221"
            ],
            [
             1,
             "#276419"
            ]
           ],
           "sequential": [
            [
             0,
             "#0d0887"
            ],
            [
             0.1111111111111111,
             "#46039f"
            ],
            [
             0.2222222222222222,
             "#7201a8"
            ],
            [
             0.3333333333333333,
             "#9c179e"
            ],
            [
             0.4444444444444444,
             "#bd3786"
            ],
            [
             0.5555555555555556,
             "#d8576b"
            ],
            [
             0.6666666666666666,
             "#ed7953"
            ],
            [
             0.7777777777777778,
             "#fb9f3a"
            ],
            [
             0.8888888888888888,
             "#fdca26"
            ],
            [
             1,
             "#f0f921"
            ]
           ],
           "sequentialminus": [
            [
             0,
             "#0d0887"
            ],
            [
             0.1111111111111111,
             "#46039f"
            ],
            [
             0.2222222222222222,
             "#7201a8"
            ],
            [
             0.3333333333333333,
             "#9c179e"
            ],
            [
             0.4444444444444444,
             "#bd3786"
            ],
            [
             0.5555555555555556,
             "#d8576b"
            ],
            [
             0.6666666666666666,
             "#ed7953"
            ],
            [
             0.7777777777777778,
             "#fb9f3a"
            ],
            [
             0.8888888888888888,
             "#fdca26"
            ],
            [
             1,
             "#f0f921"
            ]
           ]
          },
          "colorway": [
           "#636efa",
           "#EF553B",
           "#00cc96",
           "#ab63fa",
           "#FFA15A",
           "#19d3f3",
           "#FF6692",
           "#B6E880",
           "#FF97FF",
           "#FECB52"
          ],
          "font": {
           "color": "#2a3f5f"
          },
          "geo": {
           "bgcolor": "white",
           "lakecolor": "white",
           "landcolor": "#E5ECF6",
           "showlakes": true,
           "showland": true,
           "subunitcolor": "white"
          },
          "hoverlabel": {
           "align": "left"
          },
          "hovermode": "closest",
          "mapbox": {
           "style": "light"
          },
          "paper_bgcolor": "white",
          "plot_bgcolor": "#E5ECF6",
          "polar": {
           "angularaxis": {
            "gridcolor": "white",
            "linecolor": "white",
            "ticks": ""
           },
           "bgcolor": "#E5ECF6",
           "radialaxis": {
            "gridcolor": "white",
            "linecolor": "white",
            "ticks": ""
           }
          },
          "scene": {
           "xaxis": {
            "backgroundcolor": "#E5ECF6",
            "gridcolor": "white",
            "gridwidth": 2,
            "linecolor": "white",
            "showbackground": true,
            "ticks": "",
            "zerolinecolor": "white"
           },
           "yaxis": {
            "backgroundcolor": "#E5ECF6",
            "gridcolor": "white",
            "gridwidth": 2,
            "linecolor": "white",
            "showbackground": true,
            "ticks": "",
            "zerolinecolor": "white"
           },
           "zaxis": {
            "backgroundcolor": "#E5ECF6",
            "gridcolor": "white",
            "gridwidth": 2,
            "linecolor": "white",
            "showbackground": true,
            "ticks": "",
            "zerolinecolor": "white"
           }
          },
          "shapedefaults": {
           "line": {
            "color": "#2a3f5f"
           }
          },
          "ternary": {
           "aaxis": {
            "gridcolor": "white",
            "linecolor": "white",
            "ticks": ""
           },
           "baxis": {
            "gridcolor": "white",
            "linecolor": "white",
            "ticks": ""
           },
           "bgcolor": "#E5ECF6",
           "caxis": {
            "gridcolor": "white",
            "linecolor": "white",
            "ticks": ""
           }
          },
          "title": {
           "x": 0.05
          },
          "xaxis": {
           "automargin": true,
           "gridcolor": "white",
           "linecolor": "white",
           "ticks": "",
           "title": {
            "standoff": 15
           },
           "zerolinecolor": "white",
           "zerolinewidth": 2
          },
          "yaxis": {
           "automargin": true,
           "gridcolor": "white",
           "linecolor": "white",
           "ticks": "",
           "title": {
            "standoff": 15
           },
           "zerolinecolor": "white",
           "zerolinewidth": 2
          }
         }
        },
        "title": {
         "text": "Twitter Keywords Searched Weekly"
        },
        "xaxis": {
         "title": {
          "text": "Date"
         }
        },
        "yaxis": {
         "title": {
          "text": "Number of Tweets Containing Keyword (Per Week)"
         }
        }
       }
      },
      "text/html": [
       "<div>\n",
       "        \n",
       "        \n",
       "            <div id=\"2347a9ad-bcf8-404b-99c3-cfe2c79bfacf\" class=\"plotly-graph-div\" style=\"height:525px; width:100%;\"></div>\n",
       "            <script type=\"text/javascript\">\n",
       "                require([\"plotly\"], function(Plotly) {\n",
       "                    window.PLOTLYENV=window.PLOTLYENV || {};\n",
       "                    \n",
       "                if (document.getElementById(\"2347a9ad-bcf8-404b-99c3-cfe2c79bfacf\")) {\n",
       "                    Plotly.newPlot(\n",
       "                        '2347a9ad-bcf8-404b-99c3-cfe2c79bfacf',\n",
       "                        [{\"hovertemplate\": \"<b>Date</b>: %{x}<br><b>Tweets</b>: %{y}\", \"name\": \"cage-free\", \"type\": \"scatter\", \"x\": [\"2019-02-10T00:00:00\", \"2019-02-17T00:00:00\", \"2019-02-24T00:00:00\", \"2019-03-03T00:00:00\", \"2019-03-10T00:00:00\", \"2019-03-17T00:00:00\", \"2019-03-24T00:00:00\", \"2019-03-31T00:00:00\", \"2019-04-07T00:00:00\", \"2019-04-14T00:00:00\", \"2019-04-21T00:00:00\", \"2019-04-28T00:00:00\", \"2019-05-05T00:00:00\", \"2019-05-12T00:00:00\", \"2019-05-19T00:00:00\", \"2019-05-26T00:00:00\", \"2019-06-02T00:00:00\", \"2019-06-09T00:00:00\", \"2019-06-16T00:00:00\", \"2019-06-23T00:00:00\", \"2019-06-30T00:00:00\", \"2019-07-07T00:00:00\", \"2019-07-14T00:00:00\", \"2019-07-21T00:00:00\", \"2019-07-28T00:00:00\", \"2019-08-04T00:00:00\", \"2019-08-11T00:00:00\", \"2019-08-18T00:00:00\", \"2019-08-25T00:00:00\", \"2019-09-01T00:00:00\", \"2019-09-08T00:00:00\", \"2019-09-15T00:00:00\", \"2019-09-22T00:00:00\", \"2019-09-29T00:00:00\", \"2019-10-06T00:00:00\", \"2019-10-13T00:00:00\", \"2019-10-20T00:00:00\", \"2019-10-27T00:00:00\", \"2019-11-03T00:00:00\", \"2019-11-10T00:00:00\", \"2019-11-17T00:00:00\", \"2019-11-24T00:00:00\", \"2019-12-01T00:00:00\", \"2019-12-08T00:00:00\", \"2019-12-15T00:00:00\", \"2019-12-22T00:00:00\", \"2019-12-29T00:00:00\", \"2020-01-05T00:00:00\", \"2020-01-12T00:00:00\", \"2020-01-19T00:00:00\", \"2020-01-26T00:00:00\", \"2020-02-02T00:00:00\", \"2020-02-09T00:00:00\", \"2020-02-16T00:00:00\", \"2020-02-23T00:00:00\", \"2020-03-01T00:00:00\"], \"y\": [424, 676, 328, 250, 336, 332, 372, 273, 288, 539, 497, 251, 221, 764, 304, 240, 287, 337, 341, 299, 348, 268, 267, 313, 172, 225, 217, 554, 291, 280, 259, 262, 688, 322, 336, 367, 344, 275, 291, 385, 553, 507, 380, 285, 199, 238, 235, 225, 279, 268, 253, 262, 293, 395, 373, 236]}, {\"hovertemplate\": \"<b>Date</b>: %{x}<br><b>Tweets</b>: %{y}\", \"name\": \"free range\", \"type\": \"scatter\", \"x\": [\"2019-02-10T00:00:00\", \"2019-02-17T00:00:00\", \"2019-02-24T00:00:00\", \"2019-03-03T00:00:00\", \"2019-03-10T00:00:00\", \"2019-03-17T00:00:00\", \"2019-03-24T00:00:00\", \"2019-03-31T00:00:00\", \"2019-04-07T00:00:00\", \"2019-04-14T00:00:00\", \"2019-04-21T00:00:00\", \"2019-04-28T00:00:00\", \"2019-05-05T00:00:00\", \"2019-05-12T00:00:00\", \"2019-05-19T00:00:00\", \"2019-05-26T00:00:00\", \"2019-06-02T00:00:00\", \"2019-06-09T00:00:00\", \"2019-06-16T00:00:00\", \"2019-06-23T00:00:00\", \"2019-06-30T00:00:00\", \"2019-07-07T00:00:00\", \"2019-07-14T00:00:00\", \"2019-07-21T00:00:00\", \"2019-07-28T00:00:00\", \"2019-08-04T00:00:00\", \"2019-08-11T00:00:00\", \"2019-08-18T00:00:00\", \"2019-08-25T00:00:00\", \"2019-09-01T00:00:00\", \"2019-09-08T00:00:00\", \"2019-09-15T00:00:00\", \"2019-09-22T00:00:00\", \"2019-09-29T00:00:00\", \"2019-10-06T00:00:00\", \"2019-10-13T00:00:00\", \"2019-10-20T00:00:00\", \"2019-10-27T00:00:00\", \"2019-11-03T00:00:00\", \"2019-11-10T00:00:00\", \"2019-11-17T00:00:00\", \"2019-11-24T00:00:00\", \"2019-12-01T00:00:00\", \"2019-12-08T00:00:00\", \"2019-12-15T00:00:00\", \"2019-12-22T00:00:00\", \"2019-12-29T00:00:00\", \"2020-01-05T00:00:00\", \"2020-01-12T00:00:00\", \"2020-01-19T00:00:00\", \"2020-01-26T00:00:00\", \"2020-02-02T00:00:00\", \"2020-02-09T00:00:00\", \"2020-02-16T00:00:00\", \"2020-02-23T00:00:00\", \"2020-03-01T00:00:00\"], \"y\": [2057, 2069, 2019, 1944, 2227, 2344, 2172, 1918, 1835, 1850, 1836, 1975, 1906, 1734, 1592, 1467, 1587, 1807, 1734, 1774, 1852, 1711, 1560, 1860, 1241, 2043, 2074, 2248, 2291, 1910, 2294, 1918, 1864, 2203, 2283, 2047, 1978, 1860, 1970, 2022, 2028, 2120, 2195, 1747, 1462, 1707, 1710, 1743, 2112, 1866, 1949, 2786, 1873, 1679, 1989, 1876]}, {\"hovertemplate\": \"<b>Date</b>: %{x}<br><b>Tweets</b>: %{y}\", \"name\": \"gestation crate\", \"type\": \"scatter\", \"x\": [\"2019-02-10T00:00:00\", \"2019-02-17T00:00:00\", \"2019-02-24T00:00:00\", \"2019-03-03T00:00:00\", \"2019-03-10T00:00:00\", \"2019-03-17T00:00:00\", \"2019-03-24T00:00:00\", \"2019-03-31T00:00:00\", \"2019-04-07T00:00:00\", \"2019-04-14T00:00:00\", \"2019-04-21T00:00:00\", \"2019-04-28T00:00:00\", \"2019-05-05T00:00:00\", \"2019-05-12T00:00:00\", \"2019-05-19T00:00:00\", \"2019-05-26T00:00:00\", \"2019-06-02T00:00:00\", \"2019-06-09T00:00:00\", \"2019-06-16T00:00:00\", \"2019-06-23T00:00:00\", \"2019-06-30T00:00:00\", \"2019-07-07T00:00:00\", \"2019-07-14T00:00:00\", \"2019-07-21T00:00:00\", \"2019-07-28T00:00:00\", \"2019-08-04T00:00:00\", \"2019-08-11T00:00:00\", \"2019-08-18T00:00:00\", \"2019-08-25T00:00:00\", \"2019-09-01T00:00:00\", \"2019-09-08T00:00:00\", \"2019-09-15T00:00:00\", \"2019-09-22T00:00:00\", \"2019-09-29T00:00:00\", \"2019-10-06T00:00:00\", \"2019-10-13T00:00:00\", \"2019-10-20T00:00:00\", \"2019-10-27T00:00:00\", \"2019-11-03T00:00:00\", \"2019-11-10T00:00:00\", \"2019-11-17T00:00:00\", \"2019-11-24T00:00:00\", \"2019-12-01T00:00:00\", \"2019-12-08T00:00:00\", \"2019-12-15T00:00:00\", \"2019-12-22T00:00:00\", \"2019-12-29T00:00:00\", \"2020-01-05T00:00:00\", \"2020-01-12T00:00:00\", \"2020-01-19T00:00:00\", \"2020-01-26T00:00:00\", \"2020-02-02T00:00:00\", \"2020-02-09T00:00:00\", \"2020-02-16T00:00:00\", \"2020-02-23T00:00:00\"], \"y\": [10, 5, 3, 15, 5, 3, 3, 2, 8, 1, 1, 0, 2, 3, 1, 2, 7, 4, 0, 2, 21, 32, 1038, 28, 53, 7, 417, 95, 93, 6, 10, 70, 43, 9, 168, 12, 75, 76, 19, 18, 41, 4, 11, 67, 11, 3, 7, 48, 42, 4, 4, 5, 6, 5, 1]}, {\"hovertemplate\": \"<b>Date</b>: %{x}<br><b>Tweets</b>: %{y}\", \"name\": \"animal welfare\", \"type\": \"scatter\", \"x\": [\"2019-02-10T00:00:00\", \"2019-02-17T00:00:00\", \"2019-02-24T00:00:00\", \"2019-03-03T00:00:00\", \"2019-03-10T00:00:00\", \"2019-03-17T00:00:00\", \"2019-03-24T00:00:00\", \"2019-03-31T00:00:00\", \"2019-04-07T00:00:00\", \"2019-04-14T00:00:00\", \"2019-04-21T00:00:00\", \"2019-04-28T00:00:00\", \"2019-05-05T00:00:00\", \"2019-05-12T00:00:00\", \"2019-05-19T00:00:00\", \"2019-05-26T00:00:00\", \"2019-06-02T00:00:00\", \"2019-06-09T00:00:00\", \"2019-06-16T00:00:00\", \"2019-06-23T00:00:00\", \"2019-06-30T00:00:00\", \"2019-07-07T00:00:00\", \"2019-07-14T00:00:00\", \"2019-07-21T00:00:00\", \"2019-07-28T00:00:00\", \"2019-08-04T00:00:00\", \"2019-08-11T00:00:00\", \"2019-08-18T00:00:00\", \"2019-08-25T00:00:00\", \"2019-09-01T00:00:00\", \"2019-09-08T00:00:00\", \"2019-09-15T00:00:00\", \"2019-09-22T00:00:00\", \"2019-09-29T00:00:00\", \"2019-10-06T00:00:00\", \"2019-10-13T00:00:00\", \"2019-10-20T00:00:00\", \"2019-10-27T00:00:00\", \"2019-11-03T00:00:00\", \"2019-11-10T00:00:00\", \"2019-11-17T00:00:00\", \"2019-11-24T00:00:00\", \"2019-12-01T00:00:00\", \"2019-12-08T00:00:00\", \"2019-12-15T00:00:00\", \"2019-12-22T00:00:00\", \"2019-12-29T00:00:00\", \"2020-01-05T00:00:00\", \"2020-01-12T00:00:00\", \"2020-01-19T00:00:00\", \"2020-01-26T00:00:00\", \"2020-02-02T00:00:00\", \"2020-02-09T00:00:00\", \"2020-02-16T00:00:00\", \"2020-02-23T00:00:00\", \"2020-03-01T00:00:00\"], \"y\": [3552, 3638, 3854, 4504, 4085, 3818, 3219, 3321, 4055, 3810, 2642, 2624, 3092, 2748, 3399, 2741, 2861, 4382, 2968, 2766, 3501, 3559, 2767, 3245, 2612, 2998, 3618, 4695, 5151, 4804, 4199, 3755, 3929, 4165, 5240, 3894, 4492, 3901, 4331, 3736, 3592, 4671, 5286, 3890, 3261, 3756, 2728, 3378, 4351, 4067, 4040, 4710, 4237, 6539, 3504, 4453]}, {\"hovertemplate\": \"<b>Date</b>: %{x}<br><b>Tweets</b>: %{y}\", \"name\": \"factory farm\", \"type\": \"scatter\", \"x\": [\"2019-02-10T00:00:00\", \"2019-02-17T00:00:00\", \"2019-02-24T00:00:00\", \"2019-03-03T00:00:00\", \"2019-03-10T00:00:00\", \"2019-03-17T00:00:00\", \"2019-03-24T00:00:00\", \"2019-03-31T00:00:00\", \"2019-04-07T00:00:00\", \"2019-04-14T00:00:00\", \"2019-04-21T00:00:00\", \"2019-04-28T00:00:00\", \"2019-05-05T00:00:00\", \"2019-05-12T00:00:00\", \"2019-05-19T00:00:00\", \"2019-05-26T00:00:00\", \"2019-06-02T00:00:00\", \"2019-06-09T00:00:00\", \"2019-06-16T00:00:00\", \"2019-06-23T00:00:00\", \"2019-06-30T00:00:00\", \"2019-07-07T00:00:00\", \"2019-07-14T00:00:00\", \"2019-07-21T00:00:00\", \"2019-07-28T00:00:00\", \"2019-08-04T00:00:00\", \"2019-08-11T00:00:00\", \"2019-08-18T00:00:00\", \"2019-08-25T00:00:00\", \"2019-09-01T00:00:00\", \"2019-09-08T00:00:00\", \"2019-09-15T00:00:00\", \"2019-09-22T00:00:00\", \"2019-09-29T00:00:00\", \"2019-10-06T00:00:00\", \"2019-10-13T00:00:00\", \"2019-10-20T00:00:00\", \"2019-10-27T00:00:00\", \"2019-11-03T00:00:00\", \"2019-11-10T00:00:00\", \"2019-11-17T00:00:00\", \"2019-11-24T00:00:00\", \"2019-12-01T00:00:00\", \"2019-12-08T00:00:00\", \"2019-12-15T00:00:00\", \"2019-12-22T00:00:00\", \"2019-12-29T00:00:00\", \"2020-01-05T00:00:00\", \"2020-01-12T00:00:00\", \"2020-01-19T00:00:00\", \"2020-01-26T00:00:00\", \"2020-02-02T00:00:00\", \"2020-02-09T00:00:00\", \"2020-02-16T00:00:00\", \"2020-02-23T00:00:00\", \"2020-03-01T00:00:00\"], \"y\": [412, 371, 424, 417, 310, 328, 266, 240, 275, 367, 171, 257, 348, 255, 165, 179, 193, 374, 266, 284, 231, 204, 242, 295, 438, 273, 424, 335, 393, 345, 389, 286, 559, 1034, 486, 344, 343, 348, 543, 399, 256, 340, 696, 466, 399, 408, 292, 284, 525, 382, 389, 380, 292, 729, 315, 263]}, {\"hovertemplate\": \"<b>Date</b>: %{x}<br><b>Tweets</b>: %{y}\", \"name\": \"intensive agriculture\", \"type\": \"scatter\", \"x\": [\"2019-02-10T00:00:00\", \"2019-02-17T00:00:00\", \"2019-02-24T00:00:00\", \"2019-03-03T00:00:00\", \"2019-03-10T00:00:00\", \"2019-03-17T00:00:00\", \"2019-03-24T00:00:00\", \"2019-03-31T00:00:00\", \"2019-04-07T00:00:00\", \"2019-04-14T00:00:00\", \"2019-04-21T00:00:00\", \"2019-04-28T00:00:00\", \"2019-05-05T00:00:00\", \"2019-05-12T00:00:00\", \"2019-05-19T00:00:00\", \"2019-05-26T00:00:00\", \"2019-06-02T00:00:00\", \"2019-06-09T00:00:00\", \"2019-06-16T00:00:00\", \"2019-06-23T00:00:00\", \"2019-06-30T00:00:00\", \"2019-07-07T00:00:00\", \"2019-07-14T00:00:00\", \"2019-07-21T00:00:00\", \"2019-07-28T00:00:00\", \"2019-08-04T00:00:00\", \"2019-08-11T00:00:00\", \"2019-08-18T00:00:00\", \"2019-08-25T00:00:00\", \"2019-09-01T00:00:00\", \"2019-09-08T00:00:00\", \"2019-09-15T00:00:00\", \"2019-09-22T00:00:00\", \"2019-09-29T00:00:00\", \"2019-10-06T00:00:00\", \"2019-10-13T00:00:00\", \"2019-10-20T00:00:00\", \"2019-10-27T00:00:00\", \"2019-11-03T00:00:00\", \"2019-11-10T00:00:00\", \"2019-11-17T00:00:00\", \"2019-11-24T00:00:00\", \"2019-12-01T00:00:00\", \"2019-12-08T00:00:00\", \"2019-12-15T00:00:00\", \"2019-12-22T00:00:00\", \"2019-12-29T00:00:00\", \"2020-01-05T00:00:00\", \"2020-01-12T00:00:00\", \"2020-01-19T00:00:00\", \"2020-01-26T00:00:00\", \"2020-02-02T00:00:00\", \"2020-02-09T00:00:00\", \"2020-02-16T00:00:00\", \"2020-02-23T00:00:00\", \"2020-03-01T00:00:00\"], \"y\": [177, 715, 117, 77, 77, 50, 50, 63, 76, 58, 71, 106, 82, 109, 85, 77, 55, 55, 45, 50, 50, 62, 71, 60, 19, 61, 121, 105, 84, 81, 102, 88, 67, 46, 88, 78, 79, 77, 132, 143, 61, 120, 84, 87, 54, 55, 35, 40, 93, 74, 50, 57, 44, 63, 56, 68]}, {\"hovertemplate\": \"<b>Date</b>: %{x}<br><b>Tweets</b>: %{y}\", \"name\": \"live export\", \"type\": \"scatter\", \"x\": [\"2019-02-10T00:00:00\", \"2019-02-17T00:00:00\", \"2019-02-24T00:00:00\", \"2019-03-03T00:00:00\", \"2019-03-10T00:00:00\", \"2019-03-17T00:00:00\", \"2019-03-24T00:00:00\", \"2019-03-31T00:00:00\", \"2019-04-07T00:00:00\", \"2019-04-14T00:00:00\", \"2019-04-21T00:00:00\", \"2019-04-28T00:00:00\", \"2019-05-05T00:00:00\", \"2019-05-12T00:00:00\", \"2019-05-19T00:00:00\", \"2019-05-26T00:00:00\", \"2019-06-02T00:00:00\", \"2019-06-09T00:00:00\", \"2019-06-16T00:00:00\", \"2019-06-23T00:00:00\", \"2019-06-30T00:00:00\", \"2019-07-07T00:00:00\", \"2019-07-14T00:00:00\", \"2019-07-21T00:00:00\", \"2019-07-28T00:00:00\", \"2019-08-04T00:00:00\", \"2019-08-11T00:00:00\", \"2019-08-18T00:00:00\", \"2019-08-25T00:00:00\", \"2019-09-01T00:00:00\", \"2019-09-08T00:00:00\", \"2019-09-15T00:00:00\", \"2019-09-22T00:00:00\", \"2019-09-29T00:00:00\", \"2019-10-06T00:00:00\", \"2019-10-13T00:00:00\", \"2019-10-20T00:00:00\", \"2019-10-27T00:00:00\", \"2019-11-03T00:00:00\", \"2019-11-10T00:00:00\", \"2019-11-17T00:00:00\", \"2019-11-24T00:00:00\", \"2019-12-01T00:00:00\", \"2019-12-08T00:00:00\", \"2019-12-15T00:00:00\", \"2019-12-22T00:00:00\", \"2019-12-29T00:00:00\", \"2020-01-05T00:00:00\", \"2020-01-12T00:00:00\", \"2020-01-19T00:00:00\", \"2020-01-26T00:00:00\", \"2020-02-02T00:00:00\", \"2020-02-09T00:00:00\", \"2020-02-16T00:00:00\", \"2020-02-23T00:00:00\", \"2020-03-01T00:00:00\"], \"y\": [719, 791, 983, 580, 526, 240, 656, 353, 789, 489, 263, 393, 490, 682, 503, 287, 359, 309, 546, 510, 428, 402, 274, 342, 330, 632, 368, 211, 350, 380, 528, 1035, 811, 571, 605, 333, 533, 410, 459, 382, 218, 493, 1061, 422, 447, 316, 117, 94, 207, 266, 959, 510, 322, 163, 182, 442]}],\n",
       "                        {\"template\": {\"data\": {\"bar\": [{\"error_x\": {\"color\": \"#2a3f5f\"}, \"error_y\": {\"color\": \"#2a3f5f\"}, \"marker\": {\"line\": {\"color\": \"#E5ECF6\", \"width\": 0.5}}, \"type\": \"bar\"}], \"barpolar\": [{\"marker\": {\"line\": {\"color\": \"#E5ECF6\", \"width\": 0.5}}, \"type\": \"barpolar\"}], \"carpet\": [{\"aaxis\": {\"endlinecolor\": \"#2a3f5f\", \"gridcolor\": \"white\", \"linecolor\": \"white\", \"minorgridcolor\": \"white\", \"startlinecolor\": \"#2a3f5f\"}, \"baxis\": {\"endlinecolor\": \"#2a3f5f\", \"gridcolor\": \"white\", \"linecolor\": \"white\", \"minorgridcolor\": \"white\", \"startlinecolor\": \"#2a3f5f\"}, \"type\": \"carpet\"}], \"choropleth\": [{\"colorbar\": {\"outlinewidth\": 0, \"ticks\": \"\"}, \"type\": \"choropleth\"}], \"contour\": [{\"colorbar\": {\"outlinewidth\": 0, \"ticks\": \"\"}, \"colorscale\": [[0.0, \"#0d0887\"], [0.1111111111111111, \"#46039f\"], [0.2222222222222222, \"#7201a8\"], [0.3333333333333333, \"#9c179e\"], [0.4444444444444444, \"#bd3786\"], [0.5555555555555556, \"#d8576b\"], [0.6666666666666666, \"#ed7953\"], [0.7777777777777778, \"#fb9f3a\"], [0.8888888888888888, \"#fdca26\"], [1.0, \"#f0f921\"]], \"type\": \"contour\"}], \"contourcarpet\": [{\"colorbar\": {\"outlinewidth\": 0, \"ticks\": \"\"}, \"type\": \"contourcarpet\"}], \"heatmap\": [{\"colorbar\": {\"outlinewidth\": 0, \"ticks\": \"\"}, \"colorscale\": [[0.0, \"#0d0887\"], [0.1111111111111111, \"#46039f\"], [0.2222222222222222, \"#7201a8\"], [0.3333333333333333, \"#9c179e\"], [0.4444444444444444, \"#bd3786\"], [0.5555555555555556, \"#d8576b\"], [0.6666666666666666, \"#ed7953\"], [0.7777777777777778, \"#fb9f3a\"], [0.8888888888888888, \"#fdca26\"], [1.0, \"#f0f921\"]], \"type\": \"heatmap\"}], \"heatmapgl\": [{\"colorbar\": {\"outlinewidth\": 0, \"ticks\": \"\"}, \"colorscale\": [[0.0, \"#0d0887\"], [0.1111111111111111, \"#46039f\"], [0.2222222222222222, \"#7201a8\"], [0.3333333333333333, \"#9c179e\"], [0.4444444444444444, \"#bd3786\"], [0.5555555555555556, \"#d8576b\"], [0.6666666666666666, \"#ed7953\"], [0.7777777777777778, \"#fb9f3a\"], [0.8888888888888888, \"#fdca26\"], [1.0, \"#f0f921\"]], \"type\": \"heatmapgl\"}], \"histogram\": [{\"marker\": {\"colorbar\": {\"outlinewidth\": 0, \"ticks\": \"\"}}, \"type\": \"histogram\"}], \"histogram2d\": [{\"colorbar\": {\"outlinewidth\": 0, \"ticks\": \"\"}, \"colorscale\": [[0.0, \"#0d0887\"], [0.1111111111111111, \"#46039f\"], [0.2222222222222222, \"#7201a8\"], [0.3333333333333333, \"#9c179e\"], [0.4444444444444444, \"#bd3786\"], [0.5555555555555556, \"#d8576b\"], [0.6666666666666666, \"#ed7953\"], [0.7777777777777778, \"#fb9f3a\"], [0.8888888888888888, \"#fdca26\"], [1.0, \"#f0f921\"]], \"type\": \"histogram2d\"}], \"histogram2dcontour\": [{\"colorbar\": {\"outlinewidth\": 0, \"ticks\": \"\"}, \"colorscale\": [[0.0, \"#0d0887\"], [0.1111111111111111, \"#46039f\"], [0.2222222222222222, \"#7201a8\"], [0.3333333333333333, \"#9c179e\"], [0.4444444444444444, \"#bd3786\"], [0.5555555555555556, \"#d8576b\"], [0.6666666666666666, \"#ed7953\"], [0.7777777777777778, \"#fb9f3a\"], [0.8888888888888888, \"#fdca26\"], [1.0, \"#f0f921\"]], \"type\": \"histogram2dcontour\"}], \"mesh3d\": [{\"colorbar\": {\"outlinewidth\": 0, \"ticks\": \"\"}, \"type\": \"mesh3d\"}], \"parcoords\": [{\"line\": {\"colorbar\": {\"outlinewidth\": 0, \"ticks\": \"\"}}, \"type\": \"parcoords\"}], \"pie\": [{\"automargin\": true, \"type\": \"pie\"}], \"scatter\": [{\"marker\": {\"colorbar\": {\"outlinewidth\": 0, \"ticks\": \"\"}}, \"type\": \"scatter\"}], \"scatter3d\": [{\"line\": {\"colorbar\": {\"outlinewidth\": 0, \"ticks\": \"\"}}, \"marker\": {\"colorbar\": {\"outlinewidth\": 0, \"ticks\": \"\"}}, \"type\": \"scatter3d\"}], \"scattercarpet\": [{\"marker\": {\"colorbar\": {\"outlinewidth\": 0, \"ticks\": \"\"}}, \"type\": \"scattercarpet\"}], \"scattergeo\": [{\"marker\": {\"colorbar\": {\"outlinewidth\": 0, \"ticks\": \"\"}}, \"type\": \"scattergeo\"}], \"scattergl\": [{\"marker\": {\"colorbar\": {\"outlinewidth\": 0, \"ticks\": \"\"}}, \"type\": \"scattergl\"}], \"scattermapbox\": [{\"marker\": {\"colorbar\": {\"outlinewidth\": 0, \"ticks\": \"\"}}, \"type\": \"scattermapbox\"}], \"scatterpolar\": [{\"marker\": {\"colorbar\": {\"outlinewidth\": 0, \"ticks\": \"\"}}, \"type\": \"scatterpolar\"}], \"scatterpolargl\": [{\"marker\": {\"colorbar\": {\"outlinewidth\": 0, \"ticks\": \"\"}}, \"type\": \"scatterpolargl\"}], \"scatterternary\": [{\"marker\": {\"colorbar\": {\"outlinewidth\": 0, \"ticks\": \"\"}}, \"type\": \"scatterternary\"}], \"surface\": [{\"colorbar\": {\"outlinewidth\": 0, \"ticks\": \"\"}, \"colorscale\": [[0.0, \"#0d0887\"], [0.1111111111111111, \"#46039f\"], [0.2222222222222222, \"#7201a8\"], [0.3333333333333333, \"#9c179e\"], [0.4444444444444444, \"#bd3786\"], [0.5555555555555556, \"#d8576b\"], [0.6666666666666666, \"#ed7953\"], [0.7777777777777778, \"#fb9f3a\"], [0.8888888888888888, \"#fdca26\"], [1.0, \"#f0f921\"]], \"type\": \"surface\"}], \"table\": [{\"cells\": {\"fill\": {\"color\": \"#EBF0F8\"}, \"line\": {\"color\": \"white\"}}, \"header\": {\"fill\": {\"color\": \"#C8D4E3\"}, \"line\": {\"color\": \"white\"}}, \"type\": \"table\"}]}, \"layout\": {\"annotationdefaults\": {\"arrowcolor\": \"#2a3f5f\", \"arrowhead\": 0, \"arrowwidth\": 1}, \"coloraxis\": {\"colorbar\": {\"outlinewidth\": 0, \"ticks\": \"\"}}, \"colorscale\": {\"diverging\": [[0, \"#8e0152\"], [0.1, \"#c51b7d\"], [0.2, \"#de77ae\"], [0.3, \"#f1b6da\"], [0.4, \"#fde0ef\"], [0.5, \"#f7f7f7\"], [0.6, \"#e6f5d0\"], [0.7, \"#b8e186\"], [0.8, \"#7fbc41\"], [0.9, \"#4d9221\"], [1, \"#276419\"]], \"sequential\": [[0.0, \"#0d0887\"], [0.1111111111111111, \"#46039f\"], [0.2222222222222222, \"#7201a8\"], [0.3333333333333333, \"#9c179e\"], [0.4444444444444444, \"#bd3786\"], [0.5555555555555556, \"#d8576b\"], [0.6666666666666666, \"#ed7953\"], [0.7777777777777778, \"#fb9f3a\"], [0.8888888888888888, \"#fdca26\"], [1.0, \"#f0f921\"]], \"sequentialminus\": [[0.0, \"#0d0887\"], [0.1111111111111111, \"#46039f\"], [0.2222222222222222, \"#7201a8\"], [0.3333333333333333, \"#9c179e\"], [0.4444444444444444, \"#bd3786\"], [0.5555555555555556, \"#d8576b\"], [0.6666666666666666, \"#ed7953\"], [0.7777777777777778, \"#fb9f3a\"], [0.8888888888888888, \"#fdca26\"], [1.0, \"#f0f921\"]]}, \"colorway\": [\"#636efa\", \"#EF553B\", \"#00cc96\", \"#ab63fa\", \"#FFA15A\", \"#19d3f3\", \"#FF6692\", \"#B6E880\", \"#FF97FF\", \"#FECB52\"], \"font\": {\"color\": \"#2a3f5f\"}, \"geo\": {\"bgcolor\": \"white\", \"lakecolor\": \"white\", \"landcolor\": \"#E5ECF6\", \"showlakes\": true, \"showland\": true, \"subunitcolor\": \"white\"}, \"hoverlabel\": {\"align\": \"left\"}, \"hovermode\": \"closest\", \"mapbox\": {\"style\": \"light\"}, \"paper_bgcolor\": \"white\", \"plot_bgcolor\": \"#E5ECF6\", \"polar\": {\"angularaxis\": {\"gridcolor\": \"white\", \"linecolor\": \"white\", \"ticks\": \"\"}, \"bgcolor\": \"#E5ECF6\", \"radialaxis\": {\"gridcolor\": \"white\", \"linecolor\": \"white\", \"ticks\": \"\"}}, \"scene\": {\"xaxis\": {\"backgroundcolor\": \"#E5ECF6\", \"gridcolor\": \"white\", \"gridwidth\": 2, \"linecolor\": \"white\", \"showbackground\": true, \"ticks\": \"\", \"zerolinecolor\": \"white\"}, \"yaxis\": {\"backgroundcolor\": \"#E5ECF6\", \"gridcolor\": \"white\", \"gridwidth\": 2, \"linecolor\": \"white\", \"showbackground\": true, \"ticks\": \"\", \"zerolinecolor\": \"white\"}, \"zaxis\": {\"backgroundcolor\": \"#E5ECF6\", \"gridcolor\": \"white\", \"gridwidth\": 2, \"linecolor\": \"white\", \"showbackground\": true, \"ticks\": \"\", \"zerolinecolor\": \"white\"}}, \"shapedefaults\": {\"line\": {\"color\": \"#2a3f5f\"}}, \"ternary\": {\"aaxis\": {\"gridcolor\": \"white\", \"linecolor\": \"white\", \"ticks\": \"\"}, \"baxis\": {\"gridcolor\": \"white\", \"linecolor\": \"white\", \"ticks\": \"\"}, \"bgcolor\": \"#E5ECF6\", \"caxis\": {\"gridcolor\": \"white\", \"linecolor\": \"white\", \"ticks\": \"\"}}, \"title\": {\"x\": 0.05}, \"xaxis\": {\"automargin\": true, \"gridcolor\": \"white\", \"linecolor\": \"white\", \"ticks\": \"\", \"title\": {\"standoff\": 15}, \"zerolinecolor\": \"white\", \"zerolinewidth\": 2}, \"yaxis\": {\"automargin\": true, \"gridcolor\": \"white\", \"linecolor\": \"white\", \"ticks\": \"\", \"title\": {\"standoff\": 15}, \"zerolinecolor\": \"white\", \"zerolinewidth\": 2}}}, \"title\": {\"text\": \"Twitter Keywords Searched Weekly\"}, \"xaxis\": {\"title\": {\"text\": \"Date\"}}, \"yaxis\": {\"title\": {\"text\": \"Number of Tweets Containing Keyword (Per Week)\"}}},\n",
       "                        {\"responsive\": true}\n",
       "                    ).then(function(){\n",
       "                            \n",
       "var gd = document.getElementById('2347a9ad-bcf8-404b-99c3-cfe2c79bfacf');\n",
       "var x = new MutationObserver(function (mutations, observer) {{\n",
       "        var display = window.getComputedStyle(gd).display;\n",
       "        if (!display || display === 'none') {{\n",
       "            console.log([gd, 'removed!']);\n",
       "            Plotly.purge(gd);\n",
       "            observer.disconnect();\n",
       "        }}\n",
       "}});\n",
       "\n",
       "// Listen for the removal of the full notebook cells\n",
       "var notebookContainer = gd.closest('#notebook-container');\n",
       "if (notebookContainer) {{\n",
       "    x.observe(notebookContainer, {childList: true});\n",
       "}}\n",
       "\n",
       "// Listen for the clearing of the current output cell\n",
       "var outputEl = gd.closest('.output');\n",
       "if (outputEl) {{\n",
       "    x.observe(outputEl, {childList: true});\n",
       "}}\n",
       "\n",
       "                        })\n",
       "                };\n",
       "                });\n",
       "            </script>\n",
       "        </div>"
      ]
     },
     "metadata": {},
     "output_type": "display_data"
    }
   ],
   "source": [
    "cage_free_graph = graph_data(cage_free_category_data, cage_free_categories)\n",
    "cage_free_graph.show()"
   ]
  },
  {
   "cell_type": "code",
   "execution_count": 66,
   "metadata": {},
   "outputs": [
    {
     "data": {
      "application/vnd.plotly.v1+json": {
       "config": {
        "plotlyServerURL": "https://plot.ly"
       },
       "data": [
        {
         "hovertemplate": "<b>Date</b>: %{x}<br><b>Tweets</b>: %{y}",
         "name": "effective animal advocacy",
         "type": "scatter",
         "x": [
          "2019-02-24T00:00:00",
          "2019-03-03T00:00:00",
          "2019-03-10T00:00:00",
          "2019-03-17T00:00:00",
          "2019-03-24T00:00:00",
          "2019-03-31T00:00:00",
          "2019-04-07T00:00:00",
          "2019-04-14T00:00:00",
          "2019-04-21T00:00:00",
          "2019-04-28T00:00:00",
          "2019-05-05T00:00:00",
          "2019-05-12T00:00:00",
          "2019-05-19T00:00:00",
          "2019-05-26T00:00:00",
          "2019-06-02T00:00:00",
          "2019-06-09T00:00:00",
          "2019-06-16T00:00:00",
          "2019-06-23T00:00:00",
          "2019-06-30T00:00:00",
          "2019-07-07T00:00:00",
          "2019-07-14T00:00:00",
          "2019-07-21T00:00:00",
          "2019-07-28T00:00:00",
          "2019-08-04T00:00:00",
          "2019-08-11T00:00:00",
          "2019-08-18T00:00:00",
          "2019-08-25T00:00:00",
          "2019-09-01T00:00:00",
          "2019-09-08T00:00:00",
          "2019-09-15T00:00:00",
          "2019-09-22T00:00:00",
          "2019-09-29T00:00:00",
          "2019-10-06T00:00:00",
          "2019-10-13T00:00:00",
          "2019-10-20T00:00:00",
          "2019-10-27T00:00:00",
          "2019-11-03T00:00:00",
          "2019-11-10T00:00:00",
          "2019-11-17T00:00:00",
          "2019-11-24T00:00:00",
          "2019-12-01T00:00:00",
          "2019-12-08T00:00:00",
          "2019-12-15T00:00:00",
          "2019-12-22T00:00:00",
          "2019-12-29T00:00:00",
          "2020-01-05T00:00:00",
          "2020-01-12T00:00:00",
          "2020-01-19T00:00:00",
          "2020-01-26T00:00:00",
          "2020-02-02T00:00:00",
          "2020-02-09T00:00:00",
          "2020-02-16T00:00:00",
          "2020-02-23T00:00:00",
          "2020-03-01T00:00:00"
         ],
         "y": [
          8,
          2,
          0,
          0,
          0,
          2,
          0,
          1,
          6,
          16,
          2,
          0,
          1,
          0,
          0,
          2,
          2,
          2,
          3,
          4,
          2,
          1,
          0,
          5,
          3,
          0,
          1,
          2,
          1,
          3,
          0,
          0,
          0,
          0,
          0,
          0,
          0,
          2,
          1,
          7,
          5,
          4,
          4,
          8,
          13,
          5,
          0,
          4,
          0,
          5,
          7,
          3,
          4,
          2
         ]
        },
        {
         "hovertemplate": "<b>Date</b>: %{x}<br><b>Tweets</b>: %{y}",
         "name": "animal advocacy",
         "type": "scatter",
         "x": [
          "2019-02-10T00:00:00",
          "2019-02-17T00:00:00",
          "2019-02-24T00:00:00",
          "2019-03-03T00:00:00",
          "2019-03-10T00:00:00",
          "2019-03-17T00:00:00",
          "2019-03-24T00:00:00",
          "2019-03-31T00:00:00",
          "2019-04-07T00:00:00",
          "2019-04-14T00:00:00",
          "2019-04-21T00:00:00",
          "2019-04-28T00:00:00",
          "2019-05-05T00:00:00",
          "2019-05-12T00:00:00",
          "2019-05-19T00:00:00",
          "2019-05-26T00:00:00",
          "2019-06-02T00:00:00",
          "2019-06-09T00:00:00",
          "2019-06-16T00:00:00",
          "2019-06-23T00:00:00",
          "2019-06-30T00:00:00",
          "2019-07-07T00:00:00",
          "2019-07-14T00:00:00",
          "2019-07-21T00:00:00",
          "2019-07-28T00:00:00",
          "2019-08-04T00:00:00",
          "2019-08-11T00:00:00",
          "2019-08-18T00:00:00",
          "2019-08-25T00:00:00",
          "2019-09-01T00:00:00",
          "2019-09-08T00:00:00",
          "2019-09-15T00:00:00",
          "2019-09-22T00:00:00",
          "2019-09-29T00:00:00",
          "2019-10-06T00:00:00",
          "2019-10-13T00:00:00",
          "2019-10-20T00:00:00",
          "2019-10-27T00:00:00",
          "2019-11-03T00:00:00",
          "2019-11-10T00:00:00",
          "2019-11-17T00:00:00",
          "2019-11-24T00:00:00",
          "2019-12-01T00:00:00",
          "2019-12-08T00:00:00",
          "2019-12-15T00:00:00",
          "2019-12-22T00:00:00",
          "2019-12-29T00:00:00",
          "2020-01-05T00:00:00",
          "2020-01-12T00:00:00",
          "2020-01-19T00:00:00",
          "2020-01-26T00:00:00",
          "2020-02-02T00:00:00",
          "2020-02-09T00:00:00",
          "2020-02-16T00:00:00",
          "2020-02-23T00:00:00",
          "2020-03-01T00:00:00"
         ],
         "y": [
          53,
          62,
          113,
          81,
          53,
          24,
          36,
          36,
          69,
          45,
          43,
          66,
          85,
          52,
          78,
          43,
          49,
          107,
          58,
          46,
          49,
          36,
          37,
          47,
          21,
          46,
          78,
          46,
          67,
          60,
          49,
          65,
          34,
          69,
          72,
          56,
          32,
          66,
          76,
          38,
          59,
          90,
          61,
          140,
          85,
          58,
          49,
          67,
          86,
          109,
          61,
          48,
          51,
          61,
          55,
          49
         ]
        },
        {
         "hovertemplate": "<b>Date</b>: %{x}<br><b>Tweets</b>: %{y}",
         "name": "animal rights",
         "type": "scatter",
         "x": [
          "2019-02-10T00:00:00",
          "2019-02-17T00:00:00",
          "2019-02-24T00:00:00",
          "2019-03-03T00:00:00",
          "2019-03-10T00:00:00",
          "2019-03-17T00:00:00",
          "2019-03-24T00:00:00",
          "2019-03-31T00:00:00",
          "2019-04-07T00:00:00",
          "2019-04-14T00:00:00",
          "2019-04-21T00:00:00",
          "2019-04-28T00:00:00",
          "2019-05-05T00:00:00",
          "2019-05-12T00:00:00",
          "2019-05-19T00:00:00",
          "2019-05-26T00:00:00",
          "2019-06-02T00:00:00",
          "2019-06-09T00:00:00",
          "2019-06-16T00:00:00",
          "2019-06-23T00:00:00",
          "2019-06-30T00:00:00",
          "2019-07-07T00:00:00",
          "2019-07-14T00:00:00",
          "2019-07-21T00:00:00",
          "2019-07-28T00:00:00",
          "2019-08-04T00:00:00",
          "2019-08-11T00:00:00",
          "2019-08-18T00:00:00",
          "2019-08-25T00:00:00",
          "2019-09-01T00:00:00",
          "2019-09-08T00:00:00",
          "2019-09-15T00:00:00",
          "2019-09-22T00:00:00",
          "2019-09-29T00:00:00",
          "2019-10-06T00:00:00",
          "2019-10-13T00:00:00",
          "2019-10-20T00:00:00",
          "2019-10-27T00:00:00",
          "2019-11-03T00:00:00",
          "2019-11-10T00:00:00",
          "2019-11-17T00:00:00",
          "2019-11-24T00:00:00",
          "2019-12-01T00:00:00",
          "2019-12-08T00:00:00",
          "2019-12-15T00:00:00",
          "2019-12-22T00:00:00",
          "2019-12-29T00:00:00",
          "2020-01-05T00:00:00",
          "2020-01-12T00:00:00",
          "2020-01-19T00:00:00",
          "2020-01-26T00:00:00",
          "2020-02-02T00:00:00",
          "2020-02-09T00:00:00",
          "2020-02-16T00:00:00",
          "2020-02-23T00:00:00",
          "2020-03-01T00:00:00"
         ],
         "y": [
          2436,
          2379,
          4446,
          2776,
          2780,
          2424,
          2212,
          2642,
          2784,
          3507,
          2017,
          2229,
          2366,
          2371,
          3160,
          2183,
          3949,
          4287,
          2655,
          2418,
          2145,
          2242,
          2148,
          2511,
          2005,
          2650,
          3393,
          4473,
          4658,
          2715,
          3727,
          3134,
          3622,
          3029,
          3378,
          2869,
          2677,
          3118,
          3380,
          3604,
          3047,
          3217,
          3888,
          3319,
          3490,
          2760,
          2519,
          2772,
          7909,
          3180,
          3545,
          4011,
          2931,
          5278,
          3814,
          2592
         ]
        },
        {
         "hovertemplate": "<b>Date</b>: %{x}<br><b>Tweets</b>: %{y}",
         "name": "animal welfare",
         "type": "scatter",
         "x": [
          "2019-02-10T00:00:00",
          "2019-02-17T00:00:00",
          "2019-02-24T00:00:00",
          "2019-03-03T00:00:00",
          "2019-03-10T00:00:00",
          "2019-03-17T00:00:00",
          "2019-03-24T00:00:00",
          "2019-03-31T00:00:00",
          "2019-04-07T00:00:00",
          "2019-04-14T00:00:00",
          "2019-04-21T00:00:00",
          "2019-04-28T00:00:00",
          "2019-05-05T00:00:00",
          "2019-05-12T00:00:00",
          "2019-05-19T00:00:00",
          "2019-05-26T00:00:00",
          "2019-06-02T00:00:00",
          "2019-06-09T00:00:00",
          "2019-06-16T00:00:00",
          "2019-06-23T00:00:00",
          "2019-06-30T00:00:00",
          "2019-07-07T00:00:00",
          "2019-07-14T00:00:00",
          "2019-07-21T00:00:00",
          "2019-07-28T00:00:00",
          "2019-08-04T00:00:00",
          "2019-08-11T00:00:00",
          "2019-08-18T00:00:00",
          "2019-08-25T00:00:00",
          "2019-09-01T00:00:00",
          "2019-09-08T00:00:00",
          "2019-09-15T00:00:00",
          "2019-09-22T00:00:00",
          "2019-09-29T00:00:00",
          "2019-10-06T00:00:00",
          "2019-10-13T00:00:00",
          "2019-10-20T00:00:00",
          "2019-10-27T00:00:00",
          "2019-11-03T00:00:00",
          "2019-11-10T00:00:00",
          "2019-11-17T00:00:00",
          "2019-11-24T00:00:00",
          "2019-12-01T00:00:00",
          "2019-12-08T00:00:00",
          "2019-12-15T00:00:00",
          "2019-12-22T00:00:00",
          "2019-12-29T00:00:00",
          "2020-01-05T00:00:00",
          "2020-01-12T00:00:00",
          "2020-01-19T00:00:00",
          "2020-01-26T00:00:00",
          "2020-02-02T00:00:00",
          "2020-02-09T00:00:00",
          "2020-02-16T00:00:00",
          "2020-02-23T00:00:00"
         ],
         "y": [
          1,
          0,
          0,
          0,
          0,
          0,
          0,
          0,
          0,
          3,
          0,
          0,
          0,
          0,
          0,
          0,
          0,
          0,
          0,
          1,
          0,
          0,
          0,
          0,
          0,
          0,
          0,
          0,
          0,
          0,
          0,
          0,
          0,
          0,
          0,
          0,
          0,
          0,
          0,
          0,
          0,
          0,
          0,
          0,
          1,
          1,
          1,
          0,
          0,
          0,
          0,
          1,
          0,
          1,
          0
         ]
        },
        {
         "hovertemplate": "<b>Date</b>: %{x}<br><b>Tweets</b>: %{y}",
         "name": "animal activism",
         "type": "scatter",
         "x": [
          "2019-02-10T00:00:00",
          "2019-02-17T00:00:00",
          "2019-02-24T00:00:00",
          "2019-03-03T00:00:00",
          "2019-03-10T00:00:00",
          "2019-03-17T00:00:00",
          "2019-03-24T00:00:00",
          "2019-03-31T00:00:00",
          "2019-04-07T00:00:00",
          "2019-04-14T00:00:00",
          "2019-04-21T00:00:00",
          "2019-04-28T00:00:00",
          "2019-05-05T00:00:00",
          "2019-05-12T00:00:00",
          "2019-05-19T00:00:00",
          "2019-05-26T00:00:00",
          "2019-06-02T00:00:00",
          "2019-06-09T00:00:00",
          "2019-06-16T00:00:00",
          "2019-06-23T00:00:00",
          "2019-06-30T00:00:00",
          "2019-07-07T00:00:00",
          "2019-07-14T00:00:00",
          "2019-07-21T00:00:00",
          "2019-07-28T00:00:00",
          "2019-08-04T00:00:00",
          "2019-08-11T00:00:00",
          "2019-08-18T00:00:00",
          "2019-08-25T00:00:00",
          "2019-09-01T00:00:00",
          "2019-09-08T00:00:00",
          "2019-09-15T00:00:00",
          "2019-09-22T00:00:00",
          "2019-09-29T00:00:00",
          "2019-10-06T00:00:00",
          "2019-10-13T00:00:00",
          "2019-10-20T00:00:00",
          "2019-10-27T00:00:00",
          "2019-11-03T00:00:00",
          "2019-11-10T00:00:00",
          "2019-11-17T00:00:00",
          "2019-11-24T00:00:00",
          "2019-12-01T00:00:00",
          "2019-12-08T00:00:00",
          "2019-12-15T00:00:00",
          "2019-12-22T00:00:00",
          "2019-12-29T00:00:00",
          "2020-01-05T00:00:00",
          "2020-01-12T00:00:00",
          "2020-01-19T00:00:00",
          "2020-01-26T00:00:00",
          "2020-02-02T00:00:00",
          "2020-02-09T00:00:00",
          "2020-02-16T00:00:00",
          "2020-02-23T00:00:00",
          "2020-03-01T00:00:00"
         ],
         "y": [
          24,
          33,
          82,
          36,
          48,
          22,
          28,
          34,
          41,
          63,
          21,
          26,
          31,
          48,
          115,
          42,
          51,
          50,
          40,
          30,
          23,
          46,
          24,
          31,
          28,
          26,
          40,
          47,
          44,
          26,
          58,
          26,
          44,
          40,
          51,
          47,
          21,
          29,
          38,
          48,
          35,
          37,
          42,
          63,
          26,
          29,
          30,
          37,
          121,
          50,
          37,
          35,
          57,
          76,
          87,
          38
         ]
        },
        {
         "hovertemplate": "<b>Date</b>: %{x}<br><b>Tweets</b>: %{y}",
         "name": "animal liberation",
         "type": "scatter",
         "x": [
          "2019-02-10T00:00:00",
          "2019-02-17T00:00:00",
          "2019-02-24T00:00:00",
          "2019-03-03T00:00:00",
          "2019-03-10T00:00:00",
          "2019-03-17T00:00:00",
          "2019-03-24T00:00:00",
          "2019-03-31T00:00:00",
          "2019-04-07T00:00:00",
          "2019-04-14T00:00:00",
          "2019-04-21T00:00:00",
          "2019-04-28T00:00:00",
          "2019-05-05T00:00:00",
          "2019-05-12T00:00:00",
          "2019-05-19T00:00:00",
          "2019-05-26T00:00:00",
          "2019-06-02T00:00:00",
          "2019-06-09T00:00:00",
          "2019-06-16T00:00:00",
          "2019-06-23T00:00:00",
          "2019-06-30T00:00:00",
          "2019-07-07T00:00:00",
          "2019-07-14T00:00:00",
          "2019-07-21T00:00:00",
          "2019-07-28T00:00:00",
          "2019-08-04T00:00:00",
          "2019-08-11T00:00:00",
          "2019-08-18T00:00:00",
          "2019-08-25T00:00:00",
          "2019-09-01T00:00:00",
          "2019-09-08T00:00:00",
          "2019-09-15T00:00:00",
          "2019-09-22T00:00:00",
          "2019-09-29T00:00:00",
          "2019-10-06T00:00:00",
          "2019-10-13T00:00:00",
          "2019-10-20T00:00:00",
          "2019-10-27T00:00:00",
          "2019-11-03T00:00:00",
          "2019-11-10T00:00:00",
          "2019-11-17T00:00:00",
          "2019-11-24T00:00:00",
          "2019-12-01T00:00:00",
          "2019-12-08T00:00:00",
          "2019-12-15T00:00:00",
          "2019-12-22T00:00:00",
          "2019-12-29T00:00:00",
          "2020-01-05T00:00:00",
          "2020-01-12T00:00:00",
          "2020-01-19T00:00:00",
          "2020-01-26T00:00:00",
          "2020-02-02T00:00:00",
          "2020-02-09T00:00:00",
          "2020-02-16T00:00:00",
          "2020-02-23T00:00:00",
          "2020-03-01T00:00:00"
         ],
         "y": [
          114,
          113,
          149,
          157,
          125,
          111,
          118,
          122,
          130,
          159,
          110,
          229,
          157,
          92,
          81,
          105,
          180,
          175,
          104,
          90,
          84,
          77,
          109,
          114,
          82,
          137,
          162,
          216,
          226,
          187,
          163,
          147,
          126,
          140,
          119,
          238,
          142,
          201,
          213,
          187,
          217,
          158,
          173,
          194,
          147,
          96,
          145,
          262,
          235,
          136,
          127,
          144,
          134,
          159,
          158,
          134
         ]
        },
        {
         "hovertemplate": "<b>Date</b>: %{x}<br><b>Tweets</b>: %{y}",
         "name": "effective altruism",
         "type": "scatter",
         "x": [
          "2019-02-10T00:00:00",
          "2019-02-17T00:00:00",
          "2019-02-24T00:00:00",
          "2019-03-03T00:00:00",
          "2019-03-10T00:00:00",
          "2019-03-17T00:00:00",
          "2019-03-24T00:00:00",
          "2019-03-31T00:00:00",
          "2019-04-07T00:00:00",
          "2019-04-14T00:00:00",
          "2019-04-21T00:00:00",
          "2019-04-28T00:00:00",
          "2019-05-05T00:00:00",
          "2019-05-12T00:00:00",
          "2019-05-19T00:00:00",
          "2019-05-26T00:00:00",
          "2019-06-02T00:00:00",
          "2019-06-09T00:00:00",
          "2019-06-16T00:00:00",
          "2019-06-23T00:00:00",
          "2019-06-30T00:00:00",
          "2019-07-07T00:00:00",
          "2019-07-14T00:00:00",
          "2019-07-21T00:00:00",
          "2019-07-28T00:00:00",
          "2019-08-04T00:00:00",
          "2019-08-11T00:00:00",
          "2019-08-18T00:00:00",
          "2019-08-25T00:00:00",
          "2019-09-01T00:00:00",
          "2019-09-08T00:00:00",
          "2019-09-15T00:00:00",
          "2019-09-22T00:00:00",
          "2019-09-29T00:00:00",
          "2019-10-06T00:00:00",
          "2019-10-13T00:00:00",
          "2019-10-20T00:00:00",
          "2019-10-27T00:00:00",
          "2019-11-03T00:00:00",
          "2019-11-10T00:00:00",
          "2019-11-17T00:00:00",
          "2019-11-24T00:00:00",
          "2019-12-01T00:00:00",
          "2019-12-08T00:00:00",
          "2019-12-15T00:00:00",
          "2019-12-22T00:00:00",
          "2019-12-29T00:00:00",
          "2020-01-05T00:00:00",
          "2020-01-12T00:00:00",
          "2020-01-19T00:00:00",
          "2020-01-26T00:00:00",
          "2020-02-02T00:00:00",
          "2020-02-09T00:00:00",
          "2020-02-16T00:00:00",
          "2020-02-23T00:00:00",
          "2020-03-01T00:00:00"
         ],
         "y": [
          38,
          47,
          96,
          93,
          57,
          46,
          44,
          28,
          44,
          66,
          72,
          81,
          80,
          51,
          47,
          36,
          34,
          46,
          42,
          64,
          35,
          44,
          45,
          46,
          39,
          55,
          45,
          36,
          54,
          48,
          72,
          63,
          53,
          62,
          46,
          39,
          69,
          36,
          39,
          48,
          68,
          63,
          52,
          120,
          92,
          63,
          48,
          75,
          76,
          64,
          61,
          60,
          46,
          72,
          75,
          55
         ]
        },
        {
         "hovertemplate": "<b>Date</b>: %{x}<br><b>Tweets</b>: %{y}",
         "name": "effective advocacy",
         "type": "scatter",
         "x": [
          "2019-02-10T00:00:00",
          "2019-02-17T00:00:00",
          "2019-02-24T00:00:00",
          "2019-03-03T00:00:00",
          "2019-03-10T00:00:00",
          "2019-03-17T00:00:00",
          "2019-03-24T00:00:00",
          "2019-03-31T00:00:00",
          "2019-04-07T00:00:00",
          "2019-04-14T00:00:00",
          "2019-04-21T00:00:00",
          "2019-04-28T00:00:00",
          "2019-05-05T00:00:00",
          "2019-05-12T00:00:00",
          "2019-05-19T00:00:00",
          "2019-05-26T00:00:00",
          "2019-06-02T00:00:00",
          "2019-06-09T00:00:00",
          "2019-06-16T00:00:00",
          "2019-06-23T00:00:00",
          "2019-06-30T00:00:00",
          "2019-07-07T00:00:00",
          "2019-07-14T00:00:00",
          "2019-07-21T00:00:00",
          "2019-07-28T00:00:00",
          "2019-08-04T00:00:00",
          "2019-08-11T00:00:00",
          "2019-08-18T00:00:00",
          "2019-08-25T00:00:00",
          "2019-09-01T00:00:00",
          "2019-09-08T00:00:00",
          "2019-09-15T00:00:00",
          "2019-09-22T00:00:00",
          "2019-09-29T00:00:00",
          "2019-10-06T00:00:00",
          "2019-10-13T00:00:00",
          "2019-10-20T00:00:00",
          "2019-10-27T00:00:00",
          "2019-11-03T00:00:00",
          "2019-11-10T00:00:00",
          "2019-11-17T00:00:00",
          "2019-11-24T00:00:00",
          "2019-12-01T00:00:00",
          "2019-12-08T00:00:00",
          "2019-12-15T00:00:00",
          "2019-12-22T00:00:00",
          "2019-12-29T00:00:00",
          "2020-01-05T00:00:00",
          "2020-01-12T00:00:00",
          "2020-01-19T00:00:00",
          "2020-01-26T00:00:00",
          "2020-02-02T00:00:00",
          "2020-02-09T00:00:00",
          "2020-02-16T00:00:00",
          "2020-02-23T00:00:00",
          "2020-03-01T00:00:00"
         ],
         "y": [
          53,
          61,
          58,
          70,
          77,
          54,
          84,
          62,
          81,
          68,
          42,
          56,
          64,
          63,
          53,
          61,
          54,
          58,
          57,
          71,
          48,
          41,
          52,
          39,
          35,
          58,
          33,
          70,
          47,
          58,
          47,
          48,
          89,
          76,
          59,
          64,
          67,
          57,
          52,
          77,
          74,
          68,
          37,
          50,
          55,
          40,
          19,
          34,
          33,
          45,
          115,
          97,
          58,
          79,
          77,
          56
         ]
        },
        {
         "hovertemplate": "<b>Date</b>: %{x}<br><b>Tweets</b>: %{y}",
         "name": "animal protection",
         "type": "scatter",
         "x": [
          "2019-02-10T00:00:00",
          "2019-02-17T00:00:00",
          "2019-02-24T00:00:00",
          "2019-03-03T00:00:00",
          "2019-03-10T00:00:00",
          "2019-03-17T00:00:00",
          "2019-03-24T00:00:00",
          "2019-03-31T00:00:00",
          "2019-04-07T00:00:00",
          "2019-04-14T00:00:00",
          "2019-04-21T00:00:00",
          "2019-04-28T00:00:00",
          "2019-05-05T00:00:00",
          "2019-05-12T00:00:00",
          "2019-05-19T00:00:00",
          "2019-05-26T00:00:00",
          "2019-06-02T00:00:00",
          "2019-06-09T00:00:00",
          "2019-06-16T00:00:00",
          "2019-06-23T00:00:00",
          "2019-06-30T00:00:00",
          "2019-07-07T00:00:00",
          "2019-07-14T00:00:00",
          "2019-07-21T00:00:00",
          "2019-07-28T00:00:00",
          "2019-08-04T00:00:00",
          "2019-08-11T00:00:00",
          "2019-08-18T00:00:00",
          "2019-08-25T00:00:00",
          "2019-09-01T00:00:00",
          "2019-09-08T00:00:00",
          "2019-09-15T00:00:00",
          "2019-09-22T00:00:00",
          "2019-09-29T00:00:00",
          "2019-10-06T00:00:00",
          "2019-10-13T00:00:00",
          "2019-10-20T00:00:00",
          "2019-10-27T00:00:00",
          "2019-11-03T00:00:00",
          "2019-11-10T00:00:00",
          "2019-11-17T00:00:00",
          "2019-11-24T00:00:00",
          "2019-12-01T00:00:00",
          "2019-12-08T00:00:00",
          "2019-12-15T00:00:00",
          "2019-12-22T00:00:00",
          "2019-12-29T00:00:00",
          "2020-01-05T00:00:00",
          "2020-01-12T00:00:00",
          "2020-01-19T00:00:00",
          "2020-01-26T00:00:00",
          "2020-02-02T00:00:00",
          "2020-02-09T00:00:00",
          "2020-02-16T00:00:00",
          "2020-02-23T00:00:00",
          "2020-03-01T00:00:00"
         ],
         "y": [
          442,
          541,
          934,
          390,
          449,
          380,
          472,
          379,
          580,
          426,
          341,
          333,
          451,
          346,
          293,
          309,
          325,
          373,
          317,
          323,
          397,
          356,
          471,
          418,
          362,
          492,
          738,
          621,
          643,
          497,
          650,
          607,
          535,
          1031,
          852,
          613,
          894,
          962,
          703,
          706,
          520,
          546,
          671,
          620,
          622,
          551,
          434,
          410,
          495,
          490,
          755,
          538,
          475,
          395,
          433,
          395
         ]
        }
       ],
       "layout": {
        "template": {
         "data": {
          "bar": [
           {
            "error_x": {
             "color": "#2a3f5f"
            },
            "error_y": {
             "color": "#2a3f5f"
            },
            "marker": {
             "line": {
              "color": "#E5ECF6",
              "width": 0.5
             }
            },
            "type": "bar"
           }
          ],
          "barpolar": [
           {
            "marker": {
             "line": {
              "color": "#E5ECF6",
              "width": 0.5
             }
            },
            "type": "barpolar"
           }
          ],
          "carpet": [
           {
            "aaxis": {
             "endlinecolor": "#2a3f5f",
             "gridcolor": "white",
             "linecolor": "white",
             "minorgridcolor": "white",
             "startlinecolor": "#2a3f5f"
            },
            "baxis": {
             "endlinecolor": "#2a3f5f",
             "gridcolor": "white",
             "linecolor": "white",
             "minorgridcolor": "white",
             "startlinecolor": "#2a3f5f"
            },
            "type": "carpet"
           }
          ],
          "choropleth": [
           {
            "colorbar": {
             "outlinewidth": 0,
             "ticks": ""
            },
            "type": "choropleth"
           }
          ],
          "contour": [
           {
            "colorbar": {
             "outlinewidth": 0,
             "ticks": ""
            },
            "colorscale": [
             [
              0,
              "#0d0887"
             ],
             [
              0.1111111111111111,
              "#46039f"
             ],
             [
              0.2222222222222222,
              "#7201a8"
             ],
             [
              0.3333333333333333,
              "#9c179e"
             ],
             [
              0.4444444444444444,
              "#bd3786"
             ],
             [
              0.5555555555555556,
              "#d8576b"
             ],
             [
              0.6666666666666666,
              "#ed7953"
             ],
             [
              0.7777777777777778,
              "#fb9f3a"
             ],
             [
              0.8888888888888888,
              "#fdca26"
             ],
             [
              1,
              "#f0f921"
             ]
            ],
            "type": "contour"
           }
          ],
          "contourcarpet": [
           {
            "colorbar": {
             "outlinewidth": 0,
             "ticks": ""
            },
            "type": "contourcarpet"
           }
          ],
          "heatmap": [
           {
            "colorbar": {
             "outlinewidth": 0,
             "ticks": ""
            },
            "colorscale": [
             [
              0,
              "#0d0887"
             ],
             [
              0.1111111111111111,
              "#46039f"
             ],
             [
              0.2222222222222222,
              "#7201a8"
             ],
             [
              0.3333333333333333,
              "#9c179e"
             ],
             [
              0.4444444444444444,
              "#bd3786"
             ],
             [
              0.5555555555555556,
              "#d8576b"
             ],
             [
              0.6666666666666666,
              "#ed7953"
             ],
             [
              0.7777777777777778,
              "#fb9f3a"
             ],
             [
              0.8888888888888888,
              "#fdca26"
             ],
             [
              1,
              "#f0f921"
             ]
            ],
            "type": "heatmap"
           }
          ],
          "heatmapgl": [
           {
            "colorbar": {
             "outlinewidth": 0,
             "ticks": ""
            },
            "colorscale": [
             [
              0,
              "#0d0887"
             ],
             [
              0.1111111111111111,
              "#46039f"
             ],
             [
              0.2222222222222222,
              "#7201a8"
             ],
             [
              0.3333333333333333,
              "#9c179e"
             ],
             [
              0.4444444444444444,
              "#bd3786"
             ],
             [
              0.5555555555555556,
              "#d8576b"
             ],
             [
              0.6666666666666666,
              "#ed7953"
             ],
             [
              0.7777777777777778,
              "#fb9f3a"
             ],
             [
              0.8888888888888888,
              "#fdca26"
             ],
             [
              1,
              "#f0f921"
             ]
            ],
            "type": "heatmapgl"
           }
          ],
          "histogram": [
           {
            "marker": {
             "colorbar": {
              "outlinewidth": 0,
              "ticks": ""
             }
            },
            "type": "histogram"
           }
          ],
          "histogram2d": [
           {
            "colorbar": {
             "outlinewidth": 0,
             "ticks": ""
            },
            "colorscale": [
             [
              0,
              "#0d0887"
             ],
             [
              0.1111111111111111,
              "#46039f"
             ],
             [
              0.2222222222222222,
              "#7201a8"
             ],
             [
              0.3333333333333333,
              "#9c179e"
             ],
             [
              0.4444444444444444,
              "#bd3786"
             ],
             [
              0.5555555555555556,
              "#d8576b"
             ],
             [
              0.6666666666666666,
              "#ed7953"
             ],
             [
              0.7777777777777778,
              "#fb9f3a"
             ],
             [
              0.8888888888888888,
              "#fdca26"
             ],
             [
              1,
              "#f0f921"
             ]
            ],
            "type": "histogram2d"
           }
          ],
          "histogram2dcontour": [
           {
            "colorbar": {
             "outlinewidth": 0,
             "ticks": ""
            },
            "colorscale": [
             [
              0,
              "#0d0887"
             ],
             [
              0.1111111111111111,
              "#46039f"
             ],
             [
              0.2222222222222222,
              "#7201a8"
             ],
             [
              0.3333333333333333,
              "#9c179e"
             ],
             [
              0.4444444444444444,
              "#bd3786"
             ],
             [
              0.5555555555555556,
              "#d8576b"
             ],
             [
              0.6666666666666666,
              "#ed7953"
             ],
             [
              0.7777777777777778,
              "#fb9f3a"
             ],
             [
              0.8888888888888888,
              "#fdca26"
             ],
             [
              1,
              "#f0f921"
             ]
            ],
            "type": "histogram2dcontour"
           }
          ],
          "mesh3d": [
           {
            "colorbar": {
             "outlinewidth": 0,
             "ticks": ""
            },
            "type": "mesh3d"
           }
          ],
          "parcoords": [
           {
            "line": {
             "colorbar": {
              "outlinewidth": 0,
              "ticks": ""
             }
            },
            "type": "parcoords"
           }
          ],
          "pie": [
           {
            "automargin": true,
            "type": "pie"
           }
          ],
          "scatter": [
           {
            "marker": {
             "colorbar": {
              "outlinewidth": 0,
              "ticks": ""
             }
            },
            "type": "scatter"
           }
          ],
          "scatter3d": [
           {
            "line": {
             "colorbar": {
              "outlinewidth": 0,
              "ticks": ""
             }
            },
            "marker": {
             "colorbar": {
              "outlinewidth": 0,
              "ticks": ""
             }
            },
            "type": "scatter3d"
           }
          ],
          "scattercarpet": [
           {
            "marker": {
             "colorbar": {
              "outlinewidth": 0,
              "ticks": ""
             }
            },
            "type": "scattercarpet"
           }
          ],
          "scattergeo": [
           {
            "marker": {
             "colorbar": {
              "outlinewidth": 0,
              "ticks": ""
             }
            },
            "type": "scattergeo"
           }
          ],
          "scattergl": [
           {
            "marker": {
             "colorbar": {
              "outlinewidth": 0,
              "ticks": ""
             }
            },
            "type": "scattergl"
           }
          ],
          "scattermapbox": [
           {
            "marker": {
             "colorbar": {
              "outlinewidth": 0,
              "ticks": ""
             }
            },
            "type": "scattermapbox"
           }
          ],
          "scatterpolar": [
           {
            "marker": {
             "colorbar": {
              "outlinewidth": 0,
              "ticks": ""
             }
            },
            "type": "scatterpolar"
           }
          ],
          "scatterpolargl": [
           {
            "marker": {
             "colorbar": {
              "outlinewidth": 0,
              "ticks": ""
             }
            },
            "type": "scatterpolargl"
           }
          ],
          "scatterternary": [
           {
            "marker": {
             "colorbar": {
              "outlinewidth": 0,
              "ticks": ""
             }
            },
            "type": "scatterternary"
           }
          ],
          "surface": [
           {
            "colorbar": {
             "outlinewidth": 0,
             "ticks": ""
            },
            "colorscale": [
             [
              0,
              "#0d0887"
             ],
             [
              0.1111111111111111,
              "#46039f"
             ],
             [
              0.2222222222222222,
              "#7201a8"
             ],
             [
              0.3333333333333333,
              "#9c179e"
             ],
             [
              0.4444444444444444,
              "#bd3786"
             ],
             [
              0.5555555555555556,
              "#d8576b"
             ],
             [
              0.6666666666666666,
              "#ed7953"
             ],
             [
              0.7777777777777778,
              "#fb9f3a"
             ],
             [
              0.8888888888888888,
              "#fdca26"
             ],
             [
              1,
              "#f0f921"
             ]
            ],
            "type": "surface"
           }
          ],
          "table": [
           {
            "cells": {
             "fill": {
              "color": "#EBF0F8"
             },
             "line": {
              "color": "white"
             }
            },
            "header": {
             "fill": {
              "color": "#C8D4E3"
             },
             "line": {
              "color": "white"
             }
            },
            "type": "table"
           }
          ]
         },
         "layout": {
          "annotationdefaults": {
           "arrowcolor": "#2a3f5f",
           "arrowhead": 0,
           "arrowwidth": 1
          },
          "coloraxis": {
           "colorbar": {
            "outlinewidth": 0,
            "ticks": ""
           }
          },
          "colorscale": {
           "diverging": [
            [
             0,
             "#8e0152"
            ],
            [
             0.1,
             "#c51b7d"
            ],
            [
             0.2,
             "#de77ae"
            ],
            [
             0.3,
             "#f1b6da"
            ],
            [
             0.4,
             "#fde0ef"
            ],
            [
             0.5,
             "#f7f7f7"
            ],
            [
             0.6,
             "#e6f5d0"
            ],
            [
             0.7,
             "#b8e186"
            ],
            [
             0.8,
             "#7fbc41"
            ],
            [
             0.9,
             "#4d9221"
            ],
            [
             1,
             "#276419"
            ]
           ],
           "sequential": [
            [
             0,
             "#0d0887"
            ],
            [
             0.1111111111111111,
             "#46039f"
            ],
            [
             0.2222222222222222,
             "#7201a8"
            ],
            [
             0.3333333333333333,
             "#9c179e"
            ],
            [
             0.4444444444444444,
             "#bd3786"
            ],
            [
             0.5555555555555556,
             "#d8576b"
            ],
            [
             0.6666666666666666,
             "#ed7953"
            ],
            [
             0.7777777777777778,
             "#fb9f3a"
            ],
            [
             0.8888888888888888,
             "#fdca26"
            ],
            [
             1,
             "#f0f921"
            ]
           ],
           "sequentialminus": [
            [
             0,
             "#0d0887"
            ],
            [
             0.1111111111111111,
             "#46039f"
            ],
            [
             0.2222222222222222,
             "#7201a8"
            ],
            [
             0.3333333333333333,
             "#9c179e"
            ],
            [
             0.4444444444444444,
             "#bd3786"
            ],
            [
             0.5555555555555556,
             "#d8576b"
            ],
            [
             0.6666666666666666,
             "#ed7953"
            ],
            [
             0.7777777777777778,
             "#fb9f3a"
            ],
            [
             0.8888888888888888,
             "#fdca26"
            ],
            [
             1,
             "#f0f921"
            ]
           ]
          },
          "colorway": [
           "#636efa",
           "#EF553B",
           "#00cc96",
           "#ab63fa",
           "#FFA15A",
           "#19d3f3",
           "#FF6692",
           "#B6E880",
           "#FF97FF",
           "#FECB52"
          ],
          "font": {
           "color": "#2a3f5f"
          },
          "geo": {
           "bgcolor": "white",
           "lakecolor": "white",
           "landcolor": "#E5ECF6",
           "showlakes": true,
           "showland": true,
           "subunitcolor": "white"
          },
          "hoverlabel": {
           "align": "left"
          },
          "hovermode": "closest",
          "mapbox": {
           "style": "light"
          },
          "paper_bgcolor": "white",
          "plot_bgcolor": "#E5ECF6",
          "polar": {
           "angularaxis": {
            "gridcolor": "white",
            "linecolor": "white",
            "ticks": ""
           },
           "bgcolor": "#E5ECF6",
           "radialaxis": {
            "gridcolor": "white",
            "linecolor": "white",
            "ticks": ""
           }
          },
          "scene": {
           "xaxis": {
            "backgroundcolor": "#E5ECF6",
            "gridcolor": "white",
            "gridwidth": 2,
            "linecolor": "white",
            "showbackground": true,
            "ticks": "",
            "zerolinecolor": "white"
           },
           "yaxis": {
            "backgroundcolor": "#E5ECF6",
            "gridcolor": "white",
            "gridwidth": 2,
            "linecolor": "white",
            "showbackground": true,
            "ticks": "",
            "zerolinecolor": "white"
           },
           "zaxis": {
            "backgroundcolor": "#E5ECF6",
            "gridcolor": "white",
            "gridwidth": 2,
            "linecolor": "white",
            "showbackground": true,
            "ticks": "",
            "zerolinecolor": "white"
           }
          },
          "shapedefaults": {
           "line": {
            "color": "#2a3f5f"
           }
          },
          "ternary": {
           "aaxis": {
            "gridcolor": "white",
            "linecolor": "white",
            "ticks": ""
           },
           "baxis": {
            "gridcolor": "white",
            "linecolor": "white",
            "ticks": ""
           },
           "bgcolor": "#E5ECF6",
           "caxis": {
            "gridcolor": "white",
            "linecolor": "white",
            "ticks": ""
           }
          },
          "title": {
           "x": 0.05
          },
          "xaxis": {
           "automargin": true,
           "gridcolor": "white",
           "linecolor": "white",
           "ticks": "",
           "title": {
            "standoff": 15
           },
           "zerolinecolor": "white",
           "zerolinewidth": 2
          },
          "yaxis": {
           "automargin": true,
           "gridcolor": "white",
           "linecolor": "white",
           "ticks": "",
           "title": {
            "standoff": 15
           },
           "zerolinecolor": "white",
           "zerolinewidth": 2
          }
         }
        },
        "title": {
         "text": "Twitter Keywords Searched Weekly"
        },
        "xaxis": {
         "title": {
          "text": "Date"
         }
        },
        "yaxis": {
         "title": {
          "text": "Number of Tweets Containing Keyword (Per Week)"
         }
        }
       }
      },
      "text/html": [
       "<div>\n",
       "        \n",
       "        \n",
       "            <div id=\"c06b8073-1757-49c6-bfd4-1da6e1f30e49\" class=\"plotly-graph-div\" style=\"height:525px; width:100%;\"></div>\n",
       "            <script type=\"text/javascript\">\n",
       "                require([\"plotly\"], function(Plotly) {\n",
       "                    window.PLOTLYENV=window.PLOTLYENV || {};\n",
       "                    \n",
       "                if (document.getElementById(\"c06b8073-1757-49c6-bfd4-1da6e1f30e49\")) {\n",
       "                    Plotly.newPlot(\n",
       "                        'c06b8073-1757-49c6-bfd4-1da6e1f30e49',\n",
       "                        [{\"hovertemplate\": \"<b>Date</b>: %{x}<br><b>Tweets</b>: %{y}\", \"name\": \"effective animal advocacy\", \"type\": \"scatter\", \"x\": [\"2019-02-24T00:00:00\", \"2019-03-03T00:00:00\", \"2019-03-10T00:00:00\", \"2019-03-17T00:00:00\", \"2019-03-24T00:00:00\", \"2019-03-31T00:00:00\", \"2019-04-07T00:00:00\", \"2019-04-14T00:00:00\", \"2019-04-21T00:00:00\", \"2019-04-28T00:00:00\", \"2019-05-05T00:00:00\", \"2019-05-12T00:00:00\", \"2019-05-19T00:00:00\", \"2019-05-26T00:00:00\", \"2019-06-02T00:00:00\", \"2019-06-09T00:00:00\", \"2019-06-16T00:00:00\", \"2019-06-23T00:00:00\", \"2019-06-30T00:00:00\", \"2019-07-07T00:00:00\", \"2019-07-14T00:00:00\", \"2019-07-21T00:00:00\", \"2019-07-28T00:00:00\", \"2019-08-04T00:00:00\", \"2019-08-11T00:00:00\", \"2019-08-18T00:00:00\", \"2019-08-25T00:00:00\", \"2019-09-01T00:00:00\", \"2019-09-08T00:00:00\", \"2019-09-15T00:00:00\", \"2019-09-22T00:00:00\", \"2019-09-29T00:00:00\", \"2019-10-06T00:00:00\", \"2019-10-13T00:00:00\", \"2019-10-20T00:00:00\", \"2019-10-27T00:00:00\", \"2019-11-03T00:00:00\", \"2019-11-10T00:00:00\", \"2019-11-17T00:00:00\", \"2019-11-24T00:00:00\", \"2019-12-01T00:00:00\", \"2019-12-08T00:00:00\", \"2019-12-15T00:00:00\", \"2019-12-22T00:00:00\", \"2019-12-29T00:00:00\", \"2020-01-05T00:00:00\", \"2020-01-12T00:00:00\", \"2020-01-19T00:00:00\", \"2020-01-26T00:00:00\", \"2020-02-02T00:00:00\", \"2020-02-09T00:00:00\", \"2020-02-16T00:00:00\", \"2020-02-23T00:00:00\", \"2020-03-01T00:00:00\"], \"y\": [8, 2, 0, 0, 0, 2, 0, 1, 6, 16, 2, 0, 1, 0, 0, 2, 2, 2, 3, 4, 2, 1, 0, 5, 3, 0, 1, 2, 1, 3, 0, 0, 0, 0, 0, 0, 0, 2, 1, 7, 5, 4, 4, 8, 13, 5, 0, 4, 0, 5, 7, 3, 4, 2]}, {\"hovertemplate\": \"<b>Date</b>: %{x}<br><b>Tweets</b>: %{y}\", \"name\": \"animal advocacy\", \"type\": \"scatter\", \"x\": [\"2019-02-10T00:00:00\", \"2019-02-17T00:00:00\", \"2019-02-24T00:00:00\", \"2019-03-03T00:00:00\", \"2019-03-10T00:00:00\", \"2019-03-17T00:00:00\", \"2019-03-24T00:00:00\", \"2019-03-31T00:00:00\", \"2019-04-07T00:00:00\", \"2019-04-14T00:00:00\", \"2019-04-21T00:00:00\", \"2019-04-28T00:00:00\", \"2019-05-05T00:00:00\", \"2019-05-12T00:00:00\", \"2019-05-19T00:00:00\", \"2019-05-26T00:00:00\", \"2019-06-02T00:00:00\", \"2019-06-09T00:00:00\", \"2019-06-16T00:00:00\", \"2019-06-23T00:00:00\", \"2019-06-30T00:00:00\", \"2019-07-07T00:00:00\", \"2019-07-14T00:00:00\", \"2019-07-21T00:00:00\", \"2019-07-28T00:00:00\", \"2019-08-04T00:00:00\", \"2019-08-11T00:00:00\", \"2019-08-18T00:00:00\", \"2019-08-25T00:00:00\", \"2019-09-01T00:00:00\", \"2019-09-08T00:00:00\", \"2019-09-15T00:00:00\", \"2019-09-22T00:00:00\", \"2019-09-29T00:00:00\", \"2019-10-06T00:00:00\", \"2019-10-13T00:00:00\", \"2019-10-20T00:00:00\", \"2019-10-27T00:00:00\", \"2019-11-03T00:00:00\", \"2019-11-10T00:00:00\", \"2019-11-17T00:00:00\", \"2019-11-24T00:00:00\", \"2019-12-01T00:00:00\", \"2019-12-08T00:00:00\", \"2019-12-15T00:00:00\", \"2019-12-22T00:00:00\", \"2019-12-29T00:00:00\", \"2020-01-05T00:00:00\", \"2020-01-12T00:00:00\", \"2020-01-19T00:00:00\", \"2020-01-26T00:00:00\", \"2020-02-02T00:00:00\", \"2020-02-09T00:00:00\", \"2020-02-16T00:00:00\", \"2020-02-23T00:00:00\", \"2020-03-01T00:00:00\"], \"y\": [53, 62, 113, 81, 53, 24, 36, 36, 69, 45, 43, 66, 85, 52, 78, 43, 49, 107, 58, 46, 49, 36, 37, 47, 21, 46, 78, 46, 67, 60, 49, 65, 34, 69, 72, 56, 32, 66, 76, 38, 59, 90, 61, 140, 85, 58, 49, 67, 86, 109, 61, 48, 51, 61, 55, 49]}, {\"hovertemplate\": \"<b>Date</b>: %{x}<br><b>Tweets</b>: %{y}\", \"name\": \"animal rights\", \"type\": \"scatter\", \"x\": [\"2019-02-10T00:00:00\", \"2019-02-17T00:00:00\", \"2019-02-24T00:00:00\", \"2019-03-03T00:00:00\", \"2019-03-10T00:00:00\", \"2019-03-17T00:00:00\", \"2019-03-24T00:00:00\", \"2019-03-31T00:00:00\", \"2019-04-07T00:00:00\", \"2019-04-14T00:00:00\", \"2019-04-21T00:00:00\", \"2019-04-28T00:00:00\", \"2019-05-05T00:00:00\", \"2019-05-12T00:00:00\", \"2019-05-19T00:00:00\", \"2019-05-26T00:00:00\", \"2019-06-02T00:00:00\", \"2019-06-09T00:00:00\", \"2019-06-16T00:00:00\", \"2019-06-23T00:00:00\", \"2019-06-30T00:00:00\", \"2019-07-07T00:00:00\", \"2019-07-14T00:00:00\", \"2019-07-21T00:00:00\", \"2019-07-28T00:00:00\", \"2019-08-04T00:00:00\", \"2019-08-11T00:00:00\", \"2019-08-18T00:00:00\", \"2019-08-25T00:00:00\", \"2019-09-01T00:00:00\", \"2019-09-08T00:00:00\", \"2019-09-15T00:00:00\", \"2019-09-22T00:00:00\", \"2019-09-29T00:00:00\", \"2019-10-06T00:00:00\", \"2019-10-13T00:00:00\", \"2019-10-20T00:00:00\", \"2019-10-27T00:00:00\", \"2019-11-03T00:00:00\", \"2019-11-10T00:00:00\", \"2019-11-17T00:00:00\", \"2019-11-24T00:00:00\", \"2019-12-01T00:00:00\", \"2019-12-08T00:00:00\", \"2019-12-15T00:00:00\", \"2019-12-22T00:00:00\", \"2019-12-29T00:00:00\", \"2020-01-05T00:00:00\", \"2020-01-12T00:00:00\", \"2020-01-19T00:00:00\", \"2020-01-26T00:00:00\", \"2020-02-02T00:00:00\", \"2020-02-09T00:00:00\", \"2020-02-16T00:00:00\", \"2020-02-23T00:00:00\", \"2020-03-01T00:00:00\"], \"y\": [2436, 2379, 4446, 2776, 2780, 2424, 2212, 2642, 2784, 3507, 2017, 2229, 2366, 2371, 3160, 2183, 3949, 4287, 2655, 2418, 2145, 2242, 2148, 2511, 2005, 2650, 3393, 4473, 4658, 2715, 3727, 3134, 3622, 3029, 3378, 2869, 2677, 3118, 3380, 3604, 3047, 3217, 3888, 3319, 3490, 2760, 2519, 2772, 7909, 3180, 3545, 4011, 2931, 5278, 3814, 2592]}, {\"hovertemplate\": \"<b>Date</b>: %{x}<br><b>Tweets</b>: %{y}\", \"name\": \"animal welfare\", \"type\": \"scatter\", \"x\": [\"2019-02-10T00:00:00\", \"2019-02-17T00:00:00\", \"2019-02-24T00:00:00\", \"2019-03-03T00:00:00\", \"2019-03-10T00:00:00\", \"2019-03-17T00:00:00\", \"2019-03-24T00:00:00\", \"2019-03-31T00:00:00\", \"2019-04-07T00:00:00\", \"2019-04-14T00:00:00\", \"2019-04-21T00:00:00\", \"2019-04-28T00:00:00\", \"2019-05-05T00:00:00\", \"2019-05-12T00:00:00\", \"2019-05-19T00:00:00\", \"2019-05-26T00:00:00\", \"2019-06-02T00:00:00\", \"2019-06-09T00:00:00\", \"2019-06-16T00:00:00\", \"2019-06-23T00:00:00\", \"2019-06-30T00:00:00\", \"2019-07-07T00:00:00\", \"2019-07-14T00:00:00\", \"2019-07-21T00:00:00\", \"2019-07-28T00:00:00\", \"2019-08-04T00:00:00\", \"2019-08-11T00:00:00\", \"2019-08-18T00:00:00\", \"2019-08-25T00:00:00\", \"2019-09-01T00:00:00\", \"2019-09-08T00:00:00\", \"2019-09-15T00:00:00\", \"2019-09-22T00:00:00\", \"2019-09-29T00:00:00\", \"2019-10-06T00:00:00\", \"2019-10-13T00:00:00\", \"2019-10-20T00:00:00\", \"2019-10-27T00:00:00\", \"2019-11-03T00:00:00\", \"2019-11-10T00:00:00\", \"2019-11-17T00:00:00\", \"2019-11-24T00:00:00\", \"2019-12-01T00:00:00\", \"2019-12-08T00:00:00\", \"2019-12-15T00:00:00\", \"2019-12-22T00:00:00\", \"2019-12-29T00:00:00\", \"2020-01-05T00:00:00\", \"2020-01-12T00:00:00\", \"2020-01-19T00:00:00\", \"2020-01-26T00:00:00\", \"2020-02-02T00:00:00\", \"2020-02-09T00:00:00\", \"2020-02-16T00:00:00\", \"2020-02-23T00:00:00\"], \"y\": [1, 0, 0, 0, 0, 0, 0, 0, 0, 3, 0, 0, 0, 0, 0, 0, 0, 0, 0, 1, 0, 0, 0, 0, 0, 0, 0, 0, 0, 0, 0, 0, 0, 0, 0, 0, 0, 0, 0, 0, 0, 0, 0, 0, 1, 1, 1, 0, 0, 0, 0, 1, 0, 1, 0]}, {\"hovertemplate\": \"<b>Date</b>: %{x}<br><b>Tweets</b>: %{y}\", \"name\": \"animal activism\", \"type\": \"scatter\", \"x\": [\"2019-02-10T00:00:00\", \"2019-02-17T00:00:00\", \"2019-02-24T00:00:00\", \"2019-03-03T00:00:00\", \"2019-03-10T00:00:00\", \"2019-03-17T00:00:00\", \"2019-03-24T00:00:00\", \"2019-03-31T00:00:00\", \"2019-04-07T00:00:00\", \"2019-04-14T00:00:00\", \"2019-04-21T00:00:00\", \"2019-04-28T00:00:00\", \"2019-05-05T00:00:00\", \"2019-05-12T00:00:00\", \"2019-05-19T00:00:00\", \"2019-05-26T00:00:00\", \"2019-06-02T00:00:00\", \"2019-06-09T00:00:00\", \"2019-06-16T00:00:00\", \"2019-06-23T00:00:00\", \"2019-06-30T00:00:00\", \"2019-07-07T00:00:00\", \"2019-07-14T00:00:00\", \"2019-07-21T00:00:00\", \"2019-07-28T00:00:00\", \"2019-08-04T00:00:00\", \"2019-08-11T00:00:00\", \"2019-08-18T00:00:00\", \"2019-08-25T00:00:00\", \"2019-09-01T00:00:00\", \"2019-09-08T00:00:00\", \"2019-09-15T00:00:00\", \"2019-09-22T00:00:00\", \"2019-09-29T00:00:00\", \"2019-10-06T00:00:00\", \"2019-10-13T00:00:00\", \"2019-10-20T00:00:00\", \"2019-10-27T00:00:00\", \"2019-11-03T00:00:00\", \"2019-11-10T00:00:00\", \"2019-11-17T00:00:00\", \"2019-11-24T00:00:00\", \"2019-12-01T00:00:00\", \"2019-12-08T00:00:00\", \"2019-12-15T00:00:00\", \"2019-12-22T00:00:00\", \"2019-12-29T00:00:00\", \"2020-01-05T00:00:00\", \"2020-01-12T00:00:00\", \"2020-01-19T00:00:00\", \"2020-01-26T00:00:00\", \"2020-02-02T00:00:00\", \"2020-02-09T00:00:00\", \"2020-02-16T00:00:00\", \"2020-02-23T00:00:00\", \"2020-03-01T00:00:00\"], \"y\": [24, 33, 82, 36, 48, 22, 28, 34, 41, 63, 21, 26, 31, 48, 115, 42, 51, 50, 40, 30, 23, 46, 24, 31, 28, 26, 40, 47, 44, 26, 58, 26, 44, 40, 51, 47, 21, 29, 38, 48, 35, 37, 42, 63, 26, 29, 30, 37, 121, 50, 37, 35, 57, 76, 87, 38]}, {\"hovertemplate\": \"<b>Date</b>: %{x}<br><b>Tweets</b>: %{y}\", \"name\": \"animal liberation\", \"type\": \"scatter\", \"x\": [\"2019-02-10T00:00:00\", \"2019-02-17T00:00:00\", \"2019-02-24T00:00:00\", \"2019-03-03T00:00:00\", \"2019-03-10T00:00:00\", \"2019-03-17T00:00:00\", \"2019-03-24T00:00:00\", \"2019-03-31T00:00:00\", \"2019-04-07T00:00:00\", \"2019-04-14T00:00:00\", \"2019-04-21T00:00:00\", \"2019-04-28T00:00:00\", \"2019-05-05T00:00:00\", \"2019-05-12T00:00:00\", \"2019-05-19T00:00:00\", \"2019-05-26T00:00:00\", \"2019-06-02T00:00:00\", \"2019-06-09T00:00:00\", \"2019-06-16T00:00:00\", \"2019-06-23T00:00:00\", \"2019-06-30T00:00:00\", \"2019-07-07T00:00:00\", \"2019-07-14T00:00:00\", \"2019-07-21T00:00:00\", \"2019-07-28T00:00:00\", \"2019-08-04T00:00:00\", \"2019-08-11T00:00:00\", \"2019-08-18T00:00:00\", \"2019-08-25T00:00:00\", \"2019-09-01T00:00:00\", \"2019-09-08T00:00:00\", \"2019-09-15T00:00:00\", \"2019-09-22T00:00:00\", \"2019-09-29T00:00:00\", \"2019-10-06T00:00:00\", \"2019-10-13T00:00:00\", \"2019-10-20T00:00:00\", \"2019-10-27T00:00:00\", \"2019-11-03T00:00:00\", \"2019-11-10T00:00:00\", \"2019-11-17T00:00:00\", \"2019-11-24T00:00:00\", \"2019-12-01T00:00:00\", \"2019-12-08T00:00:00\", \"2019-12-15T00:00:00\", \"2019-12-22T00:00:00\", \"2019-12-29T00:00:00\", \"2020-01-05T00:00:00\", \"2020-01-12T00:00:00\", \"2020-01-19T00:00:00\", \"2020-01-26T00:00:00\", \"2020-02-02T00:00:00\", \"2020-02-09T00:00:00\", \"2020-02-16T00:00:00\", \"2020-02-23T00:00:00\", \"2020-03-01T00:00:00\"], \"y\": [114, 113, 149, 157, 125, 111, 118, 122, 130, 159, 110, 229, 157, 92, 81, 105, 180, 175, 104, 90, 84, 77, 109, 114, 82, 137, 162, 216, 226, 187, 163, 147, 126, 140, 119, 238, 142, 201, 213, 187, 217, 158, 173, 194, 147, 96, 145, 262, 235, 136, 127, 144, 134, 159, 158, 134]}, {\"hovertemplate\": \"<b>Date</b>: %{x}<br><b>Tweets</b>: %{y}\", \"name\": \"effective altruism\", \"type\": \"scatter\", \"x\": [\"2019-02-10T00:00:00\", \"2019-02-17T00:00:00\", \"2019-02-24T00:00:00\", \"2019-03-03T00:00:00\", \"2019-03-10T00:00:00\", \"2019-03-17T00:00:00\", \"2019-03-24T00:00:00\", \"2019-03-31T00:00:00\", \"2019-04-07T00:00:00\", \"2019-04-14T00:00:00\", \"2019-04-21T00:00:00\", \"2019-04-28T00:00:00\", \"2019-05-05T00:00:00\", \"2019-05-12T00:00:00\", \"2019-05-19T00:00:00\", \"2019-05-26T00:00:00\", \"2019-06-02T00:00:00\", \"2019-06-09T00:00:00\", \"2019-06-16T00:00:00\", \"2019-06-23T00:00:00\", \"2019-06-30T00:00:00\", \"2019-07-07T00:00:00\", \"2019-07-14T00:00:00\", \"2019-07-21T00:00:00\", \"2019-07-28T00:00:00\", \"2019-08-04T00:00:00\", \"2019-08-11T00:00:00\", \"2019-08-18T00:00:00\", \"2019-08-25T00:00:00\", \"2019-09-01T00:00:00\", \"2019-09-08T00:00:00\", \"2019-09-15T00:00:00\", \"2019-09-22T00:00:00\", \"2019-09-29T00:00:00\", \"2019-10-06T00:00:00\", \"2019-10-13T00:00:00\", \"2019-10-20T00:00:00\", \"2019-10-27T00:00:00\", \"2019-11-03T00:00:00\", \"2019-11-10T00:00:00\", \"2019-11-17T00:00:00\", \"2019-11-24T00:00:00\", \"2019-12-01T00:00:00\", \"2019-12-08T00:00:00\", \"2019-12-15T00:00:00\", \"2019-12-22T00:00:00\", \"2019-12-29T00:00:00\", \"2020-01-05T00:00:00\", \"2020-01-12T00:00:00\", \"2020-01-19T00:00:00\", \"2020-01-26T00:00:00\", \"2020-02-02T00:00:00\", \"2020-02-09T00:00:00\", \"2020-02-16T00:00:00\", \"2020-02-23T00:00:00\", \"2020-03-01T00:00:00\"], \"y\": [38, 47, 96, 93, 57, 46, 44, 28, 44, 66, 72, 81, 80, 51, 47, 36, 34, 46, 42, 64, 35, 44, 45, 46, 39, 55, 45, 36, 54, 48, 72, 63, 53, 62, 46, 39, 69, 36, 39, 48, 68, 63, 52, 120, 92, 63, 48, 75, 76, 64, 61, 60, 46, 72, 75, 55]}, {\"hovertemplate\": \"<b>Date</b>: %{x}<br><b>Tweets</b>: %{y}\", \"name\": \"effective advocacy\", \"type\": \"scatter\", \"x\": [\"2019-02-10T00:00:00\", \"2019-02-17T00:00:00\", \"2019-02-24T00:00:00\", \"2019-03-03T00:00:00\", \"2019-03-10T00:00:00\", \"2019-03-17T00:00:00\", \"2019-03-24T00:00:00\", \"2019-03-31T00:00:00\", \"2019-04-07T00:00:00\", \"2019-04-14T00:00:00\", \"2019-04-21T00:00:00\", \"2019-04-28T00:00:00\", \"2019-05-05T00:00:00\", \"2019-05-12T00:00:00\", \"2019-05-19T00:00:00\", \"2019-05-26T00:00:00\", \"2019-06-02T00:00:00\", \"2019-06-09T00:00:00\", \"2019-06-16T00:00:00\", \"2019-06-23T00:00:00\", \"2019-06-30T00:00:00\", \"2019-07-07T00:00:00\", \"2019-07-14T00:00:00\", \"2019-07-21T00:00:00\", \"2019-07-28T00:00:00\", \"2019-08-04T00:00:00\", \"2019-08-11T00:00:00\", \"2019-08-18T00:00:00\", \"2019-08-25T00:00:00\", \"2019-09-01T00:00:00\", \"2019-09-08T00:00:00\", \"2019-09-15T00:00:00\", \"2019-09-22T00:00:00\", \"2019-09-29T00:00:00\", \"2019-10-06T00:00:00\", \"2019-10-13T00:00:00\", \"2019-10-20T00:00:00\", \"2019-10-27T00:00:00\", \"2019-11-03T00:00:00\", \"2019-11-10T00:00:00\", \"2019-11-17T00:00:00\", \"2019-11-24T00:00:00\", \"2019-12-01T00:00:00\", \"2019-12-08T00:00:00\", \"2019-12-15T00:00:00\", \"2019-12-22T00:00:00\", \"2019-12-29T00:00:00\", \"2020-01-05T00:00:00\", \"2020-01-12T00:00:00\", \"2020-01-19T00:00:00\", \"2020-01-26T00:00:00\", \"2020-02-02T00:00:00\", \"2020-02-09T00:00:00\", \"2020-02-16T00:00:00\", \"2020-02-23T00:00:00\", \"2020-03-01T00:00:00\"], \"y\": [53, 61, 58, 70, 77, 54, 84, 62, 81, 68, 42, 56, 64, 63, 53, 61, 54, 58, 57, 71, 48, 41, 52, 39, 35, 58, 33, 70, 47, 58, 47, 48, 89, 76, 59, 64, 67, 57, 52, 77, 74, 68, 37, 50, 55, 40, 19, 34, 33, 45, 115, 97, 58, 79, 77, 56]}, {\"hovertemplate\": \"<b>Date</b>: %{x}<br><b>Tweets</b>: %{y}\", \"name\": \"animal protection\", \"type\": \"scatter\", \"x\": [\"2019-02-10T00:00:00\", \"2019-02-17T00:00:00\", \"2019-02-24T00:00:00\", \"2019-03-03T00:00:00\", \"2019-03-10T00:00:00\", \"2019-03-17T00:00:00\", \"2019-03-24T00:00:00\", \"2019-03-31T00:00:00\", \"2019-04-07T00:00:00\", \"2019-04-14T00:00:00\", \"2019-04-21T00:00:00\", \"2019-04-28T00:00:00\", \"2019-05-05T00:00:00\", \"2019-05-12T00:00:00\", \"2019-05-19T00:00:00\", \"2019-05-26T00:00:00\", \"2019-06-02T00:00:00\", \"2019-06-09T00:00:00\", \"2019-06-16T00:00:00\", \"2019-06-23T00:00:00\", \"2019-06-30T00:00:00\", \"2019-07-07T00:00:00\", \"2019-07-14T00:00:00\", \"2019-07-21T00:00:00\", \"2019-07-28T00:00:00\", \"2019-08-04T00:00:00\", \"2019-08-11T00:00:00\", \"2019-08-18T00:00:00\", \"2019-08-25T00:00:00\", \"2019-09-01T00:00:00\", \"2019-09-08T00:00:00\", \"2019-09-15T00:00:00\", \"2019-09-22T00:00:00\", \"2019-09-29T00:00:00\", \"2019-10-06T00:00:00\", \"2019-10-13T00:00:00\", \"2019-10-20T00:00:00\", \"2019-10-27T00:00:00\", \"2019-11-03T00:00:00\", \"2019-11-10T00:00:00\", \"2019-11-17T00:00:00\", \"2019-11-24T00:00:00\", \"2019-12-01T00:00:00\", \"2019-12-08T00:00:00\", \"2019-12-15T00:00:00\", \"2019-12-22T00:00:00\", \"2019-12-29T00:00:00\", \"2020-01-05T00:00:00\", \"2020-01-12T00:00:00\", \"2020-01-19T00:00:00\", \"2020-01-26T00:00:00\", \"2020-02-02T00:00:00\", \"2020-02-09T00:00:00\", \"2020-02-16T00:00:00\", \"2020-02-23T00:00:00\", \"2020-03-01T00:00:00\"], \"y\": [442, 541, 934, 390, 449, 380, 472, 379, 580, 426, 341, 333, 451, 346, 293, 309, 325, 373, 317, 323, 397, 356, 471, 418, 362, 492, 738, 621, 643, 497, 650, 607, 535, 1031, 852, 613, 894, 962, 703, 706, 520, 546, 671, 620, 622, 551, 434, 410, 495, 490, 755, 538, 475, 395, 433, 395]}],\n",
       "                        {\"template\": {\"data\": {\"bar\": [{\"error_x\": {\"color\": \"#2a3f5f\"}, \"error_y\": {\"color\": \"#2a3f5f\"}, \"marker\": {\"line\": {\"color\": \"#E5ECF6\", \"width\": 0.5}}, \"type\": \"bar\"}], \"barpolar\": [{\"marker\": {\"line\": {\"color\": \"#E5ECF6\", \"width\": 0.5}}, \"type\": \"barpolar\"}], \"carpet\": [{\"aaxis\": {\"endlinecolor\": \"#2a3f5f\", \"gridcolor\": \"white\", \"linecolor\": \"white\", \"minorgridcolor\": \"white\", \"startlinecolor\": \"#2a3f5f\"}, \"baxis\": {\"endlinecolor\": \"#2a3f5f\", \"gridcolor\": \"white\", \"linecolor\": \"white\", \"minorgridcolor\": \"white\", \"startlinecolor\": \"#2a3f5f\"}, \"type\": \"carpet\"}], \"choropleth\": [{\"colorbar\": {\"outlinewidth\": 0, \"ticks\": \"\"}, \"type\": \"choropleth\"}], \"contour\": [{\"colorbar\": {\"outlinewidth\": 0, \"ticks\": \"\"}, \"colorscale\": [[0.0, \"#0d0887\"], [0.1111111111111111, \"#46039f\"], [0.2222222222222222, \"#7201a8\"], [0.3333333333333333, \"#9c179e\"], [0.4444444444444444, \"#bd3786\"], [0.5555555555555556, \"#d8576b\"], [0.6666666666666666, \"#ed7953\"], [0.7777777777777778, \"#fb9f3a\"], [0.8888888888888888, \"#fdca26\"], [1.0, \"#f0f921\"]], \"type\": \"contour\"}], \"contourcarpet\": [{\"colorbar\": {\"outlinewidth\": 0, \"ticks\": \"\"}, \"type\": \"contourcarpet\"}], \"heatmap\": [{\"colorbar\": {\"outlinewidth\": 0, \"ticks\": \"\"}, \"colorscale\": [[0.0, \"#0d0887\"], [0.1111111111111111, \"#46039f\"], [0.2222222222222222, \"#7201a8\"], [0.3333333333333333, \"#9c179e\"], [0.4444444444444444, \"#bd3786\"], [0.5555555555555556, \"#d8576b\"], [0.6666666666666666, \"#ed7953\"], [0.7777777777777778, \"#fb9f3a\"], [0.8888888888888888, \"#fdca26\"], [1.0, \"#f0f921\"]], \"type\": \"heatmap\"}], \"heatmapgl\": [{\"colorbar\": {\"outlinewidth\": 0, \"ticks\": \"\"}, \"colorscale\": [[0.0, \"#0d0887\"], [0.1111111111111111, \"#46039f\"], [0.2222222222222222, \"#7201a8\"], [0.3333333333333333, \"#9c179e\"], [0.4444444444444444, \"#bd3786\"], [0.5555555555555556, \"#d8576b\"], [0.6666666666666666, \"#ed7953\"], [0.7777777777777778, \"#fb9f3a\"], [0.8888888888888888, \"#fdca26\"], [1.0, \"#f0f921\"]], \"type\": \"heatmapgl\"}], \"histogram\": [{\"marker\": {\"colorbar\": {\"outlinewidth\": 0, \"ticks\": \"\"}}, \"type\": \"histogram\"}], \"histogram2d\": [{\"colorbar\": {\"outlinewidth\": 0, \"ticks\": \"\"}, \"colorscale\": [[0.0, \"#0d0887\"], [0.1111111111111111, \"#46039f\"], [0.2222222222222222, \"#7201a8\"], [0.3333333333333333, \"#9c179e\"], [0.4444444444444444, \"#bd3786\"], [0.5555555555555556, \"#d8576b\"], [0.6666666666666666, \"#ed7953\"], [0.7777777777777778, \"#fb9f3a\"], [0.8888888888888888, \"#fdca26\"], [1.0, \"#f0f921\"]], \"type\": \"histogram2d\"}], \"histogram2dcontour\": [{\"colorbar\": {\"outlinewidth\": 0, \"ticks\": \"\"}, \"colorscale\": [[0.0, \"#0d0887\"], [0.1111111111111111, \"#46039f\"], [0.2222222222222222, \"#7201a8\"], [0.3333333333333333, \"#9c179e\"], [0.4444444444444444, \"#bd3786\"], [0.5555555555555556, \"#d8576b\"], [0.6666666666666666, \"#ed7953\"], [0.7777777777777778, \"#fb9f3a\"], [0.8888888888888888, \"#fdca26\"], [1.0, \"#f0f921\"]], \"type\": \"histogram2dcontour\"}], \"mesh3d\": [{\"colorbar\": {\"outlinewidth\": 0, \"ticks\": \"\"}, \"type\": \"mesh3d\"}], \"parcoords\": [{\"line\": {\"colorbar\": {\"outlinewidth\": 0, \"ticks\": \"\"}}, \"type\": \"parcoords\"}], \"pie\": [{\"automargin\": true, \"type\": \"pie\"}], \"scatter\": [{\"marker\": {\"colorbar\": {\"outlinewidth\": 0, \"ticks\": \"\"}}, \"type\": \"scatter\"}], \"scatter3d\": [{\"line\": {\"colorbar\": {\"outlinewidth\": 0, \"ticks\": \"\"}}, \"marker\": {\"colorbar\": {\"outlinewidth\": 0, \"ticks\": \"\"}}, \"type\": \"scatter3d\"}], \"scattercarpet\": [{\"marker\": {\"colorbar\": {\"outlinewidth\": 0, \"ticks\": \"\"}}, \"type\": \"scattercarpet\"}], \"scattergeo\": [{\"marker\": {\"colorbar\": {\"outlinewidth\": 0, \"ticks\": \"\"}}, \"type\": \"scattergeo\"}], \"scattergl\": [{\"marker\": {\"colorbar\": {\"outlinewidth\": 0, \"ticks\": \"\"}}, \"type\": \"scattergl\"}], \"scattermapbox\": [{\"marker\": {\"colorbar\": {\"outlinewidth\": 0, \"ticks\": \"\"}}, \"type\": \"scattermapbox\"}], \"scatterpolar\": [{\"marker\": {\"colorbar\": {\"outlinewidth\": 0, \"ticks\": \"\"}}, \"type\": \"scatterpolar\"}], \"scatterpolargl\": [{\"marker\": {\"colorbar\": {\"outlinewidth\": 0, \"ticks\": \"\"}}, \"type\": \"scatterpolargl\"}], \"scatterternary\": [{\"marker\": {\"colorbar\": {\"outlinewidth\": 0, \"ticks\": \"\"}}, \"type\": \"scatterternary\"}], \"surface\": [{\"colorbar\": {\"outlinewidth\": 0, \"ticks\": \"\"}, \"colorscale\": [[0.0, \"#0d0887\"], [0.1111111111111111, \"#46039f\"], [0.2222222222222222, \"#7201a8\"], [0.3333333333333333, \"#9c179e\"], [0.4444444444444444, \"#bd3786\"], [0.5555555555555556, \"#d8576b\"], [0.6666666666666666, \"#ed7953\"], [0.7777777777777778, \"#fb9f3a\"], [0.8888888888888888, \"#fdca26\"], [1.0, \"#f0f921\"]], \"type\": \"surface\"}], \"table\": [{\"cells\": {\"fill\": {\"color\": \"#EBF0F8\"}, \"line\": {\"color\": \"white\"}}, \"header\": {\"fill\": {\"color\": \"#C8D4E3\"}, \"line\": {\"color\": \"white\"}}, \"type\": \"table\"}]}, \"layout\": {\"annotationdefaults\": {\"arrowcolor\": \"#2a3f5f\", \"arrowhead\": 0, \"arrowwidth\": 1}, \"coloraxis\": {\"colorbar\": {\"outlinewidth\": 0, \"ticks\": \"\"}}, \"colorscale\": {\"diverging\": [[0, \"#8e0152\"], [0.1, \"#c51b7d\"], [0.2, \"#de77ae\"], [0.3, \"#f1b6da\"], [0.4, \"#fde0ef\"], [0.5, \"#f7f7f7\"], [0.6, \"#e6f5d0\"], [0.7, \"#b8e186\"], [0.8, \"#7fbc41\"], [0.9, \"#4d9221\"], [1, \"#276419\"]], \"sequential\": [[0.0, \"#0d0887\"], [0.1111111111111111, \"#46039f\"], [0.2222222222222222, \"#7201a8\"], [0.3333333333333333, \"#9c179e\"], [0.4444444444444444, \"#bd3786\"], [0.5555555555555556, \"#d8576b\"], [0.6666666666666666, \"#ed7953\"], [0.7777777777777778, \"#fb9f3a\"], [0.8888888888888888, \"#fdca26\"], [1.0, \"#f0f921\"]], \"sequentialminus\": [[0.0, \"#0d0887\"], [0.1111111111111111, \"#46039f\"], [0.2222222222222222, \"#7201a8\"], [0.3333333333333333, \"#9c179e\"], [0.4444444444444444, \"#bd3786\"], [0.5555555555555556, \"#d8576b\"], [0.6666666666666666, \"#ed7953\"], [0.7777777777777778, \"#fb9f3a\"], [0.8888888888888888, \"#fdca26\"], [1.0, \"#f0f921\"]]}, \"colorway\": [\"#636efa\", \"#EF553B\", \"#00cc96\", \"#ab63fa\", \"#FFA15A\", \"#19d3f3\", \"#FF6692\", \"#B6E880\", \"#FF97FF\", \"#FECB52\"], \"font\": {\"color\": \"#2a3f5f\"}, \"geo\": {\"bgcolor\": \"white\", \"lakecolor\": \"white\", \"landcolor\": \"#E5ECF6\", \"showlakes\": true, \"showland\": true, \"subunitcolor\": \"white\"}, \"hoverlabel\": {\"align\": \"left\"}, \"hovermode\": \"closest\", \"mapbox\": {\"style\": \"light\"}, \"paper_bgcolor\": \"white\", \"plot_bgcolor\": \"#E5ECF6\", \"polar\": {\"angularaxis\": {\"gridcolor\": \"white\", \"linecolor\": \"white\", \"ticks\": \"\"}, \"bgcolor\": \"#E5ECF6\", \"radialaxis\": {\"gridcolor\": \"white\", \"linecolor\": \"white\", \"ticks\": \"\"}}, \"scene\": {\"xaxis\": {\"backgroundcolor\": \"#E5ECF6\", \"gridcolor\": \"white\", \"gridwidth\": 2, \"linecolor\": \"white\", \"showbackground\": true, \"ticks\": \"\", \"zerolinecolor\": \"white\"}, \"yaxis\": {\"backgroundcolor\": \"#E5ECF6\", \"gridcolor\": \"white\", \"gridwidth\": 2, \"linecolor\": \"white\", \"showbackground\": true, \"ticks\": \"\", \"zerolinecolor\": \"white\"}, \"zaxis\": {\"backgroundcolor\": \"#E5ECF6\", \"gridcolor\": \"white\", \"gridwidth\": 2, \"linecolor\": \"white\", \"showbackground\": true, \"ticks\": \"\", \"zerolinecolor\": \"white\"}}, \"shapedefaults\": {\"line\": {\"color\": \"#2a3f5f\"}}, \"ternary\": {\"aaxis\": {\"gridcolor\": \"white\", \"linecolor\": \"white\", \"ticks\": \"\"}, \"baxis\": {\"gridcolor\": \"white\", \"linecolor\": \"white\", \"ticks\": \"\"}, \"bgcolor\": \"#E5ECF6\", \"caxis\": {\"gridcolor\": \"white\", \"linecolor\": \"white\", \"ticks\": \"\"}}, \"title\": {\"x\": 0.05}, \"xaxis\": {\"automargin\": true, \"gridcolor\": \"white\", \"linecolor\": \"white\", \"ticks\": \"\", \"title\": {\"standoff\": 15}, \"zerolinecolor\": \"white\", \"zerolinewidth\": 2}, \"yaxis\": {\"automargin\": true, \"gridcolor\": \"white\", \"linecolor\": \"white\", \"ticks\": \"\", \"title\": {\"standoff\": 15}, \"zerolinecolor\": \"white\", \"zerolinewidth\": 2}}}, \"title\": {\"text\": \"Twitter Keywords Searched Weekly\"}, \"xaxis\": {\"title\": {\"text\": \"Date\"}}, \"yaxis\": {\"title\": {\"text\": \"Number of Tweets Containing Keyword (Per Week)\"}}},\n",
       "                        {\"responsive\": true}\n",
       "                    ).then(function(){\n",
       "                            \n",
       "var gd = document.getElementById('c06b8073-1757-49c6-bfd4-1da6e1f30e49');\n",
       "var x = new MutationObserver(function (mutations, observer) {{\n",
       "        var display = window.getComputedStyle(gd).display;\n",
       "        if (!display || display === 'none') {{\n",
       "            console.log([gd, 'removed!']);\n",
       "            Plotly.purge(gd);\n",
       "            observer.disconnect();\n",
       "        }}\n",
       "}});\n",
       "\n",
       "// Listen for the removal of the full notebook cells\n",
       "var notebookContainer = gd.closest('#notebook-container');\n",
       "if (notebookContainer) {{\n",
       "    x.observe(notebookContainer, {childList: true});\n",
       "}}\n",
       "\n",
       "// Listen for the clearing of the current output cell\n",
       "var outputEl = gd.closest('.output');\n",
       "if (outputEl) {{\n",
       "    x.observe(outputEl, {childList: true});\n",
       "}}\n",
       "\n",
       "                        })\n",
       "                };\n",
       "                });\n",
       "            </script>\n",
       "        </div>"
      ]
     },
     "metadata": {},
     "output_type": "display_data"
    }
   ],
   "source": [
    "eaa_graph = graph_data(eaa_category_data, eaa_categories)\n",
    "eaa_graph.show()"
   ]
  },
  {
   "cell_type": "code",
   "execution_count": 67,
   "metadata": {},
   "outputs": [],
   "source": [
    "cage_free_graph.write_html(\"cage_free_graph.html\")\n",
    "clean_meat_graph.write_html(\"clean_meat_graph.html\")\n",
    "eaa_graph.write_html(\"eaa_graph.html\")"
   ]
  },
  {
   "cell_type": "code",
   "execution_count": null,
   "metadata": {},
   "outputs": [],
   "source": []
  }
 ],
 "metadata": {
  "kernelspec": {
   "display_name": "Python 3",
   "language": "python",
   "name": "python3"
  },
  "language_info": {
   "codemirror_mode": {
    "name": "ipython",
    "version": 3
   },
   "file_extension": ".py",
   "mimetype": "text/x-python",
   "name": "python",
   "nbconvert_exporter": "python",
   "pygments_lexer": "ipython3",
   "version": "3.7.4"
  }
 },
 "nbformat": 4,
 "nbformat_minor": 2
}
